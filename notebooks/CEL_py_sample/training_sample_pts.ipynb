{
 "cells": [
  {
   "cell_type": "code",
   "execution_count": 1,
   "id": "989552f5",
   "metadata": {},
   "outputs": [],
   "source": [
    "import os\n",
    "import sys\n",
    "import random\n",
    "from pathlib import Path\n",
    "import osgeo  #Needed for use on Windows only\n",
    "import matplotlib.pyplot as plt\n",
    "from rasterio import plot\n",
    "from rasterio.plot import show\n",
    "import geopandas as gpd\n",
    "from datetime import datetime\n",
    "import sqlalchemy as sa\n",
    "import pandas as pd\n",
    "%matplotlib inline"
   ]
  },
  {
   "cell_type": "code",
   "execution_count": 2,
   "id": "0af1add6",
   "metadata": {},
   "outputs": [],
   "source": [
    "sys.path.append(r\"../../src/collectcube\")\n",
    "from samplegen import *\n",
    "from db import *"
   ]
  },
  {
   "cell_type": "code",
   "execution_count": 3,
   "id": "6c8411a7",
   "metadata": {},
   "outputs": [],
   "source": [
    "out_dir = 'C:/GISprojects/ParaguayTraining'\n",
    "local_db_path = os.path.join(out_dir, 'py_training.db')\n",
    "## reference .tif with target crs and resolution\n",
    "ref_ras = Path(\"../../data/CEL_py/samp_ras.tif\")\n",
    "\n",
    "res = 10"
   ]
  },
  {
   "cell_type": "markdown",
   "id": "b9dc867e",
   "metadata": {},
   "source": [
    "## Create new pixel table from scratch"
   ]
  },
  {
   "cell_type": "code",
   "execution_count": null,
   "id": "281dcb5f",
   "metadata": {},
   "outputs": [],
   "source": [
    " # see create_db notebook"
   ]
  },
  {
   "cell_type": "markdown",
   "id": "864dd318",
   "metadata": {},
   "source": [
    "## Format existing points"
   ]
  },
  {
   "cell_type": "markdown",
   "id": "d9c49d56",
   "metadata": {},
   "source": [
    "### Get max pid in current table (to assign new ids to points to add)"
   ]
  },
  {
   "cell_type": "code",
   "execution_count": 107,
   "id": "e4cc2a6a",
   "metadata": {},
   "outputs": [
    {
     "name": "stdout",
     "output_type": "stream",
     "text": [
      "current max pid is 31471\n"
     ]
    }
   ],
   "source": [
    "maxpid = get_max_id_in_db(local_db_path)\n",
    "print(f'current max pid is {maxpid}')"
   ]
  },
  {
   "cell_type": "markdown",
   "id": "44fa1a3f",
   "metadata": {},
   "source": [
    "Need to make sure that the new pixel data has all of the same fields as the existing table. Need to pre-fill PID0 (starting with current max from above + 1), PID1 (0 usually for new points), PID (concat(PID,\"_\"PID1), cent_X & cent_Y (in project crs - EPSG 8858 here), and sampgroup. Save as CSV file to load below."
   ]
  },
  {
   "cell_type": "code",
   "execution_count": 109,
   "id": "dd7ad1ff",
   "metadata": {},
   "outputs": [
    {
     "name": "stdout",
     "output_type": "stream",
     "text": [
      "Empty GeoDataFrame\n",
      "Columns: [PID, Center, cent_X, cent_Y, cent_lat, cent_long, ransamp, checked, PID0, PID1, sampgroup, rand, rand2, geometry]\n",
      "Index: []\n"
     ]
    }
   ],
   "source": [
    "old_pts = pd.read_csv('C:/Users/klobw/Desktop/last_last.csv')\n",
    "#old_pts = pd.read_csv(os.path.join(out_dir,'lastpts.csv'))\n",
    "old_pts_df = gpd.GeoDataFrame(old_pts,geometry = gpd.points_from_xy(old_pts.cent_X, old_pts.cent_Y, crs=\"EPSG:8858\"))\n",
    "print(old_pts_df[old_pts_df['PID0'] == 31449])"
   ]
  },
  {
   "cell_type": "code",
   "execution_count": 110,
   "id": "a75c8904",
   "metadata": {},
   "outputs": [
    {
     "name": "stdout",
     "output_type": "stream",
     "text": [
      "Empty GeoDataFrame\n",
      "Columns: [PID, Center, cent_X, cent_Y, cent_lat, cent_long, ransamp, checked, PID0, PID1, sampgroup, rand, rand2, geometry]\n",
      "Index: []\n"
     ]
    }
   ],
   "source": [
    "old_pts_df.to_crs('4326')\n",
    "old_pts_df['cent_long'] = old_pts_df['geometry'].x\n",
    "old_pts_df['cent_lat'] = old_pts_df['geometry'].y\n",
    "old_pts_df.to_crs(\"EPSG:8858\")\n",
    "print(old_pts_df[old_pts_df['PID0'] == 31449])"
   ]
  },
  {
   "cell_type": "code",
   "execution_count": 111,
   "id": "a96b1cfb",
   "metadata": {},
   "outputs": [
    {
     "data": {
      "text/html": [
       "<div>\n",
       "<style scoped>\n",
       "    .dataframe tbody tr th:only-of-type {\n",
       "        vertical-align: middle;\n",
       "    }\n",
       "\n",
       "    .dataframe tbody tr th {\n",
       "        vertical-align: top;\n",
       "    }\n",
       "\n",
       "    .dataframe thead th {\n",
       "        text-align: right;\n",
       "    }\n",
       "</style>\n",
       "<table border=\"1\" class=\"dataframe\">\n",
       "  <thead>\n",
       "    <tr style=\"text-align: right;\">\n",
       "      <th></th>\n",
       "      <th>PID</th>\n",
       "      <th>Center</th>\n",
       "      <th>cent_X</th>\n",
       "      <th>cent_Y</th>\n",
       "      <th>cent_lat</th>\n",
       "      <th>cent_long</th>\n",
       "      <th>ransamp</th>\n",
       "      <th>checked</th>\n",
       "      <th>PID0</th>\n",
       "      <th>PID1</th>\n",
       "      <th>sampgroup</th>\n",
       "      <th>rand</th>\n",
       "      <th>rand2</th>\n",
       "      <th>geometry</th>\n",
       "    </tr>\n",
       "  </thead>\n",
       "  <tbody>\n",
       "    <tr>\n",
       "      <th>0</th>\n",
       "      <td>31472_0</td>\n",
       "      <td>1</td>\n",
       "      <td>3101422</td>\n",
       "      <td>-3432654</td>\n",
       "      <td>-3432654.0</td>\n",
       "      <td>3101422.0</td>\n",
       "      <td>0</td>\n",
       "      <td>0</td>\n",
       "      <td>31472</td>\n",
       "      <td>0</td>\n",
       "      <td>GE_extra</td>\n",
       "      <td>0.907977</td>\n",
       "      <td>0.050668</td>\n",
       "      <td>POINT (3101422.000 -3432654.000)</td>\n",
       "    </tr>\n",
       "    <tr>\n",
       "      <th>1</th>\n",
       "      <td>31473_0</td>\n",
       "      <td>1</td>\n",
       "      <td>3101663</td>\n",
       "      <td>-3432693</td>\n",
       "      <td>-3432693.0</td>\n",
       "      <td>3101663.0</td>\n",
       "      <td>0</td>\n",
       "      <td>0</td>\n",
       "      <td>31473</td>\n",
       "      <td>0</td>\n",
       "      <td>GE_extra</td>\n",
       "      <td>0.972399</td>\n",
       "      <td>0.391651</td>\n",
       "      <td>POINT (3101663.000 -3432693.000)</td>\n",
       "    </tr>\n",
       "    <tr>\n",
       "      <th>2</th>\n",
       "      <td>31474_0</td>\n",
       "      <td>1</td>\n",
       "      <td>3101443</td>\n",
       "      <td>-3432713</td>\n",
       "      <td>-3432713.0</td>\n",
       "      <td>3101443.0</td>\n",
       "      <td>0</td>\n",
       "      <td>0</td>\n",
       "      <td>31474</td>\n",
       "      <td>0</td>\n",
       "      <td>GE_extra</td>\n",
       "      <td>0.356496</td>\n",
       "      <td>0.106146</td>\n",
       "      <td>POINT (3101443.000 -3432713.000)</td>\n",
       "    </tr>\n",
       "    <tr>\n",
       "      <th>3</th>\n",
       "      <td>31475_0</td>\n",
       "      <td>1</td>\n",
       "      <td>3080536</td>\n",
       "      <td>-3095766</td>\n",
       "      <td>-3095766.0</td>\n",
       "      <td>3080536.0</td>\n",
       "      <td>0</td>\n",
       "      <td>0</td>\n",
       "      <td>31475</td>\n",
       "      <td>0</td>\n",
       "      <td>GE_extra</td>\n",
       "      <td>0.144717</td>\n",
       "      <td>0.524063</td>\n",
       "      <td>POINT (3080536.000 -3095766.000)</td>\n",
       "    </tr>\n",
       "    <tr>\n",
       "      <th>4</th>\n",
       "      <td>31476_0</td>\n",
       "      <td>1</td>\n",
       "      <td>3080917</td>\n",
       "      <td>-3095723</td>\n",
       "      <td>-3095723.0</td>\n",
       "      <td>3080917.0</td>\n",
       "      <td>0</td>\n",
       "      <td>0</td>\n",
       "      <td>31476</td>\n",
       "      <td>0</td>\n",
       "      <td>GE_extra</td>\n",
       "      <td>0.481875</td>\n",
       "      <td>0.146777</td>\n",
       "      <td>POINT (3080917.000 -3095723.000)</td>\n",
       "    </tr>\n",
       "  </tbody>\n",
       "</table>\n",
       "</div>"
      ],
      "text/plain": [
       "       PID  Center   cent_X   cent_Y   cent_lat  cent_long  ransamp  checked  \\\n",
       "0  31472_0       1  3101422 -3432654 -3432654.0  3101422.0        0        0   \n",
       "1  31473_0       1  3101663 -3432693 -3432693.0  3101663.0        0        0   \n",
       "2  31474_0       1  3101443 -3432713 -3432713.0  3101443.0        0        0   \n",
       "3  31475_0       1  3080536 -3095766 -3095766.0  3080536.0        0        0   \n",
       "4  31476_0       1  3080917 -3095723 -3095723.0  3080917.0        0        0   \n",
       "\n",
       "    PID0  PID1 sampgroup      rand     rand2                          geometry  \n",
       "0  31472     0  GE_extra  0.907977  0.050668  POINT (3101422.000 -3432654.000)  \n",
       "1  31473     0  GE_extra  0.972399  0.391651  POINT (3101663.000 -3432693.000)  \n",
       "2  31474     0  GE_extra  0.356496  0.106146  POINT (3101443.000 -3432713.000)  \n",
       "3  31475     0  GE_extra  0.144717  0.524063  POINT (3080536.000 -3095766.000)  \n",
       "4  31476     0  GE_extra  0.481875  0.146777  POINT (3080917.000 -3095723.000)  "
      ]
     },
     "execution_count": 111,
     "metadata": {},
     "output_type": "execute_result"
    }
   ],
   "source": [
    "old_pts_df.head()"
   ]
  },
  {
   "cell_type": "code",
   "execution_count": 112,
   "id": "e2c18412",
   "metadata": {},
   "outputs": [
    {
     "name": "stdout",
     "output_type": "stream",
     "text": [
      "ref_ras has crs:EPSG:8858\n"
     ]
    }
   ],
   "source": [
    "ptfile = os.path.join(out_dir,'lastPtsLAST2_cent.shp')\n",
    "centered_pts = move_points_to_pixel_centroids(old_pts_df, ref_ras, write_pts=True, ptsout=ptfile)"
   ]
  },
  {
   "cell_type": "code",
   "execution_count": 57,
   "id": "fa608685",
   "metadata": {},
   "outputs": [
    {
     "name": "stdout",
     "output_type": "stream",
     "text": [
      "geometry    POINT (3070020.000 -3048540.000)\n",
      "Name: 31449, dtype: geometry\n"
     ]
    }
   ],
   "source": [
    "print(centered_pts.loc[31449])"
   ]
  },
  {
   "cell_type": "code",
   "execution_count": 113,
   "id": "be05eb5d",
   "metadata": {},
   "outputs": [
    {
     "name": "stdout",
     "output_type": "stream",
     "text": [
      "<class 'geopandas.geodataframe.GeoDataFrame'>\n",
      "there are 88 neighbor pixels\n",
      "there are 99 total pixels\n"
     ]
    },
    {
     "data": {
      "text/html": [
       "<div>\n",
       "<style scoped>\n",
       "    .dataframe tbody tr th:only-of-type {\n",
       "        vertical-align: middle;\n",
       "    }\n",
       "\n",
       "    .dataframe tbody tr th {\n",
       "        vertical-align: top;\n",
       "    }\n",
       "\n",
       "    .dataframe thead th {\n",
       "        text-align: right;\n",
       "    }\n",
       "</style>\n",
       "<table border=\"1\" class=\"dataframe\">\n",
       "  <thead>\n",
       "    <tr style=\"text-align: right;\">\n",
       "      <th></th>\n",
       "      <th>geometry</th>\n",
       "      <th>PID</th>\n",
       "      <th>Center</th>\n",
       "    </tr>\n",
       "  </thead>\n",
       "  <tbody>\n",
       "    <tr>\n",
       "      <th>31472</th>\n",
       "      <td>POINT (3101430.000 -3432650.000)</td>\n",
       "      <td>0031472_0</td>\n",
       "      <td>1</td>\n",
       "    </tr>\n",
       "    <tr>\n",
       "      <th>31473</th>\n",
       "      <td>POINT (3101670.000 -3432690.000)</td>\n",
       "      <td>0031473_0</td>\n",
       "      <td>1</td>\n",
       "    </tr>\n",
       "    <tr>\n",
       "      <th>31474</th>\n",
       "      <td>POINT (3101450.000 -3432710.000)</td>\n",
       "      <td>0031474_0</td>\n",
       "      <td>1</td>\n",
       "    </tr>\n",
       "    <tr>\n",
       "      <th>31475</th>\n",
       "      <td>POINT (3080550.000 -3095780.000)</td>\n",
       "      <td>0031475_0</td>\n",
       "      <td>1</td>\n",
       "    </tr>\n",
       "    <tr>\n",
       "      <th>31476</th>\n",
       "      <td>POINT (3080930.000 -3095730.000)</td>\n",
       "      <td>0031476_0</td>\n",
       "      <td>1</td>\n",
       "    </tr>\n",
       "  </tbody>\n",
       "</table>\n",
       "</div>"
      ],
      "text/plain": [
       "                               geometry        PID  Center\n",
       "31472  POINT (3101430.000 -3432650.000)  0031472_0       1\n",
       "31473  POINT (3101670.000 -3432690.000)  0031473_0       1\n",
       "31474  POINT (3101450.000 -3432710.000)  0031474_0       1\n",
       "31475  POINT (3080550.000 -3095780.000)  0031475_0       1\n",
       "31476  POINT (3080930.000 -3095730.000)  0031476_0       1"
      ]
     },
     "execution_count": 113,
     "metadata": {},
     "output_type": "execute_result"
    }
   ],
   "source": [
    "all_pts = get_full_point_file(centered_pts, pt_file_out=None, res=res, lastpt=-1, write_pts=False)\n",
    "all_pts.head()"
   ]
  },
  {
   "cell_type": "code",
   "execution_count": 114,
   "id": "45fc83be",
   "metadata": {},
   "outputs": [
    {
     "data": {
      "text/html": [
       "<div>\n",
       "<style scoped>\n",
       "    .dataframe tbody tr th:only-of-type {\n",
       "        vertical-align: middle;\n",
       "    }\n",
       "\n",
       "    .dataframe tbody tr th {\n",
       "        vertical-align: top;\n",
       "    }\n",
       "\n",
       "    .dataframe thead th {\n",
       "        text-align: right;\n",
       "    }\n",
       "</style>\n",
       "<table border=\"1\" class=\"dataframe\">\n",
       "  <thead>\n",
       "    <tr style=\"text-align: right;\">\n",
       "      <th></th>\n",
       "      <th>geometry</th>\n",
       "    </tr>\n",
       "  </thead>\n",
       "  <tbody>\n",
       "    <tr>\n",
       "      <th>0</th>\n",
       "      <td>POLYGON ((3101435.000 -3432655.000, 3101435.00...</td>\n",
       "    </tr>\n",
       "    <tr>\n",
       "      <th>1</th>\n",
       "      <td>POLYGON ((3101675.000 -3432695.000, 3101675.00...</td>\n",
       "    </tr>\n",
       "    <tr>\n",
       "      <th>2</th>\n",
       "      <td>POLYGON ((3101455.000 -3432715.000, 3101455.00...</td>\n",
       "    </tr>\n",
       "    <tr>\n",
       "      <th>3</th>\n",
       "      <td>POLYGON ((3080555.000 -3095785.000, 3080555.00...</td>\n",
       "    </tr>\n",
       "    <tr>\n",
       "      <th>4</th>\n",
       "      <td>POLYGON ((3080935.000 -3095735.000, 3080935.00...</td>\n",
       "    </tr>\n",
       "    <tr>\n",
       "      <th>...</th>\n",
       "      <td>...</td>\n",
       "    </tr>\n",
       "    <tr>\n",
       "      <th>94</th>\n",
       "      <td>POLYGON ((3081005.000 -3094065.000, 3081005.00...</td>\n",
       "    </tr>\n",
       "    <tr>\n",
       "      <th>95</th>\n",
       "      <td>POLYGON ((3081025.000 -3094065.000, 3081025.00...</td>\n",
       "    </tr>\n",
       "    <tr>\n",
       "      <th>96</th>\n",
       "      <td>POLYGON ((3081005.000 -3094075.000, 3081005.00...</td>\n",
       "    </tr>\n",
       "    <tr>\n",
       "      <th>97</th>\n",
       "      <td>POLYGON ((3081015.000 -3094075.000, 3081015.00...</td>\n",
       "    </tr>\n",
       "    <tr>\n",
       "      <th>98</th>\n",
       "      <td>POLYGON ((3081025.000 -3094075.000, 3081025.00...</td>\n",
       "    </tr>\n",
       "  </tbody>\n",
       "</table>\n",
       "<p>99 rows × 1 columns</p>\n",
       "</div>"
      ],
      "text/plain": [
       "                                             geometry\n",
       "0   POLYGON ((3101435.000 -3432655.000, 3101435.00...\n",
       "1   POLYGON ((3101675.000 -3432695.000, 3101675.00...\n",
       "2   POLYGON ((3101455.000 -3432715.000, 3101455.00...\n",
       "3   POLYGON ((3080555.000 -3095785.000, 3080555.00...\n",
       "4   POLYGON ((3080935.000 -3095735.000, 3080935.00...\n",
       "..                                                ...\n",
       "94  POLYGON ((3081005.000 -3094065.000, 3081005.00...\n",
       "95  POLYGON ((3081025.000 -3094065.000, 3081025.00...\n",
       "96  POLYGON ((3081005.000 -3094075.000, 3081005.00...\n",
       "97  POLYGON ((3081015.000 -3094075.000, 3081015.00...\n",
       "98  POLYGON ((3081025.000 -3094075.000, 3081025.00...\n",
       "\n",
       "[99 rows x 1 columns]"
      ]
     },
     "execution_count": 114,
     "metadata": {},
     "output_type": "execute_result"
    }
   ],
   "source": [
    "boxfile = os.path.join(out_dir,'training_boxes_lastPtsLAST2.shp')\n",
    "make_pixel_boxes_from_pts(all_pts, boxfile, res, write_boxes=True)"
   ]
  },
  {
   "cell_type": "code",
   "execution_count": 115,
   "id": "f4501d52",
   "metadata": {},
   "outputs": [
    {
     "data": {
      "text/html": [
       "<div>\n",
       "<style scoped>\n",
       "    .dataframe tbody tr th:only-of-type {\n",
       "        vertical-align: middle;\n",
       "    }\n",
       "\n",
       "    .dataframe tbody tr th {\n",
       "        vertical-align: top;\n",
       "    }\n",
       "\n",
       "    .dataframe thead th {\n",
       "        text-align: right;\n",
       "    }\n",
       "</style>\n",
       "<table border=\"1\" class=\"dataframe\">\n",
       "  <thead>\n",
       "    <tr style=\"text-align: right;\">\n",
       "      <th></th>\n",
       "      <th>PID</th>\n",
       "      <th>Center</th>\n",
       "      <th>cent_X</th>\n",
       "      <th>cent_Y</th>\n",
       "      <th>cent_lat</th>\n",
       "      <th>cent_long</th>\n",
       "      <th>ransamp</th>\n",
       "      <th>checked</th>\n",
       "      <th>PID0</th>\n",
       "      <th>PID1</th>\n",
       "      <th>sampgroup</th>\n",
       "      <th>rand</th>\n",
       "      <th>rand2</th>\n",
       "    </tr>\n",
       "  </thead>\n",
       "  <tbody>\n",
       "    <tr>\n",
       "      <th>0</th>\n",
       "      <td>0031472_0</td>\n",
       "      <td>1</td>\n",
       "      <td>3101430.0</td>\n",
       "      <td>-3432650.0</td>\n",
       "      <td>-27.239530</td>\n",
       "      <td>-55.813895</td>\n",
       "      <td>1</td>\n",
       "      <td>0</td>\n",
       "      <td>31472</td>\n",
       "      <td>0</td>\n",
       "      <td>GE_extra</td>\n",
       "      <td>0.907977</td>\n",
       "      <td>0.050668</td>\n",
       "    </tr>\n",
       "    <tr>\n",
       "      <th>1</th>\n",
       "      <td>0031472_1</td>\n",
       "      <td>0</td>\n",
       "      <td>3101420.0</td>\n",
       "      <td>-3432640.0</td>\n",
       "      <td>-27.239447</td>\n",
       "      <td>-55.814017</td>\n",
       "      <td>1</td>\n",
       "      <td>0</td>\n",
       "      <td>31472</td>\n",
       "      <td>1</td>\n",
       "      <td>GE_extra</td>\n",
       "      <td>0.907977</td>\n",
       "      <td>0.050668</td>\n",
       "    </tr>\n",
       "    <tr>\n",
       "      <th>2</th>\n",
       "      <td>0031472_2</td>\n",
       "      <td>0</td>\n",
       "      <td>3101430.0</td>\n",
       "      <td>-3432640.0</td>\n",
       "      <td>-27.239447</td>\n",
       "      <td>-55.813906</td>\n",
       "      <td>1</td>\n",
       "      <td>0</td>\n",
       "      <td>31472</td>\n",
       "      <td>2</td>\n",
       "      <td>GE_extra</td>\n",
       "      <td>0.907977</td>\n",
       "      <td>0.050668</td>\n",
       "    </tr>\n",
       "    <tr>\n",
       "      <th>3</th>\n",
       "      <td>0031472_3</td>\n",
       "      <td>0</td>\n",
       "      <td>3101440.0</td>\n",
       "      <td>-3432640.0</td>\n",
       "      <td>-27.239447</td>\n",
       "      <td>-55.813796</td>\n",
       "      <td>1</td>\n",
       "      <td>0</td>\n",
       "      <td>31472</td>\n",
       "      <td>3</td>\n",
       "      <td>GE_extra</td>\n",
       "      <td>0.907977</td>\n",
       "      <td>0.050668</td>\n",
       "    </tr>\n",
       "    <tr>\n",
       "      <th>4</th>\n",
       "      <td>0031472_4</td>\n",
       "      <td>0</td>\n",
       "      <td>3101420.0</td>\n",
       "      <td>-3432650.0</td>\n",
       "      <td>-27.239530</td>\n",
       "      <td>-55.814005</td>\n",
       "      <td>1</td>\n",
       "      <td>0</td>\n",
       "      <td>31472</td>\n",
       "      <td>4</td>\n",
       "      <td>GE_extra</td>\n",
       "      <td>0.907977</td>\n",
       "      <td>0.050668</td>\n",
       "    </tr>\n",
       "  </tbody>\n",
       "</table>\n",
       "</div>"
      ],
      "text/plain": [
       "         PID  Center     cent_X     cent_Y   cent_lat  cent_long  ransamp  \\\n",
       "0  0031472_0       1  3101430.0 -3432650.0 -27.239530 -55.813895        1   \n",
       "1  0031472_1       0  3101420.0 -3432640.0 -27.239447 -55.814017        1   \n",
       "2  0031472_2       0  3101430.0 -3432640.0 -27.239447 -55.813906        1   \n",
       "3  0031472_3       0  3101440.0 -3432640.0 -27.239447 -55.813796        1   \n",
       "4  0031472_4       0  3101420.0 -3432650.0 -27.239530 -55.814005        1   \n",
       "\n",
       "   checked   PID0  PID1 sampgroup      rand     rand2  \n",
       "0        0  31472     0  GE_extra  0.907977  0.050668  \n",
       "1        0  31472     1  GE_extra  0.907977  0.050668  \n",
       "2        0  31472     2  GE_extra  0.907977  0.050668  \n",
       "3        0  31472     3  GE_extra  0.907977  0.050668  \n",
       "4        0  31472     4  GE_extra  0.907977  0.050668  "
      ]
     },
     "execution_count": 115,
     "metadata": {},
     "output_type": "execute_result"
    }
   ],
   "source": [
    "pts_info = make_pixel_table(all_pts,samp_group=None)\n",
    "pts_info.drop(columns=['sampgroup'], inplace=True)\n",
    "#old_pts.rename({'sampGroup': 'sampgroup'}, axis='columns', inplace=True)  #Fixing mistake\n",
    "pts_info2 = pd.merge(pts_info,old_pts[['PID0','sampgroup','rand','rand2']],on='PID0', how='inner')\n",
    "pts_info2.head()"
   ]
  },
  {
   "cell_type": "code",
   "execution_count": 100,
   "id": "be67a9f0",
   "metadata": {},
   "outputs": [],
   "source": [
    "#print(pts_info2[pts_info2['PID0'] == 31449])"
   ]
  },
  {
   "cell_type": "markdown",
   "id": "fa074992",
   "metadata": {},
   "source": [
    "### To append new pixels to existing table (new pixels formatted above) "
   ]
  },
  {
   "cell_type": "code",
   "execution_count": 118,
   "id": "a9f7ce5c",
   "metadata": {},
   "outputs": [
    {
     "name": "stdout",
     "output_type": "stream",
     "text": [
      "              PID  Center     cent_X     cent_Y   cent_lat  cent_long  \\\n",
      "277510  0031482_4       0  3081000.0 -3094060.0 -24.458177 -56.400685   \n",
      "277511  0031482_5       0  3081020.0 -3094060.0 -24.458177 -56.400467   \n",
      "277512  0031482_6       0  3081000.0 -3094070.0 -24.458259 -56.400675   \n",
      "277513  0031482_7       0  3081010.0 -3094070.0 -24.458259 -56.400566   \n",
      "277514  0031482_8       0  3081020.0 -3094070.0 -24.458259 -56.400457   \n",
      "\n",
      "        ransamp  checked   PID0  PID1 sampgroup      rand     rand2 biome  \\\n",
      "277510        1        0  31482     4  GE_extra  0.564274  0.539983    BH   \n",
      "277511        1        0  31482     5  GE_extra  0.564274  0.539983    BH   \n",
      "277512        1        0  31482     6  GE_extra  0.564274  0.539983    BH   \n",
      "277513        1        0  31482     7  GE_extra  0.564274  0.539983    BH   \n",
      "277514        1        0  31482     8  GE_extra  0.564274  0.539983    BH   \n",
      "\n",
      "        gridCell  \n",
      "277510      3867  \n",
      "277511      3867  \n",
      "277512      3867  \n",
      "277513      3867  \n",
      "277514      3867  \n"
     ]
    }
   ],
   "source": [
    "make_pixel_table_in_db(vals2, local_db_path, treat_existing='append')\n",
    "table_check = check_table(local_db_path,'pixels')"
   ]
  },
  {
   "cell_type": "markdown",
   "id": "6e654097",
   "metadata": {},
   "source": [
    "### To update existing records in table"
   ]
  },
  {
   "cell_type": "markdown",
   "id": "32434235",
   "metadata": {},
   "source": [
    "###### Adding new fields\n",
    "For example here we want to add a field called gridCell containing the value of the 'gridCell' (from a polygon file) each point falls in and a field called 'biome' containing the biome (from a raster file) each point falls in"
   ]
  },
  {
   "cell_type": "code",
   "execution_count": null,
   "id": "16cac10f",
   "metadata": {},
   "outputs": [],
   "source": [
    "con = sqlite3.connect(local_db_path)\n",
    "c = con.cursor()\n",
    "## adding a new column to existing table\n",
    "c.execute(\"ALTER TABLE pixels ADD COLUMN biome TEXT\")\n",
    "con.commit()\n",
    "c.execute(\"ALTER TABLE pixels ADD COLUMN gridCell INTEGER\")\n",
    "con.commit()\n",
    "c.close()"
   ]
  },
  {
   "cell_type": "code",
   "execution_count": 120,
   "id": "3c76c43c",
   "metadata": {},
   "outputs": [
    {
     "data": {
      "text/html": [
       "<div>\n",
       "<style scoped>\n",
       "    .dataframe tbody tr th:only-of-type {\n",
       "        vertical-align: middle;\n",
       "    }\n",
       "\n",
       "    .dataframe tbody tr th {\n",
       "        vertical-align: top;\n",
       "    }\n",
       "\n",
       "    .dataframe thead th {\n",
       "        text-align: right;\n",
       "    }\n",
       "</style>\n",
       "<table border=\"1\" class=\"dataframe\">\n",
       "  <thead>\n",
       "    <tr style=\"text-align: right;\">\n",
       "      <th></th>\n",
       "      <th>PID</th>\n",
       "      <th>Center</th>\n",
       "      <th>cent_X</th>\n",
       "      <th>cent_Y</th>\n",
       "      <th>cent_lat</th>\n",
       "      <th>cent_long</th>\n",
       "      <th>ransamp</th>\n",
       "      <th>checked</th>\n",
       "      <th>PID0</th>\n",
       "      <th>PID1</th>\n",
       "      <th>sampgroup</th>\n",
       "      <th>rand</th>\n",
       "      <th>rand2</th>\n",
       "      <th>biome</th>\n",
       "      <th>gridCell</th>\n",
       "    </tr>\n",
       "  </thead>\n",
       "  <tbody>\n",
       "    <tr>\n",
       "      <th>277510</th>\n",
       "      <td>0031482_4</td>\n",
       "      <td>0</td>\n",
       "      <td>3081000.0</td>\n",
       "      <td>-3094060.0</td>\n",
       "      <td>-24.458177</td>\n",
       "      <td>-56.400685</td>\n",
       "      <td>1</td>\n",
       "      <td>0</td>\n",
       "      <td>31482</td>\n",
       "      <td>4</td>\n",
       "      <td>GE_extra</td>\n",
       "      <td>0.564274</td>\n",
       "      <td>0.539983</td>\n",
       "      <td>BH</td>\n",
       "      <td>3867</td>\n",
       "    </tr>\n",
       "    <tr>\n",
       "      <th>277511</th>\n",
       "      <td>0031482_5</td>\n",
       "      <td>0</td>\n",
       "      <td>3081020.0</td>\n",
       "      <td>-3094060.0</td>\n",
       "      <td>-24.458177</td>\n",
       "      <td>-56.400467</td>\n",
       "      <td>1</td>\n",
       "      <td>0</td>\n",
       "      <td>31482</td>\n",
       "      <td>5</td>\n",
       "      <td>GE_extra</td>\n",
       "      <td>0.564274</td>\n",
       "      <td>0.539983</td>\n",
       "      <td>BH</td>\n",
       "      <td>3867</td>\n",
       "    </tr>\n",
       "    <tr>\n",
       "      <th>277512</th>\n",
       "      <td>0031482_6</td>\n",
       "      <td>0</td>\n",
       "      <td>3081000.0</td>\n",
       "      <td>-3094070.0</td>\n",
       "      <td>-24.458259</td>\n",
       "      <td>-56.400675</td>\n",
       "      <td>1</td>\n",
       "      <td>0</td>\n",
       "      <td>31482</td>\n",
       "      <td>6</td>\n",
       "      <td>GE_extra</td>\n",
       "      <td>0.564274</td>\n",
       "      <td>0.539983</td>\n",
       "      <td>BH</td>\n",
       "      <td>3867</td>\n",
       "    </tr>\n",
       "    <tr>\n",
       "      <th>277513</th>\n",
       "      <td>0031482_7</td>\n",
       "      <td>0</td>\n",
       "      <td>3081010.0</td>\n",
       "      <td>-3094070.0</td>\n",
       "      <td>-24.458259</td>\n",
       "      <td>-56.400566</td>\n",
       "      <td>1</td>\n",
       "      <td>0</td>\n",
       "      <td>31482</td>\n",
       "      <td>7</td>\n",
       "      <td>GE_extra</td>\n",
       "      <td>0.564274</td>\n",
       "      <td>0.539983</td>\n",
       "      <td>BH</td>\n",
       "      <td>3867</td>\n",
       "    </tr>\n",
       "    <tr>\n",
       "      <th>277514</th>\n",
       "      <td>0031482_8</td>\n",
       "      <td>0</td>\n",
       "      <td>3081020.0</td>\n",
       "      <td>-3094070.0</td>\n",
       "      <td>-24.458259</td>\n",
       "      <td>-56.400457</td>\n",
       "      <td>1</td>\n",
       "      <td>0</td>\n",
       "      <td>31482</td>\n",
       "      <td>8</td>\n",
       "      <td>GE_extra</td>\n",
       "      <td>0.564274</td>\n",
       "      <td>0.539983</td>\n",
       "      <td>BH</td>\n",
       "      <td>3867</td>\n",
       "    </tr>\n",
       "  </tbody>\n",
       "</table>\n",
       "</div>"
      ],
      "text/plain": [
       "              PID  Center     cent_X     cent_Y   cent_lat  cent_long  \\\n",
       "277510  0031482_4       0  3081000.0 -3094060.0 -24.458177 -56.400685   \n",
       "277511  0031482_5       0  3081020.0 -3094060.0 -24.458177 -56.400467   \n",
       "277512  0031482_6       0  3081000.0 -3094070.0 -24.458259 -56.400675   \n",
       "277513  0031482_7       0  3081010.0 -3094070.0 -24.458259 -56.400566   \n",
       "277514  0031482_8       0  3081020.0 -3094070.0 -24.458259 -56.400457   \n",
       "\n",
       "        ransamp  checked   PID0  PID1 sampgroup      rand     rand2 biome  \\\n",
       "277510        1        0  31482     4  GE_extra  0.564274  0.539983    BH   \n",
       "277511        1        0  31482     5  GE_extra  0.564274  0.539983    BH   \n",
       "277512        1        0  31482     6  GE_extra  0.564274  0.539983    BH   \n",
       "277513        1        0  31482     7  GE_extra  0.564274  0.539983    BH   \n",
       "277514        1        0  31482     8  GE_extra  0.564274  0.539983    BH   \n",
       "\n",
       "        gridCell  \n",
       "277510      3867  \n",
       "277511      3867  \n",
       "277512      3867  \n",
       "277513      3867  \n",
       "277514      3867  "
      ]
     },
     "execution_count": 120,
     "metadata": {},
     "output_type": "execute_result"
    }
   ],
   "source": [
    "## Load pixel table\n",
    "conn = sqlite3.connect(local_db_path, isolation_level=None,\n",
    "    detect_types=sqlite3.PARSE_COLNAMES)\n",
    "db_df = pd.read_sql_query(\"SELECT * FROM pixels\", conn)\n",
    "db_df.tail()"
   ]
  },
  {
   "cell_type": "code",
   "execution_count": 116,
   "id": "dc0b6ade",
   "metadata": {},
   "outputs": [
    {
     "data": {
      "text/html": [
       "<div>\n",
       "<style scoped>\n",
       "    .dataframe tbody tr th:only-of-type {\n",
       "        vertical-align: middle;\n",
       "    }\n",
       "\n",
       "    .dataframe tbody tr th {\n",
       "        vertical-align: top;\n",
       "    }\n",
       "\n",
       "    .dataframe thead th {\n",
       "        text-align: right;\n",
       "    }\n",
       "</style>\n",
       "<table border=\"1\" class=\"dataframe\">\n",
       "  <thead>\n",
       "    <tr style=\"text-align: right;\">\n",
       "      <th></th>\n",
       "      <th>PID</th>\n",
       "      <th>Center</th>\n",
       "      <th>cent_X</th>\n",
       "      <th>cent_Y</th>\n",
       "      <th>cent_lat</th>\n",
       "      <th>cent_long</th>\n",
       "      <th>ransamp</th>\n",
       "      <th>checked</th>\n",
       "      <th>PID0</th>\n",
       "      <th>PID1</th>\n",
       "      <th>sampgroup</th>\n",
       "      <th>rand</th>\n",
       "      <th>rand2</th>\n",
       "      <th>biome</th>\n",
       "    </tr>\n",
       "  </thead>\n",
       "  <tbody>\n",
       "    <tr>\n",
       "      <th>94</th>\n",
       "      <td>0031482_4</td>\n",
       "      <td>0</td>\n",
       "      <td>3081000.0</td>\n",
       "      <td>-3094060.0</td>\n",
       "      <td>-24.458177</td>\n",
       "      <td>-56.400685</td>\n",
       "      <td>1</td>\n",
       "      <td>0</td>\n",
       "      <td>31482</td>\n",
       "      <td>4</td>\n",
       "      <td>GE_extra</td>\n",
       "      <td>0.564274</td>\n",
       "      <td>0.539983</td>\n",
       "      <td>BH</td>\n",
       "    </tr>\n",
       "    <tr>\n",
       "      <th>95</th>\n",
       "      <td>0031482_5</td>\n",
       "      <td>0</td>\n",
       "      <td>3081020.0</td>\n",
       "      <td>-3094060.0</td>\n",
       "      <td>-24.458177</td>\n",
       "      <td>-56.400467</td>\n",
       "      <td>1</td>\n",
       "      <td>0</td>\n",
       "      <td>31482</td>\n",
       "      <td>5</td>\n",
       "      <td>GE_extra</td>\n",
       "      <td>0.564274</td>\n",
       "      <td>0.539983</td>\n",
       "      <td>BH</td>\n",
       "    </tr>\n",
       "    <tr>\n",
       "      <th>96</th>\n",
       "      <td>0031482_6</td>\n",
       "      <td>0</td>\n",
       "      <td>3081000.0</td>\n",
       "      <td>-3094070.0</td>\n",
       "      <td>-24.458259</td>\n",
       "      <td>-56.400675</td>\n",
       "      <td>1</td>\n",
       "      <td>0</td>\n",
       "      <td>31482</td>\n",
       "      <td>6</td>\n",
       "      <td>GE_extra</td>\n",
       "      <td>0.564274</td>\n",
       "      <td>0.539983</td>\n",
       "      <td>BH</td>\n",
       "    </tr>\n",
       "    <tr>\n",
       "      <th>97</th>\n",
       "      <td>0031482_7</td>\n",
       "      <td>0</td>\n",
       "      <td>3081010.0</td>\n",
       "      <td>-3094070.0</td>\n",
       "      <td>-24.458259</td>\n",
       "      <td>-56.400566</td>\n",
       "      <td>1</td>\n",
       "      <td>0</td>\n",
       "      <td>31482</td>\n",
       "      <td>7</td>\n",
       "      <td>GE_extra</td>\n",
       "      <td>0.564274</td>\n",
       "      <td>0.539983</td>\n",
       "      <td>BH</td>\n",
       "    </tr>\n",
       "    <tr>\n",
       "      <th>98</th>\n",
       "      <td>0031482_8</td>\n",
       "      <td>0</td>\n",
       "      <td>3081020.0</td>\n",
       "      <td>-3094070.0</td>\n",
       "      <td>-24.458259</td>\n",
       "      <td>-56.400457</td>\n",
       "      <td>1</td>\n",
       "      <td>0</td>\n",
       "      <td>31482</td>\n",
       "      <td>8</td>\n",
       "      <td>GE_extra</td>\n",
       "      <td>0.564274</td>\n",
       "      <td>0.539983</td>\n",
       "      <td>BH</td>\n",
       "    </tr>\n",
       "  </tbody>\n",
       "</table>\n",
       "</div>"
      ],
      "text/plain": [
       "          PID  Center     cent_X     cent_Y   cent_lat  cent_long  ransamp  \\\n",
       "94  0031482_4       0  3081000.0 -3094060.0 -24.458177 -56.400685        1   \n",
       "95  0031482_5       0  3081020.0 -3094060.0 -24.458177 -56.400467        1   \n",
       "96  0031482_6       0  3081000.0 -3094070.0 -24.458259 -56.400675        1   \n",
       "97  0031482_7       0  3081010.0 -3094070.0 -24.458259 -56.400566        1   \n",
       "98  0031482_8       0  3081020.0 -3094070.0 -24.458259 -56.400457        1   \n",
       "\n",
       "    checked   PID0  PID1 sampgroup      rand     rand2 biome  \n",
       "94        0  31482     4  GE_extra  0.564274  0.539983    BH  \n",
       "95        0  31482     5  GE_extra  0.564274  0.539983    BH  \n",
       "96        0  31482     6  GE_extra  0.564274  0.539983    BH  \n",
       "97        0  31482     7  GE_extra  0.564274  0.539983    BH  \n",
       "98        0  31482     8  GE_extra  0.564274  0.539983    BH  "
      ]
     },
     "execution_count": 116,
     "metadata": {},
     "output_type": "execute_result"
    }
   ],
   "source": [
    "## To fill the biome field\n",
    "\n",
    "def get_val_at_XY(img,df,colname):\n",
    "    coords = [(x,y) for x, y in zip(df.cent_X, df.cent_Y)]\n",
    "    with rio.open(img) as src:\n",
    "        pts = [x[0] for x in src.sample(coords)]\n",
    "    df[colname] = pts\n",
    "\n",
    "    return df\n",
    "\n",
    "forstrat = 'C:/Users/klobw/Desktop/NasaProject/Paraguay/GIS_datasets/forest_strata3.tif'\n",
    "#vals = get_val_at_XY(forstrat,db_df,'biome')\n",
    "forstrat_key = {1:'Chaco', 2:'BS',3:'Cer', 4:'BH'}\n",
    "vals['biome'] = vals['biome'].replace(forstrat_key)\n",
    "vals.tail()"
   ]
  },
  {
   "cell_type": "code",
   "execution_count": 117,
   "id": "1e21f06b",
   "metadata": {},
   "outputs": [
    {
     "data": {
      "text/html": [
       "<div>\n",
       "<style scoped>\n",
       "    .dataframe tbody tr th:only-of-type {\n",
       "        vertical-align: middle;\n",
       "    }\n",
       "\n",
       "    .dataframe tbody tr th {\n",
       "        vertical-align: top;\n",
       "    }\n",
       "\n",
       "    .dataframe thead th {\n",
       "        text-align: right;\n",
       "    }\n",
       "</style>\n",
       "<table border=\"1\" class=\"dataframe\">\n",
       "  <thead>\n",
       "    <tr style=\"text-align: right;\">\n",
       "      <th></th>\n",
       "      <th>PID</th>\n",
       "      <th>Center</th>\n",
       "      <th>cent_X</th>\n",
       "      <th>cent_Y</th>\n",
       "      <th>cent_lat</th>\n",
       "      <th>cent_long</th>\n",
       "      <th>ransamp</th>\n",
       "      <th>checked</th>\n",
       "      <th>PID0</th>\n",
       "      <th>PID1</th>\n",
       "      <th>sampgroup</th>\n",
       "      <th>rand</th>\n",
       "      <th>rand2</th>\n",
       "      <th>biome</th>\n",
       "      <th>gridCell</th>\n",
       "    </tr>\n",
       "  </thead>\n",
       "  <tbody>\n",
       "    <tr>\n",
       "      <th>94</th>\n",
       "      <td>0031482_4</td>\n",
       "      <td>0</td>\n",
       "      <td>3081000.0</td>\n",
       "      <td>-3094060.0</td>\n",
       "      <td>-24.458177</td>\n",
       "      <td>-56.400685</td>\n",
       "      <td>1</td>\n",
       "      <td>0</td>\n",
       "      <td>31482</td>\n",
       "      <td>4</td>\n",
       "      <td>GE_extra</td>\n",
       "      <td>0.564274</td>\n",
       "      <td>0.539983</td>\n",
       "      <td>BH</td>\n",
       "      <td>3867</td>\n",
       "    </tr>\n",
       "    <tr>\n",
       "      <th>95</th>\n",
       "      <td>0031482_5</td>\n",
       "      <td>0</td>\n",
       "      <td>3081020.0</td>\n",
       "      <td>-3094060.0</td>\n",
       "      <td>-24.458177</td>\n",
       "      <td>-56.400467</td>\n",
       "      <td>1</td>\n",
       "      <td>0</td>\n",
       "      <td>31482</td>\n",
       "      <td>5</td>\n",
       "      <td>GE_extra</td>\n",
       "      <td>0.564274</td>\n",
       "      <td>0.539983</td>\n",
       "      <td>BH</td>\n",
       "      <td>3867</td>\n",
       "    </tr>\n",
       "    <tr>\n",
       "      <th>96</th>\n",
       "      <td>0031482_6</td>\n",
       "      <td>0</td>\n",
       "      <td>3081000.0</td>\n",
       "      <td>-3094070.0</td>\n",
       "      <td>-24.458259</td>\n",
       "      <td>-56.400675</td>\n",
       "      <td>1</td>\n",
       "      <td>0</td>\n",
       "      <td>31482</td>\n",
       "      <td>6</td>\n",
       "      <td>GE_extra</td>\n",
       "      <td>0.564274</td>\n",
       "      <td>0.539983</td>\n",
       "      <td>BH</td>\n",
       "      <td>3867</td>\n",
       "    </tr>\n",
       "    <tr>\n",
       "      <th>97</th>\n",
       "      <td>0031482_7</td>\n",
       "      <td>0</td>\n",
       "      <td>3081010.0</td>\n",
       "      <td>-3094070.0</td>\n",
       "      <td>-24.458259</td>\n",
       "      <td>-56.400566</td>\n",
       "      <td>1</td>\n",
       "      <td>0</td>\n",
       "      <td>31482</td>\n",
       "      <td>7</td>\n",
       "      <td>GE_extra</td>\n",
       "      <td>0.564274</td>\n",
       "      <td>0.539983</td>\n",
       "      <td>BH</td>\n",
       "      <td>3867</td>\n",
       "    </tr>\n",
       "    <tr>\n",
       "      <th>98</th>\n",
       "      <td>0031482_8</td>\n",
       "      <td>0</td>\n",
       "      <td>3081020.0</td>\n",
       "      <td>-3094070.0</td>\n",
       "      <td>-24.458259</td>\n",
       "      <td>-56.400457</td>\n",
       "      <td>1</td>\n",
       "      <td>0</td>\n",
       "      <td>31482</td>\n",
       "      <td>8</td>\n",
       "      <td>GE_extra</td>\n",
       "      <td>0.564274</td>\n",
       "      <td>0.539983</td>\n",
       "      <td>BH</td>\n",
       "      <td>3867</td>\n",
       "    </tr>\n",
       "  </tbody>\n",
       "</table>\n",
       "</div>"
      ],
      "text/plain": [
       "          PID  Center     cent_X     cent_Y   cent_lat  cent_long  ransamp  \\\n",
       "94  0031482_4       0  3081000.0 -3094060.0 -24.458177 -56.400685        1   \n",
       "95  0031482_5       0  3081020.0 -3094060.0 -24.458177 -56.400467        1   \n",
       "96  0031482_6       0  3081000.0 -3094070.0 -24.458259 -56.400675        1   \n",
       "97  0031482_7       0  3081010.0 -3094070.0 -24.458259 -56.400566        1   \n",
       "98  0031482_8       0  3081020.0 -3094070.0 -24.458259 -56.400457        1   \n",
       "\n",
       "    checked   PID0  PID1 sampgroup      rand     rand2 biome  gridCell  \n",
       "94        0  31482     4  GE_extra  0.564274  0.539983    BH      3867  \n",
       "95        0  31482     5  GE_extra  0.564274  0.539983    BH      3867  \n",
       "96        0  31482     6  GE_extra  0.564274  0.539983    BH      3867  \n",
       "97        0  31482     7  GE_extra  0.564274  0.539983    BH      3867  \n",
       "98        0  31482     8  GE_extra  0.564274  0.539983    BH      3867  "
      ]
     },
     "execution_count": 117,
     "metadata": {},
     "output_type": "execute_result"
    }
   ],
   "source": [
    "## To fill the gridCell field\n",
    "\n",
    "def get_val_at_XY_poly(poly_file,df,colname):\n",
    "    polys = gpd.read_file(poly_file)\n",
    "    points = gpd.GeoDataFrame(geometry=gpd.points_from_xy(x=df.cent_X, y=df.cent_Y), crs=polys.crs)\n",
    "    sj = gpd.sjoin(left_df=points, right_df=polys, how=\"left\", rsuffix=\"ply_\")\n",
    "    df[colname]=sj['UNQ'].astype('Int64')\n",
    "    return df\n",
    "\n",
    "grids = 'C:/Users/klobw/Desktop/NasaProject/LUCinLA_grid_8858.gpkg'\n",
    "vals2 = get_val_at_XY_poly(grids,vals,'gridCell')\n",
    "vals2.tail()"
   ]
  },
  {
   "cell_type": "code",
   "execution_count": 69,
   "id": "8a55e26a",
   "metadata": {},
   "outputs": [],
   "source": [
    "#vals2.to_csv(os.path.join('C:/GISprojects/ParaguayTraining','allPix.csv'), index=False)"
   ]
  },
  {
   "cell_type": "markdown",
   "id": "d8d4b864",
   "metadata": {},
   "source": [
    "###### Updating data in existing fields from Pandas db"
   ]
  },
  {
   "cell_type": "code",
   "execution_count": 129,
   "id": "ed369029",
   "metadata": {},
   "outputs": [],
   "source": [
    "## Note this is slow if completely filling a new column \n",
    "##   but better than deleting all records because of auto-incremented record number\n",
    "\n",
    "def update_data(df,update_col,con):\n",
    "    c = con.cursor()\n",
    "    s_update = \"\"\n",
    "    for i in range(len(df)):\n",
    "        s_update += \"update pixels set biome = '%s' where PID = '%s';\"%(df[update_col][i], df['PID'][i])\n",
    "    c.executescript(s_update)\n",
    "    con.commit()\n",
    "    c.close()\n",
    "    \n",
    "con = sqlite3.connect(local_db_path)\n",
    "## NOTE need to repace column name in the method above. TODO fix this\n",
    "#update_data(vals2,'biome',con)"
   ]
  },
  {
   "cell_type": "markdown",
   "id": "73ef7ae8",
   "metadata": {},
   "source": [
    "###### Updating data in existing fields with arguments"
   ]
  },
  {
   "cell_type": "code",
   "execution_count": 124,
   "id": "d8637540",
   "metadata": {},
   "outputs": [
    {
     "data": {
      "text/plain": [
       "'\\ncon = sqlite3.connect(local_db_path)\\nc = con.cursor()\\nc.execute(\"UPDATE PixelVerification SET imgDate = \\'2013-07-23\\' WHERE imgDate =\\'7/23/2013\\'\")\\ncon.commit()\\nc.close()\\n'"
      ]
     },
     "execution_count": 124,
     "metadata": {},
     "output_type": "execute_result"
    }
   ],
   "source": [
    "'''\n",
    "con = sqlite3.connect(local_db_path)\n",
    "c = con.cursor()\n",
    "c.execute(\"UPDATE pixels SET cent_X = '2772120.0' WHERE PID0 = '30387'\")\n",
    "con.commit()\n",
    "c.close()\n",
    "'''\n",
    "'''\n",
    "con = sqlite3.connect(local_db_path)\n",
    "c = con.cursor()\n",
    "c.execute(\"UPDATE pixels SET sampgroup = 'CAN' WHERE sampgroup = 'CANcen+GE_KW'\")\n",
    "con.commit()\n",
    "c.close()\n",
    "'''\n",
    "'''\n",
    "con = sqlite3.connect(local_db_path)\n",
    "c = con.cursor()\n",
    "c.execute(\"UPDATE PixelVerification SET imgDate = '2013-07-23' WHERE imgDate ='7/23/2013'\")\n",
    "con.commit()\n",
    "c.close()\n",
    "'''"
   ]
  },
  {
   "cell_type": "markdown",
   "id": "2894cc4e",
   "metadata": {},
   "source": [
    "###### Deleting records -- WATCH OUT - there is not recovery after commiting"
   ]
  },
  {
   "cell_type": "code",
   "execution_count": null,
   "id": "24d7c910",
   "metadata": {},
   "outputs": [],
   "source": [
    "'''\n",
    "con = sqlite3.connect(local_db_path)\n",
    "c = con.cursor()\n",
    "c.execute(\"DELETE FROM pixels WHERE sampgroup = 'Ground_AtaValid'\")\n",
    "con.commit()\n",
    "c.close()\n",
    "'''"
   ]
  },
  {
   "cell_type": "markdown",
   "id": "7d37b4ce",
   "metadata": {},
   "source": [
    "###### Updating lat long coords after adjusting cent_X or cent_Y\n",
    "(When viewing a point, it is sometimes clear that the point does not quite fall within the field / land cover it is labeled for (this is especially common in ground data collected from the road). The point can easily be moved by updating cent_X or cent_Y with the methods above if these are in meters/feet (taking care to move in increments matching the pixel resolution so that the new point will be at a pixel center). After such adjustments, the lat/long fields need adjusting as well (this is better done in larger batches at the end of any editing sessions)   "
   ]
  },
  {
   "cell_type": "code",
   "execution_count": 101,
   "id": "70ec34d3",
   "metadata": {},
   "outputs": [],
   "source": [
    "## Load pixel table\n",
    "#conn = sqlite3.connect(local_db_path, isolation_level=None,\n",
    "#    detect_types=sqlite3.PARSE_COLNAMES)\n",
    "#df = pd.read_sql_query(\"SELECT * FROM pixels\", conn)\n",
    "\n",
    "gdf = gpd.GeoDataFrame(df,geometry = gpd.points_from_xy(df.cent_X, df.cent_Y, crs=\"EPSG:8858\"))\n",
    "gdfll = gdf.to_crs('4326')\n",
    "#print(gdfll[gdfll['PID0'] == 30387])\n",
    "gdfll['cent_long'] = gdfll['geometry'].x\n",
    "gdfll['cent_lat'] = gdfll['geometry'].y\n",
    "gdfutm = gdfll.to_crs(\"EPSG:8858\")\n",
    "gdfutm.drop(columns=['geometry'],inplace=True)\n",
    "#print(gdfutm[gdfutm['PID0'] == 30387])\n",
    "#gdfutm.to_csv(os.path.join('D:/NasaProject/temp_backup','allPix_adjusted.csv'), index=False)\n",
    "\n",
    "# Now use method in \"Updating data in existing fields from Pandas db\" above to update cent_long and cent_lat fields from gdfutm"
   ]
  },
  {
   "cell_type": "markdown",
   "id": "e8965157",
   "metadata": {},
   "source": [
    "## Make other db tables"
   ]
  },
  {
   "cell_type": "code",
   "execution_count": 10,
   "id": "19f0533a",
   "metadata": {},
   "outputs": [
    {
     "name": "stdout",
     "output_type": "stream",
     "text": [
      "added LC5 and PixVar tables to db\n"
     ]
    }
   ],
   "source": [
    "lc_lut = Path(\"../../data/Class_LUT.csv\")\n",
    "make_LC_table_from_lut(lc_lut, local_db_path, treat_existing='fail')\n",
    "make_simp_LC_table(lc_lut, local_db_path, [0,30,35,40,80,98], treat_existing='fail')\n",
    "make_db(local_db_path)"
   ]
  },
  {
   "cell_type": "markdown",
   "id": "9ff02a53",
   "metadata": {},
   "source": [
    "## checks:"
   ]
  },
  {
   "cell_type": "markdown",
   "id": "99074105",
   "metadata": {},
   "source": [
    "#### inspect a single record"
   ]
  },
  {
   "cell_type": "code",
   "execution_count": null,
   "id": "800d6ca7",
   "metadata": {},
   "outputs": [],
   "source": [
    "con = sqlite3.connect(local_db_path)\n",
    "c = con.cursor()\n",
    "c.execute(\"SELECT * FROM PixelVerification WHERE recID = '3573'\")\n",
    "con.commit()\n",
    "print(c.fetchone()) \n",
    "c.close()"
   ]
  },
  {
   "cell_type": "markdown",
   "id": "92505c93",
   "metadata": {},
   "source": [
    "#### Make sure table looks right and is correctly formatted"
   ]
  },
  {
   "cell_type": "code",
   "execution_count": null,
   "id": "ddae62cf",
   "metadata": {},
   "outputs": [],
   "source": [
    "engine = create_engine('sqlite:///'+ local_db_path)\n",
    "with engine.connect() as con:\n",
    "    df = pd.read_sql_table('pixels', con)\n",
    "df.head()"
   ]
  },
  {
   "cell_type": "code",
   "execution_count": 11,
   "id": "1e58bd27",
   "metadata": {},
   "outputs": [
    {
     "name": "stdout",
     "output_type": "stream",
     "text": [
      "[(0, ' ------'), (10, 'NoVeg'), (20, 'LowVeg'), (40, 'MedVeg'), (50, 'HighVeg'), (70, 'Trees'), (99, 'Unknown')]\n"
     ]
    }
   ],
   "source": [
    "engine = create_engine('sqlite:///'+ local_db_path)\n",
    "with engine.connect() as conn:\n",
    "    lc5_table = Table('LC5', MetaData(), autoload_with=engine)\n",
    "    rp = conn.execute(lc5_table.select())\n",
    "results = rp.fetchall() \n",
    "print(results)"
   ]
  },
  {
   "cell_type": "code",
   "execution_count": 99,
   "id": "5475e8ca",
   "metadata": {},
   "outputs": [
    {
     "name": "stdout",
     "output_type": "stream",
     "text": [
      "              PID  Center     cent_X     cent_Y   cent_lat  cent_long  \\\n",
      "277411  0031471_4       0  3145070.0 -3123500.0 -24.698683 -55.671875   \n",
      "277412  0031471_5       0  3145090.0 -3123500.0 -24.698683 -55.671657   \n",
      "277413  0031471_6       0  3145070.0 -3123510.0 -24.698765 -55.671865   \n",
      "277414  0031471_7       0  3145080.0 -3123510.0 -24.698765 -55.671756   \n",
      "277415  0031471_8       0  3145090.0 -3123510.0 -24.698765 -55.671647   \n",
      "\n",
      "        ransamp  checked   PID0  PID1 sampgroup      rand     rand2 biome  \\\n",
      "277411        0        0  31471     4  GE_extra  0.110972  0.142119    BH   \n",
      "277412        0        0  31471     5  GE_extra  0.110972  0.142119    BH   \n",
      "277413        0        0  31471     6  GE_extra  0.110972  0.142119    BH   \n",
      "277414        0        0  31471     7  GE_extra  0.110972  0.142119    BH   \n",
      "277415        0        0  31471     8  GE_extra  0.110972  0.142119    BH   \n",
      "\n",
      "        gridCell  \n",
      "277411      3972  \n",
      "277412      3972  \n",
      "277413      3972  \n",
      "277414      3972  \n",
      "277415      3972  \n"
     ]
    }
   ],
   "source": [
    "#make_pixel_table_in_db(gdfutm, local_db_path, treat_existing='append')\n",
    "table_check = check_table(local_db_path,'pixels')"
   ]
  },
  {
   "cell_type": "markdown",
   "id": "c9c2d0c3",
   "metadata": {},
   "source": [
    "If the above fails, can convert to pandas df and export to find errors (then update with the methods above to fix)"
   ]
  },
  {
   "cell_type": "code",
   "execution_count": 5,
   "id": "11b3938f",
   "metadata": {},
   "outputs": [],
   "source": [
    "## This uses only sqllite and can be used to examine table if the above fails\n",
    "conn = sqlite3.connect(local_db_path, isolation_level=None,\n",
    "    detect_types=sqlite3.PARSE_COLNAMES)\n",
    "db_df = pd.read_sql_query(\"SELECT * FROM PixelVerification\", conn)\n",
    "db_df.tail()\n",
    "#db_df.to_csv(os.path.join('C:/GISprojects/ParaguayTraining','LatestPixDbInfo.csv'), index=False)"
   ]
  },
  {
   "cell_type": "code",
   "execution_count": 130,
   "id": "7f7d20ee",
   "metadata": {},
   "outputs": [
    {
     "name": "stdout",
     "output_type": "stream",
     "text": [
      "('0012116_0', 1, 3158690.0, -3242170.0, -25.670631889773432, -55.397545216907936, 0, 0, 12116, 0, 'rd_samp', 0.237514246, 0.404479651, 'BH', 3978)\n"
     ]
    }
   ],
   "source": [
    "con = sqlite3.connect(local_db_path)\n",
    "c = con.cursor()\n",
    "c.execute(\"SELECT * FROM pixels WHERE PID0 = '12116'\")\n",
    "con.commit()\n",
    "print(c.fetchone()) \n",
    "c.close()"
   ]
  }
 ],
 "metadata": {
  "kernelspec": {
   "display_name": "Python [conda env:anaconda3-venv.pheno]",
   "language": "python",
   "name": "conda-env-anaconda3-venv.pheno-py"
  },
  "language_info": {
   "codemirror_mode": {
    "name": "ipython",
    "version": 3
   },
   "file_extension": ".py",
   "mimetype": "text/x-python",
   "name": "python",
   "nbconvert_exporter": "python",
   "pygments_lexer": "ipython3",
   "version": "3.8.18"
  }
 },
 "nbformat": 4,
 "nbformat_minor": 5
}
