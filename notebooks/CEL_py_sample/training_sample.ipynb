{
 "cells": [
  {
   "cell_type": "code",
   "execution_count": 1,
   "id": "989552f5",
   "metadata": {},
   "outputs": [],
   "source": [
    "import os\n",
    "import sys\n",
    "import random\n",
    "from pathlib import Path\n",
    "import osgeo  #Needed for use on Windows only\n",
    "import matplotlib.pyplot as plt\n",
    "from rasterio import plot\n",
    "from rasterio.plot import show\n",
    "import geopandas as gpd\n",
    "from datetime import datetime\n",
    "import sqlalchemy as sa\n",
    "import pandas as pd\n",
    "%matplotlib inline"
   ]
  },
  {
   "cell_type": "code",
   "execution_count": 2,
   "id": "0af1add6",
   "metadata": {},
   "outputs": [],
   "source": [
    "sys.path.append(r\"../../src/collectcube\")\n",
    "from samplegen import *\n",
    "from db import *"
   ]
  },
  {
   "cell_type": "code",
   "execution_count": 3,
   "id": "6c8411a7",
   "metadata": {},
   "outputs": [],
   "source": [
    "out_dir = 'C:/GISprojects/ParaguayTraining'\n",
    "local_db_path = os.path.join(out_dir, 'py_training.db')\n",
    "## reference .tif with target crs and resolution\n",
    "ref_ras = Path(\"../../data/CEL_py/samp_ras.tif\")\n",
    "\n",
    "res = 10"
   ]
  },
  {
   "cell_type": "markdown",
   "id": "864dd318",
   "metadata": {},
   "source": [
    "## Format existing sample points"
   ]
  },
  {
   "cell_type": "code",
   "execution_count": 4,
   "id": "a75c8904",
   "metadata": {},
   "outputs": [
    {
     "data": {
      "text/html": [
       "<div>\n",
       "<style scoped>\n",
       "    .dataframe tbody tr th:only-of-type {\n",
       "        vertical-align: middle;\n",
       "    }\n",
       "\n",
       "    .dataframe tbody tr th {\n",
       "        vertical-align: top;\n",
       "    }\n",
       "\n",
       "    .dataframe thead th {\n",
       "        text-align: right;\n",
       "    }\n",
       "</style>\n",
       "<table border=\"1\" class=\"dataframe\">\n",
       "  <thead>\n",
       "    <tr style=\"text-align: right;\">\n",
       "      <th></th>\n",
       "      <th>PID</th>\n",
       "      <th>Center</th>\n",
       "      <th>cent_Y</th>\n",
       "      <th>cent_X</th>\n",
       "      <th>cent_lat</th>\n",
       "      <th>cent_long</th>\n",
       "      <th>ransamp</th>\n",
       "      <th>checked</th>\n",
       "      <th>PID0</th>\n",
       "      <th>PID1</th>\n",
       "      <th>sampgroup</th>\n",
       "      <th>rand</th>\n",
       "      <th>rand2</th>\n",
       "      <th>geometry</th>\n",
       "    </tr>\n",
       "  </thead>\n",
       "  <tbody>\n",
       "    <tr>\n",
       "      <th>0</th>\n",
       "      <td>0000001_0</td>\n",
       "      <td>1</td>\n",
       "      <td>-2775277</td>\n",
       "      <td>2813634</td>\n",
       "      <td>-2775277.0</td>\n",
       "      <td>2813634.0</td>\n",
       "      <td>0</td>\n",
       "      <td>NaN</td>\n",
       "      <td>1</td>\n",
       "      <td>0</td>\n",
       "      <td>CAN - unverified in GE</td>\n",
       "      <td>0.756024</td>\n",
       "      <td>0.53</td>\n",
       "      <td>POINT (2813634.000 -2775277.000)</td>\n",
       "    </tr>\n",
       "    <tr>\n",
       "      <th>1</th>\n",
       "      <td>0000002_0</td>\n",
       "      <td>1</td>\n",
       "      <td>-2776460</td>\n",
       "      <td>2813534</td>\n",
       "      <td>-2776460.0</td>\n",
       "      <td>2813534.0</td>\n",
       "      <td>0</td>\n",
       "      <td>NaN</td>\n",
       "      <td>2</td>\n",
       "      <td>0</td>\n",
       "      <td>CAN - unverified in GE</td>\n",
       "      <td>0.600634</td>\n",
       "      <td>0.34</td>\n",
       "      <td>POINT (2813534.000 -2776460.000)</td>\n",
       "    </tr>\n",
       "    <tr>\n",
       "      <th>2</th>\n",
       "      <td>0000003_0</td>\n",
       "      <td>1</td>\n",
       "      <td>-2776486</td>\n",
       "      <td>2814015</td>\n",
       "      <td>-2776486.0</td>\n",
       "      <td>2814015.0</td>\n",
       "      <td>0</td>\n",
       "      <td>NaN</td>\n",
       "      <td>3</td>\n",
       "      <td>0</td>\n",
       "      <td>CAN - unverified in GE</td>\n",
       "      <td>0.172018</td>\n",
       "      <td>0.59</td>\n",
       "      <td>POINT (2814015.000 -2776486.000)</td>\n",
       "    </tr>\n",
       "    <tr>\n",
       "      <th>3</th>\n",
       "      <td>0000004_0</td>\n",
       "      <td>1</td>\n",
       "      <td>-2776486</td>\n",
       "      <td>2814457</td>\n",
       "      <td>-2776486.0</td>\n",
       "      <td>2814457.0</td>\n",
       "      <td>0</td>\n",
       "      <td>NaN</td>\n",
       "      <td>4</td>\n",
       "      <td>0</td>\n",
       "      <td>CAN - unverified in GE</td>\n",
       "      <td>0.438246</td>\n",
       "      <td>0.79</td>\n",
       "      <td>POINT (2814457.000 -2776486.000)</td>\n",
       "    </tr>\n",
       "    <tr>\n",
       "      <th>4</th>\n",
       "      <td>0000005_0</td>\n",
       "      <td>1</td>\n",
       "      <td>-2776489</td>\n",
       "      <td>2813057</td>\n",
       "      <td>-2776489.0</td>\n",
       "      <td>2813057.0</td>\n",
       "      <td>0</td>\n",
       "      <td>NaN</td>\n",
       "      <td>5</td>\n",
       "      <td>0</td>\n",
       "      <td>CAN - unverified in GE</td>\n",
       "      <td>0.684106</td>\n",
       "      <td>0.30</td>\n",
       "      <td>POINT (2813057.000 -2776489.000)</td>\n",
       "    </tr>\n",
       "  </tbody>\n",
       "</table>\n",
       "</div>"
      ],
      "text/plain": [
       "         PID  Center   cent_Y   cent_X   cent_lat  cent_long  ransamp  \\\n",
       "0  0000001_0       1 -2775277  2813634 -2775277.0  2813634.0        0   \n",
       "1  0000002_0       1 -2776460  2813534 -2776460.0  2813534.0        0   \n",
       "2  0000003_0       1 -2776486  2814015 -2776486.0  2814015.0        0   \n",
       "3  0000004_0       1 -2776486  2814457 -2776486.0  2814457.0        0   \n",
       "4  0000005_0       1 -2776489  2813057 -2776489.0  2813057.0        0   \n",
       "\n",
       "   checked  PID0  PID1               sampgroup      rand  rand2  \\\n",
       "0      NaN     1     0  CAN - unverified in GE  0.756024   0.53   \n",
       "1      NaN     2     0  CAN - unverified in GE  0.600634   0.34   \n",
       "2      NaN     3     0  CAN - unverified in GE  0.172018   0.59   \n",
       "3      NaN     4     0  CAN - unverified in GE  0.438246   0.79   \n",
       "4      NaN     5     0  CAN - unverified in GE  0.684106   0.30   \n",
       "\n",
       "                           geometry  \n",
       "0  POINT (2813634.000 -2775277.000)  \n",
       "1  POINT (2813534.000 -2776460.000)  \n",
       "2  POINT (2814015.000 -2776486.000)  \n",
       "3  POINT (2814457.000 -2776486.000)  \n",
       "4  POINT (2813057.000 -2776489.000)  "
      ]
     },
     "execution_count": 4,
     "metadata": {},
     "output_type": "execute_result"
    }
   ],
   "source": [
    "old_pts = pd.read_csv(os.path.join(out_dir,'train_fordb.csv'))\n",
    "old_pts_df = gpd.GeoDataFrame(old_pts,geometry = gpd.points_from_xy(old_pts.cent_X, old_pts.cent_Y, crs=\"EPSG:8858\"))\n",
    "old_pts_df.to_crs('4326')\n",
    "old_pts_df['cent_long'] = old_pts_df['geometry'].x\n",
    "old_pts_df['cent_lat'] = old_pts_df['geometry'].y\n",
    "old_pts_df.to_crs(\"EPSG:8858\")\n",
    "old_pts_df.head()"
   ]
  },
  {
   "cell_type": "code",
   "execution_count": 5,
   "id": "e2c18412",
   "metadata": {},
   "outputs": [
    {
     "name": "stdout",
     "output_type": "stream",
     "text": [
      "ref_ras has crs:EPSG:8858\n"
     ]
    }
   ],
   "source": [
    "ptfile = os.path.join(out_dir,'training_pts_cent.shp')\n",
    "centered_pts = move_points_to_pixel_centroids(old_pts_df, ref_ras, write_pts=True, ptsout=ptfile)"
   ]
  },
  {
   "cell_type": "code",
   "execution_count": 6,
   "id": "fe2a55a7",
   "metadata": {},
   "outputs": [
    {
     "name": "stdout",
     "output_type": "stream",
     "text": [
      "<class 'geopandas.geodataframe.GeoDataFrame'>\n",
      "there are 229304 neighbor pixels\n",
      "there are 257967 total pixels\n"
     ]
    }
   ],
   "source": [
    "all_pts = get_full_point_file(centered_pts, pt_file_out=None, res=res, lastpt=-1, write_pts=False)"
   ]
  },
  {
   "cell_type": "code",
   "execution_count": 7,
   "id": "45fc83be",
   "metadata": {},
   "outputs": [
    {
     "data": {
      "text/html": [
       "<div>\n",
       "<style scoped>\n",
       "    .dataframe tbody tr th:only-of-type {\n",
       "        vertical-align: middle;\n",
       "    }\n",
       "\n",
       "    .dataframe tbody tr th {\n",
       "        vertical-align: top;\n",
       "    }\n",
       "\n",
       "    .dataframe thead th {\n",
       "        text-align: right;\n",
       "    }\n",
       "</style>\n",
       "<table border=\"1\" class=\"dataframe\">\n",
       "  <thead>\n",
       "    <tr style=\"text-align: right;\">\n",
       "      <th></th>\n",
       "      <th>geometry</th>\n",
       "    </tr>\n",
       "  </thead>\n",
       "  <tbody>\n",
       "    <tr>\n",
       "      <th>0</th>\n",
       "      <td>POLYGON ((2813645.000 -2775295.000, 2813645.00...</td>\n",
       "    </tr>\n",
       "    <tr>\n",
       "      <th>1</th>\n",
       "      <td>POLYGON ((2813545.000 -2776475.000, 2813545.00...</td>\n",
       "    </tr>\n",
       "    <tr>\n",
       "      <th>2</th>\n",
       "      <td>POLYGON ((2814025.000 -2776505.000, 2814025.00...</td>\n",
       "    </tr>\n",
       "    <tr>\n",
       "      <th>3</th>\n",
       "      <td>POLYGON ((2814475.000 -2776505.000, 2814475.00...</td>\n",
       "    </tr>\n",
       "    <tr>\n",
       "      <th>4</th>\n",
       "      <td>POLYGON ((2813075.000 -2776505.000, 2813075.00...</td>\n",
       "    </tr>\n",
       "    <tr>\n",
       "      <th>...</th>\n",
       "      <td>...</td>\n",
       "    </tr>\n",
       "    <tr>\n",
       "      <th>257962</th>\n",
       "      <td>POLYGON ((3078445.000 -3285655.000, 3078445.00...</td>\n",
       "    </tr>\n",
       "    <tr>\n",
       "      <th>257963</th>\n",
       "      <td>POLYGON ((3078465.000 -3285655.000, 3078465.00...</td>\n",
       "    </tr>\n",
       "    <tr>\n",
       "      <th>257964</th>\n",
       "      <td>POLYGON ((3078445.000 -3285665.000, 3078445.00...</td>\n",
       "    </tr>\n",
       "    <tr>\n",
       "      <th>257965</th>\n",
       "      <td>POLYGON ((3078455.000 -3285665.000, 3078455.00...</td>\n",
       "    </tr>\n",
       "    <tr>\n",
       "      <th>257966</th>\n",
       "      <td>POLYGON ((3078465.000 -3285665.000, 3078465.00...</td>\n",
       "    </tr>\n",
       "  </tbody>\n",
       "</table>\n",
       "<p>257967 rows × 1 columns</p>\n",
       "</div>"
      ],
      "text/plain": [
       "                                                 geometry\n",
       "0       POLYGON ((2813645.000 -2775295.000, 2813645.00...\n",
       "1       POLYGON ((2813545.000 -2776475.000, 2813545.00...\n",
       "2       POLYGON ((2814025.000 -2776505.000, 2814025.00...\n",
       "3       POLYGON ((2814475.000 -2776505.000, 2814475.00...\n",
       "4       POLYGON ((2813075.000 -2776505.000, 2813075.00...\n",
       "...                                                   ...\n",
       "257962  POLYGON ((3078445.000 -3285655.000, 3078445.00...\n",
       "257963  POLYGON ((3078465.000 -3285655.000, 3078465.00...\n",
       "257964  POLYGON ((3078445.000 -3285665.000, 3078445.00...\n",
       "257965  POLYGON ((3078455.000 -3285665.000, 3078455.00...\n",
       "257966  POLYGON ((3078465.000 -3285665.000, 3078465.00...\n",
       "\n",
       "[257967 rows x 1 columns]"
      ]
     },
     "execution_count": 7,
     "metadata": {},
     "output_type": "execute_result"
    }
   ],
   "source": [
    "boxfile = os.path.join(out_dir,'training_boxes.shp')\n",
    "make_pixel_boxes_from_pts(all_pts, boxfile, res, write_boxes=True)"
   ]
  },
  {
   "cell_type": "code",
   "execution_count": 8,
   "id": "f4501d52",
   "metadata": {},
   "outputs": [
    {
     "data": {
      "text/html": [
       "<div>\n",
       "<style scoped>\n",
       "    .dataframe tbody tr th:only-of-type {\n",
       "        vertical-align: middle;\n",
       "    }\n",
       "\n",
       "    .dataframe tbody tr th {\n",
       "        vertical-align: top;\n",
       "    }\n",
       "\n",
       "    .dataframe thead th {\n",
       "        text-align: right;\n",
       "    }\n",
       "</style>\n",
       "<table border=\"1\" class=\"dataframe\">\n",
       "  <thead>\n",
       "    <tr style=\"text-align: right;\">\n",
       "      <th></th>\n",
       "      <th>PID</th>\n",
       "      <th>Center</th>\n",
       "      <th>cent_X</th>\n",
       "      <th>cent_Y</th>\n",
       "      <th>cent_lat</th>\n",
       "      <th>cent_long</th>\n",
       "      <th>ransamp</th>\n",
       "      <th>checked</th>\n",
       "      <th>PID0</th>\n",
       "      <th>PID1</th>\n",
       "      <th>sampgroup</th>\n",
       "      <th>rand</th>\n",
       "      <th>rand2</th>\n",
       "    </tr>\n",
       "  </thead>\n",
       "  <tbody>\n",
       "    <tr>\n",
       "      <th>0</th>\n",
       "      <td>0000001_0</td>\n",
       "      <td>1</td>\n",
       "      <td>2813540.0</td>\n",
       "      <td>-2776470.0</td>\n",
       "      <td>-21.878185</td>\n",
       "      <td>-59.587592</td>\n",
       "      <td>1</td>\n",
       "      <td>0</td>\n",
       "      <td>1</td>\n",
       "      <td>0</td>\n",
       "      <td>CAN - unverified in GE</td>\n",
       "      <td>0.756024</td>\n",
       "      <td>0.53</td>\n",
       "    </tr>\n",
       "    <tr>\n",
       "      <th>1</th>\n",
       "      <td>0000001_1</td>\n",
       "      <td>0</td>\n",
       "      <td>2813530.0</td>\n",
       "      <td>-2776460.0</td>\n",
       "      <td>-21.878104</td>\n",
       "      <td>-59.587708</td>\n",
       "      <td>1</td>\n",
       "      <td>0</td>\n",
       "      <td>1</td>\n",
       "      <td>1</td>\n",
       "      <td>CAN - unverified in GE</td>\n",
       "      <td>0.756024</td>\n",
       "      <td>0.53</td>\n",
       "    </tr>\n",
       "    <tr>\n",
       "      <th>2</th>\n",
       "      <td>0000001_2</td>\n",
       "      <td>0</td>\n",
       "      <td>2813540.0</td>\n",
       "      <td>-2776460.0</td>\n",
       "      <td>-21.878104</td>\n",
       "      <td>-59.587599</td>\n",
       "      <td>1</td>\n",
       "      <td>0</td>\n",
       "      <td>1</td>\n",
       "      <td>2</td>\n",
       "      <td>CAN - unverified in GE</td>\n",
       "      <td>0.756024</td>\n",
       "      <td>0.53</td>\n",
       "    </tr>\n",
       "    <tr>\n",
       "      <th>3</th>\n",
       "      <td>0000001_3</td>\n",
       "      <td>0</td>\n",
       "      <td>2813550.0</td>\n",
       "      <td>-2776460.0</td>\n",
       "      <td>-21.878104</td>\n",
       "      <td>-59.587491</td>\n",
       "      <td>1</td>\n",
       "      <td>0</td>\n",
       "      <td>1</td>\n",
       "      <td>3</td>\n",
       "      <td>CAN - unverified in GE</td>\n",
       "      <td>0.756024</td>\n",
       "      <td>0.53</td>\n",
       "    </tr>\n",
       "    <tr>\n",
       "      <th>4</th>\n",
       "      <td>0000001_4</td>\n",
       "      <td>0</td>\n",
       "      <td>2813530.0</td>\n",
       "      <td>-2776470.0</td>\n",
       "      <td>-21.878185</td>\n",
       "      <td>-59.587700</td>\n",
       "      <td>1</td>\n",
       "      <td>0</td>\n",
       "      <td>1</td>\n",
       "      <td>4</td>\n",
       "      <td>CAN - unverified in GE</td>\n",
       "      <td>0.756024</td>\n",
       "      <td>0.53</td>\n",
       "    </tr>\n",
       "  </tbody>\n",
       "</table>\n",
       "</div>"
      ],
      "text/plain": [
       "         PID  Center     cent_X     cent_Y   cent_lat  cent_long  ransamp  \\\n",
       "0  0000001_0       1  2813540.0 -2776470.0 -21.878185 -59.587592        1   \n",
       "1  0000001_1       0  2813530.0 -2776460.0 -21.878104 -59.587708        1   \n",
       "2  0000001_2       0  2813540.0 -2776460.0 -21.878104 -59.587599        1   \n",
       "3  0000001_3       0  2813550.0 -2776460.0 -21.878104 -59.587491        1   \n",
       "4  0000001_4       0  2813530.0 -2776470.0 -21.878185 -59.587700        1   \n",
       "\n",
       "   checked  PID0  PID1               sampgroup      rand  rand2  \n",
       "0        0     1     0  CAN - unverified in GE  0.756024   0.53  \n",
       "1        0     1     1  CAN - unverified in GE  0.756024   0.53  \n",
       "2        0     1     2  CAN - unverified in GE  0.756024   0.53  \n",
       "3        0     1     3  CAN - unverified in GE  0.756024   0.53  \n",
       "4        0     1     4  CAN - unverified in GE  0.756024   0.53  "
      ]
     },
     "execution_count": 8,
     "metadata": {},
     "output_type": "execute_result"
    }
   ],
   "source": [
    "pts_info = make_pixel_table(all_pts,samp_group=None)\n",
    "pts_info.drop(columns=['sampgroup'], inplace=True)\n",
    "pts_info2 = pd.merge(pts_info,old_pts[['PID0','sampgroup','rand','rand2']],on='PID0', how='inner')\n",
    "pts_info2.head()"
   ]
  },
  {
   "cell_type": "code",
   "execution_count": 9,
   "id": "a8314c4b",
   "metadata": {},
   "outputs": [
    {
     "name": "stdout",
     "output_type": "stream",
     "text": [
      "              PID  Center     cent_X     cent_Y   cent_lat  cent_long  \\\n",
      "252130  0028662_4       0  3078440.0 -3285650.0 -26.027778 -56.230277   \n",
      "252131  0028662_5       0  3078460.0 -3285650.0 -26.027778 -56.230057   \n",
      "252132  0028662_6       0  3078440.0 -3285660.0 -26.027860 -56.230266   \n",
      "252133  0028662_7       0  3078450.0 -3285660.0 -26.027860 -56.230156   \n",
      "252134  0028662_8       0  3078460.0 -3285660.0 -26.027860 -56.230046   \n",
      "\n",
      "        ransamp  checked   PID0  PID1 sampgroup      rand     rand2  \n",
      "252130        1        0  28662     4     GE_KW  0.007343  0.227759  \n",
      "252131        1        0  28662     5     GE_KW  0.007343  0.227759  \n",
      "252132        1        0  28662     6     GE_KW  0.007343  0.227759  \n",
      "252133        1        0  28662     7     GE_KW  0.007343  0.227759  \n",
      "252134        1        0  28662     8     GE_KW  0.007343  0.227759  \n"
     ]
    }
   ],
   "source": [
    "make_pixel_table_in_db(pts_info2, local_db_path, treat_existing='append')\n",
    "table_check = check_table(local_db_path,'pixels')"
   ]
  },
  {
   "cell_type": "markdown",
   "id": "e8965157",
   "metadata": {},
   "source": [
    "## Make other db tables"
   ]
  },
  {
   "cell_type": "code",
   "execution_count": 10,
   "id": "19f0533a",
   "metadata": {},
   "outputs": [
    {
     "name": "stdout",
     "output_type": "stream",
     "text": [
      "added LC5 and PixVar tables to db\n"
     ]
    }
   ],
   "source": [
    "lc_lut = Path(\"../../data/Class_LUT.csv\")\n",
    "make_LC_table_from_lut(lc_lut, local_db_path, treat_existing='fail')\n",
    "make_simp_LC_table(lc_lut, local_db_path, [0,30,35,40,80,98], treat_existing='fail')\n",
    "make_db(local_db_path)"
   ]
  },
  {
   "cell_type": "markdown",
   "id": "9ff02a53",
   "metadata": {},
   "source": [
    "## checks:"
   ]
  },
  {
   "cell_type": "code",
   "execution_count": 11,
   "id": "1e58bd27",
   "metadata": {},
   "outputs": [
    {
     "name": "stdout",
     "output_type": "stream",
     "text": [
      "[(0, ' ------'), (10, 'NoVeg'), (20, 'LowVeg'), (40, 'MedVeg'), (50, 'HighVeg'), (70, 'Trees'), (99, 'Unknown')]\n"
     ]
    }
   ],
   "source": [
    "engine = create_engine('sqlite:///'+ local_db_path)\n",
    "with engine.connect() as conn:\n",
    "    lc5_table = Table('LC5', MetaData(), autoload_with=engine)\n",
    "    rp = conn.execute(lc5_table.select())\n",
    "results = rp.fetchall() \n",
    "print(results)"
   ]
  },
  {
   "cell_type": "markdown",
   "id": "b3951bd6",
   "metadata": {},
   "source": [
    "## updating db (should not need if starting new db)"
   ]
  },
  {
   "cell_type": "code",
   "execution_count": 6,
   "id": "ff7ea030",
   "metadata": {},
   "outputs": [],
   "source": [
    "'''\n",
    "con = sqlite3.connect(local_db_path)\n",
    "c = con.cursor()\n",
    "## adding a new column to existing table\n",
    "c.execute(\"ALTER TABLE PixelVerification ADD COLUMN entry_lev INTEGER\")\n",
    "## filling column in existing table\n",
    "#c.execute(\"UPDATE PixelVerification SET entry_lev = 4 WHERE entry_lev IS NULL\")\n",
    "con.commit()\n",
    "c.close()"
   ]
  },
  {
   "cell_type": "code",
   "execution_count": 19,
   "id": "1c9c03f9",
   "metadata": {},
   "outputs": [
    {
     "data": {
      "text/html": [
       "<div>\n",
       "<style scoped>\n",
       "    .dataframe tbody tr th:only-of-type {\n",
       "        vertical-align: middle;\n",
       "    }\n",
       "\n",
       "    .dataframe tbody tr th {\n",
       "        vertical-align: top;\n",
       "    }\n",
       "\n",
       "    .dataframe thead th {\n",
       "        text-align: right;\n",
       "    }\n",
       "</style>\n",
       "<table border=\"1\" class=\"dataframe\">\n",
       "  <thead>\n",
       "    <tr style=\"text-align: right;\">\n",
       "      <th></th>\n",
       "      <th>recID</th>\n",
       "      <th>PID</th>\n",
       "      <th>PID0</th>\n",
       "      <th>PID1</th>\n",
       "      <th>imgDate</th>\n",
       "      <th>LC5</th>\n",
       "      <th>LC</th>\n",
       "      <th>HOMONBHD9</th>\n",
       "      <th>ForestProx</th>\n",
       "      <th>WaterProx</th>\n",
       "      <th>...</th>\n",
       "      <th>HIGHVEG</th>\n",
       "      <th>TREEPLANT</th>\n",
       "      <th>FOREST</th>\n",
       "      <th>Age</th>\n",
       "      <th>Stability</th>\n",
       "      <th>State</th>\n",
       "      <th>Notes</th>\n",
       "      <th>entry_lev</th>\n",
       "      <th>FieldWidth</th>\n",
       "      <th>source</th>\n",
       "    </tr>\n",
       "  </thead>\n",
       "  <tbody>\n",
       "    <tr>\n",
       "      <th>0</th>\n",
       "      <td>1</td>\n",
       "      <td>0_0</td>\n",
       "      <td>0</td>\n",
       "      <td>0</td>\n",
       "      <td>2000-01-01</td>\n",
       "      <td>0</td>\n",
       "      <td>0</td>\n",
       "      <td>8</td>\n",
       "      <td>None</td>\n",
       "      <td>None</td>\n",
       "      <td>...</td>\n",
       "      <td>None</td>\n",
       "      <td>None</td>\n",
       "      <td>None</td>\n",
       "      <td>None</td>\n",
       "      <td>None</td>\n",
       "      <td>None</td>\n",
       "      <td>None</td>\n",
       "      <td>None</td>\n",
       "      <td>None</td>\n",
       "      <td>None</td>\n",
       "    </tr>\n",
       "  </tbody>\n",
       "</table>\n",
       "<p>1 rows × 31 columns</p>\n",
       "</div>"
      ],
      "text/plain": [
       "   recID  PID  PID0  PID1    imgDate  LC5  LC  HOMONBHD9 ForestProx WaterProx  \\\n",
       "0      1  0_0     0     0 2000-01-01    0   0          8       None      None   \n",
       "\n",
       "   ... HIGHVEG TREEPLANT FOREST   Age Stability State Notes entry_lev  \\\n",
       "0  ...    None      None   None  None      None  None  None      None   \n",
       "\n",
       "  FieldWidth source  \n",
       "0       None   None  \n",
       "\n",
       "[1 rows x 31 columns]"
      ]
     },
     "execution_count": 19,
     "metadata": {},
     "output_type": "execute_result"
    }
   ],
   "source": [
    "engine = create_engine('sqlite:///'+ local_db_path)\n",
    "with engine.connect() as con:\n",
    "    df = pd.read_sql_table('PixelVerification', con)\n",
    "df.head()"
   ]
  },
  {
   "cell_type": "markdown",
   "id": "d47f96ea",
   "metadata": {},
   "source": [
    "## add first record"
   ]
  },
  {
   "cell_type": "code",
   "execution_count": 13,
   "id": "99f1f488",
   "metadata": {},
   "outputs": [
    {
     "name": "stdout",
     "output_type": "stream",
     "text": [
      "(1,)\n"
     ]
    }
   ],
   "source": [
    "## first record:\n",
    "#testDate = datetime(2000,1,1)\n",
    "#with engine.connect() as conn:\n",
    "#    pixvar = Table('PixelVerification', MetaData(), autoload_with=engine)\n",
    "#    query = sa.insert(pixvar).values(PID='0_0', PID0=0, PID1=0, imgDate=testDate,LC5=0,LC=0,HOMONBHD9=8) \n",
    "#    go = conn.execute(query)\n",
    "#    conn.commit()\n",
    "#print(go.inserted_primary_key)"
   ]
  },
  {
   "cell_type": "markdown",
   "id": "4887c963",
   "metadata": {},
   "source": [
    "### Add existing records"
   ]
  },
  {
   "cell_type": "code",
   "execution_count": 20,
   "id": "08ecd87f",
   "metadata": {},
   "outputs": [
    {
     "data": {
      "text/plain": [
       "28663"
      ]
     },
     "execution_count": 20,
     "metadata": {},
     "output_type": "execute_result"
    }
   ],
   "source": [
    "#conn = sqlite3.connect(local_db_path, isolation_level=None,\n",
    "#    detect_types=sqlite3.PARSE_COLNAMES)\n",
    "#addfile = 'C:/GISprojects/ParaguayTraining/samp_fordb.csv'\n",
    "#pd.read_csv(addfile).to_sql('PixelVerification', conn, if_exists='append', index=False)"
   ]
  },
  {
   "cell_type": "markdown",
   "id": "2e791ca3",
   "metadata": {},
   "source": [
    "## cleaning"
   ]
  },
  {
   "cell_type": "code",
   "execution_count": 22,
   "id": "ada8892b",
   "metadata": {},
   "outputs": [],
   "source": [
    "'''\n",
    "con = sqlite3.connect(local_db_path)\n",
    "c = con.cursor()\n",
    "c.execute(\"UPDATE PixelVerification SET imgDate = '2022-01-01' WHERE imgDate ='0'\")\n",
    "con.commit()\n",
    "c.close()\n",
    "'''\n",
    "'''\n",
    "con = sqlite3.connect(local_db_path)\n",
    "c = con.cursor()\n",
    "c.execute(\"DELETE FROM PixelVerification WHERE PID = '507_0'\")\n",
    "con.commit()\n",
    "c.close()\n",
    "'''"
   ]
  },
  {
   "cell_type": "code",
   "execution_count": null,
   "id": "40d99f4e",
   "metadata": {},
   "outputs": [],
   "source": []
  }
 ],
 "metadata": {
  "kernelspec": {
   "display_name": "Python [conda env:anaconda3-venv.pheno]",
   "language": "python",
   "name": "conda-env-anaconda3-venv.pheno-py"
  },
  "language_info": {
   "codemirror_mode": {
    "name": "ipython",
    "version": 3
   },
   "file_extension": ".py",
   "mimetype": "text/x-python",
   "name": "python",
   "nbconvert_exporter": "python",
   "pygments_lexer": "ipython3",
   "version": "3.8.18"
  }
 },
 "nbformat": 4,
 "nbformat_minor": 5
}
