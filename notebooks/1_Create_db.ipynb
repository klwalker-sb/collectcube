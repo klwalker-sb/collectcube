{
 "cells": [
  {
   "cell_type": "code",
   "execution_count": 5,
   "id": "2afa2e80",
   "metadata": {},
   "outputs": [],
   "source": [
    "# coding: utf-8"
   ]
  },
  {
   "cell_type": "code",
   "execution_count": 1,
   "id": "989552f5",
   "metadata": {},
   "outputs": [],
   "source": [
    "import os\n",
    "import sys\n",
    "from pathlib import Path\n",
    "import pandas as pd\n",
    "import sqlite3\n",
    "from sqlalchemy import create_engine\n",
    "from sqlalchemy.sql import select"
   ]
  },
  {
   "cell_type": "code",
   "execution_count": 2,
   "id": "0af1add6",
   "metadata": {},
   "outputs": [],
   "source": [
    "sys.path.append(r\"../src/collectcube\")\n",
    "from db import *"
   ]
  },
  {
   "cell_type": "markdown",
   "id": "28ef5599",
   "metadata": {},
   "source": [
    "### Check that pixel table already exists"
   ]
  },
  {
   "cell_type": "code",
   "execution_count": 3,
   "id": "1fc4a62e",
   "metadata": {},
   "outputs": [
    {
     "data": {
      "text/html": [
       "<div>\n",
       "<style scoped>\n",
       "    .dataframe tbody tr th:only-of-type {\n",
       "        vertical-align: middle;\n",
       "    }\n",
       "\n",
       "    .dataframe tbody tr th {\n",
       "        vertical-align: top;\n",
       "    }\n",
       "\n",
       "    .dataframe thead th {\n",
       "        text-align: right;\n",
       "    }\n",
       "</style>\n",
       "<table border=\"1\" class=\"dataframe\">\n",
       "  <thead>\n",
       "    <tr style=\"text-align: right;\">\n",
       "      <th></th>\n",
       "      <th>PID</th>\n",
       "      <th>Center</th>\n",
       "      <th>cent_lat</th>\n",
       "      <th>cent_long</th>\n",
       "      <th>cent_X</th>\n",
       "      <th>cent_Y</th>\n",
       "      <th>ransamp</th>\n",
       "    </tr>\n",
       "  </thead>\n",
       "  <tbody>\n",
       "    <tr>\n",
       "      <th>0</th>\n",
       "      <td>0000001_0</td>\n",
       "      <td>1</td>\n",
       "      <td>-26.626629</td>\n",
       "      <td>-57.702188</td>\n",
       "      <td>2937350.0</td>\n",
       "      <td>-3358400.0</td>\n",
       "      <td>1</td>\n",
       "    </tr>\n",
       "    <tr>\n",
       "      <th>1</th>\n",
       "      <td>0000002_0</td>\n",
       "      <td>1</td>\n",
       "      <td>-25.953394</td>\n",
       "      <td>-56.601457</td>\n",
       "      <td>3045480.0</td>\n",
       "      <td>-3276600.0</td>\n",
       "      <td>1</td>\n",
       "    </tr>\n",
       "    <tr>\n",
       "      <th>2</th>\n",
       "      <td>0000003_0</td>\n",
       "      <td>1</td>\n",
       "      <td>-25.328468</td>\n",
       "      <td>-56.187909</td>\n",
       "      <td>3090550.0</td>\n",
       "      <td>-3200450.0</td>\n",
       "      <td>1</td>\n",
       "    </tr>\n",
       "    <tr>\n",
       "      <th>3</th>\n",
       "      <td>0000004_0</td>\n",
       "      <td>1</td>\n",
       "      <td>-26.452609</td>\n",
       "      <td>-55.682417</td>\n",
       "      <td>3123190.0</td>\n",
       "      <td>-3337280.0</td>\n",
       "      <td>1</td>\n",
       "    </tr>\n",
       "    <tr>\n",
       "      <th>4</th>\n",
       "      <td>0000005_0</td>\n",
       "      <td>1</td>\n",
       "      <td>-25.633537</td>\n",
       "      <td>-55.052163</td>\n",
       "      <td>3190670.0</td>\n",
       "      <td>-3237650.0</td>\n",
       "      <td>1</td>\n",
       "    </tr>\n",
       "  </tbody>\n",
       "</table>\n",
       "</div>"
      ],
      "text/plain": [
       "         PID  Center   cent_lat  cent_long     cent_X     cent_Y  ransamp\n",
       "0  0000001_0       1 -26.626629 -57.702188  2937350.0 -3358400.0        1\n",
       "1  0000002_0       1 -25.953394 -56.601457  3045480.0 -3276600.0        1\n",
       "2  0000003_0       1 -25.328468 -56.187909  3090550.0 -3200450.0        1\n",
       "3  0000004_0       1 -26.452609 -55.682417  3123190.0 -3337280.0        1\n",
       "4  0000005_0       1 -25.633537 -55.052163  3190670.0 -3237650.0        1"
      ]
     },
     "execution_count": 3,
     "metadata": {},
     "output_type": "execute_result"
    }
   ],
   "source": [
    "sql_db_path = 'sqlite:///../data/db_samp/landcover.db'\n",
    "engine = create_engine(sql_db_path, echo=False)\n",
    "with engine.connect() as conn:\n",
    "    df = pd.read_sql_table('pixels', conn)\n",
    "df.head()"
   ]
  },
  {
   "cell_type": "markdown",
   "id": "84702eab",
   "metadata": {},
   "source": [
    "## Make sql lc table from existing lut.csv"
   ]
  },
  {
   "cell_type": "code",
   "execution_count": null,
   "id": "6c9fa41a",
   "metadata": {},
   "outputs": [],
   "source": [
    "local_db_path = '../data/db_samp/landcover.db'\n",
    "lc_lut = Path(\"C:/Users/klobw/Desktop/NasaProject/RemoteComputing/LUCinSA_helpers/Class_LUT.csv\")\n",
    "make_LC_table_from_lut(lc_lut, local_db_path, treat_existing='fail')"
   ]
  },
  {
   "cell_type": "markdown",
   "id": "4decf2d8",
   "metadata": {},
   "source": [
    "### check if it worked:"
   ]
  },
  {
   "cell_type": "code",
   "execution_count": 13,
   "id": "178c8fc2",
   "metadata": {},
   "outputs": [
    {
     "data": {
      "text/html": [
       "<div>\n",
       "<style scoped>\n",
       "    .dataframe tbody tr th:only-of-type {\n",
       "        vertical-align: middle;\n",
       "    }\n",
       "\n",
       "    .dataframe tbody tr th {\n",
       "        vertical-align: top;\n",
       "    }\n",
       "\n",
       "    .dataframe thead th {\n",
       "        text-align: right;\n",
       "    }\n",
       "</style>\n",
       "<table border=\"1\" class=\"dataframe\">\n",
       "  <thead>\n",
       "    <tr style=\"text-align: right;\">\n",
       "      <th></th>\n",
       "      <th>LC_UNQ</th>\n",
       "      <th>USE_NAME</th>\n",
       "      <th>LC5</th>\n",
       "      <th>LC25</th>\n",
       "    </tr>\n",
       "  </thead>\n",
       "  <tbody>\n",
       "    <tr>\n",
       "      <th>0</th>\n",
       "      <td>1</td>\n",
       "      <td>NoVeg</td>\n",
       "      <td>10</td>\n",
       "      <td>99</td>\n",
       "    </tr>\n",
       "    <tr>\n",
       "      <th>1</th>\n",
       "      <td>2</td>\n",
       "      <td>NoVeg_Bare</td>\n",
       "      <td>10</td>\n",
       "      <td>2</td>\n",
       "    </tr>\n",
       "    <tr>\n",
       "      <th>2</th>\n",
       "      <td>3</td>\n",
       "      <td>NoVeg_Built</td>\n",
       "      <td>10</td>\n",
       "      <td>3</td>\n",
       "    </tr>\n",
       "    <tr>\n",
       "      <th>3</th>\n",
       "      <td>7</td>\n",
       "      <td>NoVeg_Water</td>\n",
       "      <td>10</td>\n",
       "      <td>7</td>\n",
       "    </tr>\n",
       "    <tr>\n",
       "      <th>4</th>\n",
       "      <td>9</td>\n",
       "      <td>Mixed-path</td>\n",
       "      <td>10</td>\n",
       "      <td>9</td>\n",
       "    </tr>\n",
       "  </tbody>\n",
       "</table>\n",
       "</div>"
      ],
      "text/plain": [
       "   LC_UNQ     USE_NAME  LC5  LC25\n",
       "0       1        NoVeg   10    99\n",
       "1       2   NoVeg_Bare   10     2\n",
       "2       3  NoVeg_Built   10     3\n",
       "3       7  NoVeg_Water   10     7\n",
       "4       9   Mixed-path   10     9"
      ]
     },
     "execution_count": 13,
     "metadata": {},
     "output_type": "execute_result"
    }
   ],
   "source": [
    "with engine.connect() as con:\n",
    "    df = pd.read_sql_table('LC', con)\n",
    "df.head()"
   ]
  },
  {
   "cell_type": "markdown",
   "id": "a45b5e8b",
   "metadata": {},
   "source": [
    "### Add other tables to database using sqlalchemy to control foreign keys"
   ]
  },
  {
   "cell_type": "code",
   "execution_count": 9,
   "id": "ffcfef34",
   "metadata": {},
   "outputs": [],
   "source": [
    "def make_db(sql_db_path):\n",
    "    engine = create_engine(sql_db_path, echo=False)\n",
    "    make_main_support_tables(engine)\n",
    "    populate_LC5_table(engine)\n",
    "    \n",
    "make_db(sql_db_path)"
   ]
  },
  {
   "cell_type": "markdown",
   "id": "30ab87c8",
   "metadata": {},
   "source": [
    "### Check that tables are made and populated"
   ]
  },
  {
   "cell_type": "code",
   "execution_count": 7,
   "id": "cc99eb8d",
   "metadata": {},
   "outputs": [
    {
     "name": "stdout",
     "output_type": "stream",
     "text": [
      "[(10, 'NoVeg'), (20, 'LowVeg'), (40, 'MedVeg'), (50, 'HighVeg'), (70, 'Trees'), (99, 'Unknown')]\n"
     ]
    }
   ],
   "source": [
    "with engine.connect() as conn:\n",
    "    lc5_table = Table('LC5', MetaData(), autoload_with=engine)\n",
    "    rp = conn.execute(lc5_table.select())\n",
    "results = rp.fetchall() \n",
    "print(results)"
   ]
  },
  {
   "cell_type": "code",
   "execution_count": 6,
   "id": "bd95d09b",
   "metadata": {
    "scrolled": true
   },
   "outputs": [
    {
     "data": {
      "text/html": [
       "<div>\n",
       "<style scoped>\n",
       "    .dataframe tbody tr th:only-of-type {\n",
       "        vertical-align: middle;\n",
       "    }\n",
       "\n",
       "    .dataframe tbody tr th {\n",
       "        vertical-align: top;\n",
       "    }\n",
       "\n",
       "    .dataframe thead th {\n",
       "        text-align: right;\n",
       "    }\n",
       "</style>\n",
       "<table border=\"1\" class=\"dataframe\">\n",
       "  <thead>\n",
       "    <tr style=\"text-align: right;\">\n",
       "      <th></th>\n",
       "      <th>LC5id</th>\n",
       "      <th>LC5type</th>\n",
       "    </tr>\n",
       "  </thead>\n",
       "  <tbody>\n",
       "    <tr>\n",
       "      <th>0</th>\n",
       "      <td>10</td>\n",
       "      <td>NoVeg</td>\n",
       "    </tr>\n",
       "    <tr>\n",
       "      <th>1</th>\n",
       "      <td>20</td>\n",
       "      <td>LowVeg</td>\n",
       "    </tr>\n",
       "    <tr>\n",
       "      <th>2</th>\n",
       "      <td>40</td>\n",
       "      <td>MedVeg</td>\n",
       "    </tr>\n",
       "    <tr>\n",
       "      <th>3</th>\n",
       "      <td>50</td>\n",
       "      <td>HighVeg</td>\n",
       "    </tr>\n",
       "    <tr>\n",
       "      <th>4</th>\n",
       "      <td>70</td>\n",
       "      <td>Trees</td>\n",
       "    </tr>\n",
       "  </tbody>\n",
       "</table>\n",
       "</div>"
      ],
      "text/plain": [
       "   LC5id  LC5type\n",
       "0     10    NoVeg\n",
       "1     20   LowVeg\n",
       "2     40   MedVeg\n",
       "3     50  HighVeg\n",
       "4     70    Trees"
      ]
     },
     "execution_count": 6,
     "metadata": {},
     "output_type": "execute_result"
    }
   ],
   "source": [
    "with engine.connect() as con:\n",
    "    df = pd.read_sql_table('LC5', con)\n",
    "df.head()"
   ]
  }
 ],
 "metadata": {
  "kernelspec": {
   "display_name": "Python [conda env:anaconda3-venv.pheno]",
   "language": "python",
   "name": "conda-env-anaconda3-venv.pheno-py"
  },
  "language_info": {
   "codemirror_mode": {
    "name": "ipython",
    "version": 3
   },
   "file_extension": ".py",
   "mimetype": "text/x-python",
   "name": "python",
   "nbconvert_exporter": "python",
   "pygments_lexer": "ipython3",
   "version": "3.8.18"
  }
 },
 "nbformat": 4,
 "nbformat_minor": 5
}
