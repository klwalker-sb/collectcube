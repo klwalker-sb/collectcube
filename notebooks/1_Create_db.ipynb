{
 "cells": [
  {
   "cell_type": "code",
   "execution_count": 5,
   "id": "2afa2e80",
   "metadata": {},
   "outputs": [],
   "source": [
    "# coding: utf-8"
   ]
  },
  {
   "cell_type": "code",
   "execution_count": 1,
   "id": "989552f5",
   "metadata": {},
   "outputs": [],
   "source": [
    "import os\n",
    "import sys\n",
    "from pathlib import Path\n",
    "import pandas as pd\n",
    "import sqlite3\n",
    "import sqlalchemy as sa\n",
    "from sqlalchemy import create_engine\n",
    "from sqlalchemy.sql import select\n",
    "from datetime import datetime"
   ]
  },
  {
   "cell_type": "code",
   "execution_count": 2,
   "id": "0af1add6",
   "metadata": {},
   "outputs": [],
   "source": [
    "sys.path.append(r\"../src/collectcube\")\n",
    "from db import *"
   ]
  },
  {
   "cell_type": "code",
   "execution_count": 3,
   "id": "1e79a570",
   "metadata": {},
   "outputs": [],
   "source": [
    "local_db_path = '../data/example/landcover.db'"
   ]
  },
  {
   "cell_type": "markdown",
   "id": "28ef5599",
   "metadata": {},
   "source": [
    "### Check that pixel table already exists"
   ]
  },
  {
   "cell_type": "code",
   "execution_count": 4,
   "id": "1fc4a62e",
   "metadata": {},
   "outputs": [
    {
     "name": "stdout",
     "output_type": "stream",
     "text": [
      "          PID  Center     cent_X     cent_Y   cent_lat  cent_long  ransamp  \\\n",
      "85  0000009_4       0  3022810.0 -3026470.0 -23.906908 -57.100368        1   \n",
      "86  0000009_5       0  3022830.0 -3026470.0 -23.906908 -57.100150        1   \n",
      "87  0000009_6       0  3022810.0 -3026480.0 -23.906990 -57.100358        1   \n",
      "88  0000009_7       0  3022820.0 -3026480.0 -23.906990 -57.100250        1   \n",
      "89  0000009_8       0  3022830.0 -3026480.0 -23.906990 -57.100141        1   \n",
      "\n",
      "    checked  PID0  PID1 sampgroup  \n",
      "85        0     9     4  example2  \n",
      "86        0     9     5  example2  \n",
      "87        0     9     6  example2  \n",
      "88        0     9     7  example2  \n",
      "89        0     9     8  example2  \n"
     ]
    }
   ],
   "source": [
    "pixdf = check_table(local_db_path,'pixels')"
   ]
  },
  {
   "cell_type": "markdown",
   "id": "84702eab",
   "metadata": {},
   "source": [
    "## Make sql lc table from existing lut.csv"
   ]
  },
  {
   "cell_type": "code",
   "execution_count": 5,
   "id": "6c9fa41a",
   "metadata": {},
   "outputs": [],
   "source": [
    "lc_lut = Path(\"../data/Class_LUT.csv\")\n",
    "make_LC_table_from_lut(lc_lut, local_db_path, treat_existing='fail')"
   ]
  },
  {
   "cell_type": "code",
   "execution_count": 6,
   "id": "d1331846",
   "metadata": {},
   "outputs": [],
   "source": [
    "make_simp_LC_table(lc_lut, local_db_path, [0,30,35,40,80,98], treat_existing='fail')"
   ]
  },
  {
   "cell_type": "markdown",
   "id": "4decf2d8",
   "metadata": {},
   "source": [
    "### check if it worked:"
   ]
  },
  {
   "cell_type": "code",
   "execution_count": 8,
   "id": "178c8fc2",
   "metadata": {},
   "outputs": [
    {
     "name": "stdout",
     "output_type": "stream",
     "text": [
      "    LC_UNQ           USE_NAME LC5_name  LC5  LC25\n",
      "39      68  Trees-Forest_palm    Trees   70    68\n",
      "40      70      Trees-Wetland    Trees   70    70\n",
      "41      80       Trees-Forest    Trees   70    80\n",
      "42      98           N_NoCrop  unknown   99    98\n",
      "43      99            unknown  unknown   99    99\n"
     ]
    }
   ],
   "source": [
    "lcdf = check_table(local_db_path,'LC')"
   ]
  },
  {
   "cell_type": "markdown",
   "id": "a45b5e8b",
   "metadata": {},
   "source": [
    "### Add other tables to database using sqlalchemy to control foreign keys"
   ]
  },
  {
   "cell_type": "code",
   "execution_count": 8,
   "id": "ffcfef34",
   "metadata": {},
   "outputs": [
    {
     "name": "stdout",
     "output_type": "stream",
     "text": [
      "added LC5 and PixVar tables to db\n"
     ]
    }
   ],
   "source": [
    "def make_db(db_path):\n",
    "    sql_db_path = 'sqlite:///'+ db_path\n",
    "    engine = create_engine(sql_db_path, echo=False)\n",
    "    make_main_support_tables(engine)\n",
    "    populate_LC5_table(engine)\n",
    "    \n",
    "make_db(local_db_path)"
   ]
  },
  {
   "cell_type": "markdown",
   "id": "30ab87c8",
   "metadata": {},
   "source": [
    "### Check that tables are made and populated"
   ]
  },
  {
   "cell_type": "code",
   "execution_count": 12,
   "id": "cc99eb8d",
   "metadata": {},
   "outputs": [
    {
     "name": "stdout",
     "output_type": "stream",
     "text": [
      "[(0, ' ------'), (10, 'NoVeg'), (20, 'LowVeg'), (40, 'MedVeg'), (50, 'HighVeg'), (70, 'Trees'), (99, 'Unknown')]\n"
     ]
    }
   ],
   "source": [
    "engine = create_engine('sqlite:///'+ local_db_path)\n",
    "with engine.connect() as conn:\n",
    "    lc5_table = Table('LC5', MetaData(), autoload_with=engine)\n",
    "    rp = conn.execute(lc5_table.select())\n",
    "results = rp.fetchall() \n",
    "print(results)"
   ]
  },
  {
   "cell_type": "code",
   "execution_count": 13,
   "id": "bd95d09b",
   "metadata": {
    "scrolled": true
   },
   "outputs": [
    {
     "data": {
      "text/html": [
       "<div>\n",
       "<style scoped>\n",
       "    .dataframe tbody tr th:only-of-type {\n",
       "        vertical-align: middle;\n",
       "    }\n",
       "\n",
       "    .dataframe tbody tr th {\n",
       "        vertical-align: top;\n",
       "    }\n",
       "\n",
       "    .dataframe thead th {\n",
       "        text-align: right;\n",
       "    }\n",
       "</style>\n",
       "<table border=\"1\" class=\"dataframe\">\n",
       "  <thead>\n",
       "    <tr style=\"text-align: right;\">\n",
       "      <th></th>\n",
       "      <th>LC5id</th>\n",
       "      <th>LC5type</th>\n",
       "    </tr>\n",
       "  </thead>\n",
       "  <tbody>\n",
       "    <tr>\n",
       "      <th>0</th>\n",
       "      <td>0</td>\n",
       "      <td>------</td>\n",
       "    </tr>\n",
       "    <tr>\n",
       "      <th>1</th>\n",
       "      <td>10</td>\n",
       "      <td>NoVeg</td>\n",
       "    </tr>\n",
       "    <tr>\n",
       "      <th>2</th>\n",
       "      <td>20</td>\n",
       "      <td>LowVeg</td>\n",
       "    </tr>\n",
       "    <tr>\n",
       "      <th>3</th>\n",
       "      <td>40</td>\n",
       "      <td>MedVeg</td>\n",
       "    </tr>\n",
       "    <tr>\n",
       "      <th>4</th>\n",
       "      <td>50</td>\n",
       "      <td>HighVeg</td>\n",
       "    </tr>\n",
       "  </tbody>\n",
       "</table>\n",
       "</div>"
      ],
      "text/plain": [
       "   LC5id  LC5type\n",
       "0      0   ------\n",
       "1     10    NoVeg\n",
       "2     20   LowVeg\n",
       "3     40   MedVeg\n",
       "4     50  HighVeg"
      ]
     },
     "execution_count": 13,
     "metadata": {},
     "output_type": "execute_result"
    }
   ],
   "source": [
    "with engine.connect() as con:\n",
    "    df = pd.read_sql_table('LC5', con)\n",
    "df.head()"
   ]
  },
  {
   "cell_type": "code",
   "execution_count": 14,
   "id": "ec14ebf7",
   "metadata": {},
   "outputs": [
    {
     "data": {
      "text/html": [
       "<div>\n",
       "<style scoped>\n",
       "    .dataframe tbody tr th:only-of-type {\n",
       "        vertical-align: middle;\n",
       "    }\n",
       "\n",
       "    .dataframe tbody tr th {\n",
       "        vertical-align: top;\n",
       "    }\n",
       "\n",
       "    .dataframe thead th {\n",
       "        text-align: right;\n",
       "    }\n",
       "</style>\n",
       "<table border=\"1\" class=\"dataframe\">\n",
       "  <thead>\n",
       "    <tr style=\"text-align: right;\">\n",
       "      <th></th>\n",
       "      <th>recID</th>\n",
       "      <th>PID</th>\n",
       "      <th>PID0</th>\n",
       "      <th>PID1</th>\n",
       "      <th>imgDate</th>\n",
       "      <th>LC5</th>\n",
       "      <th>LC</th>\n",
       "      <th>HOMONBHD9</th>\n",
       "      <th>ForestProx</th>\n",
       "      <th>WaterProx</th>\n",
       "      <th>...</th>\n",
       "      <th>DEAD</th>\n",
       "      <th>MEDVEG</th>\n",
       "      <th>TREEPLANT0</th>\n",
       "      <th>HIGHVEG</th>\n",
       "      <th>TREEPLANT</th>\n",
       "      <th>FOREST</th>\n",
       "      <th>Age</th>\n",
       "      <th>Stability</th>\n",
       "      <th>State</th>\n",
       "      <th>Notes</th>\n",
       "    </tr>\n",
       "  </thead>\n",
       "  <tbody>\n",
       "  </tbody>\n",
       "</table>\n",
       "<p>0 rows × 28 columns</p>\n",
       "</div>"
      ],
      "text/plain": [
       "Empty DataFrame\n",
       "Columns: [recID, PID, PID0, PID1, imgDate, LC5, LC, HOMONBHD9, ForestProx, WaterProx, PercentTree, BUILT, BARE, WATER, CROPMONO, CROPMIX, CROPMED, GRASS, DEAD, MEDVEG, TREEPLANT0, HIGHVEG, TREEPLANT, FOREST, Age, Stability, State, Notes]\n",
       "Index: []\n",
       "\n",
       "[0 rows x 28 columns]"
      ]
     },
     "execution_count": 14,
     "metadata": {},
     "output_type": "execute_result"
    }
   ],
   "source": [
    "with engine.connect() as con:\n",
    "    df = pd.read_sql_table('PixelVerification', con)\n",
    "df.head()"
   ]
  },
  {
   "cell_type": "code",
   "execution_count": 15,
   "id": "63fda8c1",
   "metadata": {},
   "outputs": [
    {
     "name": "stdout",
     "output_type": "stream",
     "text": [
      "(1,)\n"
     ]
    }
   ],
   "source": [
    "## first record:\n",
    "testDate = datetime(2000,1,1)\n",
    "with engine.connect() as conn:\n",
    "    pixvar = Table('PixelVerification', MetaData(), autoload_with=engine)\n",
    "    query = sa.insert(pixvar).values(PID='0_0', PID0=0, PID1=0, imgDate=testDate,LC5=0,LC=0,HOMONBHD9=8) \n",
    "    go = conn.execute(query)\n",
    "    conn.commit()\n",
    "print(go.inserted_primary_key)"
   ]
  },
  {
   "cell_type": "code",
   "execution_count": null,
   "id": "3a7855bf",
   "metadata": {},
   "outputs": [],
   "source": []
  }
 ],
 "metadata": {
  "kernelspec": {
   "display_name": "Python [conda env:anaconda3-venv.pheno]",
   "language": "python",
   "name": "conda-env-anaconda3-venv.pheno-py"
  },
  "language_info": {
   "codemirror_mode": {
    "name": "ipython",
    "version": 3
   },
   "file_extension": ".py",
   "mimetype": "text/x-python",
   "name": "python",
   "nbconvert_exporter": "python",
   "pygments_lexer": "ipython3",
   "version": "3.8.18"
  }
 },
 "nbformat": 4,
 "nbformat_minor": 5
}
