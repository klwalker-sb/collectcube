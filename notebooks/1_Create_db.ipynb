{
 "cells": [
  {
   "cell_type": "code",
   "execution_count": 5,
   "id": "2afa2e80",
   "metadata": {},
   "outputs": [],
   "source": [
    "# coding: utf-8"
   ]
  },
  {
   "cell_type": "code",
   "execution_count": 40,
   "id": "989552f5",
   "metadata": {},
   "outputs": [],
   "source": [
    "import os\n",
    "import sys\n",
    "from pathlib import Path\n",
    "import pandas as pd\n",
    "import sqlite3\n",
    "import sqlalchemy as sa\n",
    "from sqlalchemy import create_engine\n",
    "from sqlalchemy.sql import select\n",
    "from datetime import datetime"
   ]
  },
  {
   "cell_type": "code",
   "execution_count": 41,
   "id": "0af1add6",
   "metadata": {},
   "outputs": [],
   "source": [
    "sys.path.append(r\"../src/collectcube\")\n",
    "from db import *"
   ]
  },
  {
   "cell_type": "code",
   "execution_count": 42,
   "id": "1e79a570",
   "metadata": {},
   "outputs": [],
   "source": [
    "#local_db_path = '../data/example/landcover.db'\n",
    "out_dir = 'C:/GISprojects/ParaguayTraining'\n",
    "local_db_path = os.path.join(out_dir, 'py_training.db')"
   ]
  },
  {
   "cell_type": "markdown",
   "id": "28ef5599",
   "metadata": {},
   "source": [
    "### Check that pixel table already exists"
   ]
  },
  {
   "cell_type": "code",
   "execution_count": 5,
   "id": "1fc4a62e",
   "metadata": {},
   "outputs": [
    {
     "name": "stdout",
     "output_type": "stream",
     "text": [
      "              PID  Center     cent_X     cent_Y   cent_lat  cent_long  \\\n",
      "277510  0031482_4       0  3081000.0 -3094060.0 -24.458177 -56.400685   \n",
      "277511  0031482_5       0  3081020.0 -3094060.0 -24.458177 -56.400467   \n",
      "277512  0031482_6       0  3081000.0 -3094070.0 -24.458259 -56.400675   \n",
      "277513  0031482_7       0  3081010.0 -3094070.0 -24.458259 -56.400566   \n",
      "277514  0031482_8       0  3081020.0 -3094070.0 -24.458259 -56.400457   \n",
      "\n",
      "        ransamp  checked   PID0  PID1 sampgroup      rand     rand2 biome  \\\n",
      "277510        1        0  31482     4  GE_extra  0.564274  0.539983    BH   \n",
      "277511        1        0  31482     5  GE_extra  0.564274  0.539983    BH   \n",
      "277512        1        0  31482     6  GE_extra  0.564274  0.539983    BH   \n",
      "277513        1        0  31482     7  GE_extra  0.564274  0.539983    BH   \n",
      "277514        1        0  31482     8  GE_extra  0.564274  0.539983    BH   \n",
      "\n",
      "        gridCell  \n",
      "277510      3867  \n",
      "277511      3867  \n",
      "277512      3867  \n",
      "277513      3867  \n",
      "277514      3867  \n"
     ]
    }
   ],
   "source": [
    "pixdf = check_table(local_db_path,'pixels')"
   ]
  },
  {
   "cell_type": "markdown",
   "id": "84702eab",
   "metadata": {},
   "source": [
    "## Make sql lc table from existing lut.csv"
   ]
  },
  {
   "cell_type": "code",
   "execution_count": 32,
   "id": "6c9fa41a",
   "metadata": {},
   "outputs": [],
   "source": [
    "lc_lut = Path(\"../data/Class_LUT.csv\")\n",
    "make_LC_table_from_lut(lc_lut, local_db_path, treat_existing='fail')"
   ]
  },
  {
   "cell_type": "code",
   "execution_count": 6,
   "id": "d1331846",
   "metadata": {},
   "outputs": [],
   "source": [
    "make_simp_LC_table(lc_lut, local_db_path, [0,30,35,40,80,98], treat_existing='fail')"
   ]
  },
  {
   "cell_type": "markdown",
   "id": "4decf2d8",
   "metadata": {},
   "source": [
    "### check if it worked:"
   ]
  },
  {
   "cell_type": "code",
   "execution_count": 15,
   "id": "178c8fc2",
   "metadata": {},
   "outputs": [
    {
     "name": "stdout",
     "output_type": "stream",
     "text": [
      "    LC_UNQ           USE_NAME LC5_name  LC5  LC25\n",
      "48      68  Trees-Forest_palm  HighVeg   70    68\n",
      "49      77     Tree-Water_mix  HighVeg   70    77\n",
      "50      80       Trees-Forest  HighVeg   70    80\n",
      "51      98           N_NoCrop  unknown   99    98\n",
      "52      99            unknown  unknown   99    99\n"
     ]
    }
   ],
   "source": [
    "lcdf = check_table(local_db_path,'LC')"
   ]
  },
  {
   "cell_type": "markdown",
   "id": "a45b5e8b",
   "metadata": {},
   "source": [
    "### Add other tables to database using sqlalchemy to control foreign keys"
   ]
  },
  {
   "cell_type": "code",
   "execution_count": 50,
   "id": "ffcfef34",
   "metadata": {},
   "outputs": [
    {
     "name": "stdout",
     "output_type": "stream",
     "text": [
      "added LC5 and empty PixVar table to db\n"
     ]
    }
   ],
   "source": [
    "def make_db(db_path):\n",
    "    sql_db_path = 'sqlite:///'+ db_path\n",
    "    engine = create_engine(sql_db_path, echo=False)\n",
    "    make_main_support_tables(engine)\n",
    "    populate_LC5_table(engine)\n",
    "    \n",
    "make_db(local_db_path)"
   ]
  },
  {
   "cell_type": "markdown",
   "id": "30ab87c8",
   "metadata": {},
   "source": [
    "### Check that tables are made and populated"
   ]
  },
  {
   "cell_type": "code",
   "execution_count": 6,
   "id": "cc99eb8d",
   "metadata": {},
   "outputs": [
    {
     "name": "stdout",
     "output_type": "stream",
     "text": [
      "[(0, ' ------', ' ------', 0, 0), (1, 'NoVeg', 'NoVeg', 10, 99), (2, 'NoVeg_Bare', 'NoVeg', 10, 2), (3, 'NoVeg_Built', 'NoVeg', 10, 3), (7, 'NoVeg_Water', 'NoVeg', 10, 7), (9, 'Mixed-path', 'NoVeg', 10, 9), (10, 'Cleared', 'LowVeg', 20, 10), (11, 'TreePlant-new', 'LowVeg', 20, 11), (12, 'Grassland-Natural', 'LowVeg', 20, 12), (13, 'Grassland-Managed', 'LowVeg', 20, 13), (15, 'Grassland', 'LowVeg', 20, 99), (17, 'Grassland-Wet', 'LowVeg', 20, 17), (18, 'Mixed-GrassEdge', 'LowVeg', 20, 19), (19, 'Mixed-FieldEdge', 'LowVeg', 20, 19), (20, 'LowVeg', 'LowVeg', 20, 99), (23, 'Crops-horticulture', 'LowVeg', 20, 35), (30, 'L_Crop-Low', 'LowVeg', 20, 99), (31, 'Crops-Soybeans', 'LowVeg', 20, 31), (32, 'Crops-Beans', 'LowVeg', 20, 35), (33, 'Crops-Corn', 'LowVeg', 20, 33), (34, 'Crops-Mandioca', 'LowVeg', 20, 35), (35, 'M_Crops-mix', 'LowVeg', 20, 35), (36, 'Crops-Peanuts', 'LowVeg', 20, 35), (37, 'Crops-Rice', 'LowVeg', 20, 37), (38, 'Crops-Sugar', 'LowVeg', 20, 38), (40, 'D_Crop_Med', 'MedVeg', 40, 99), (41, 'Crops-Vineyard', 'MedVeg', 40, 41), (42, 'Crops-Yerba-Mate', 'MedVeg', 40, 42), (43, 'Crops-Banana', 'MedVeg', 40, 43), (45, 'Crops-Orchard-new', 'LowVeg', 20, 99), (46, 'Crops-Orchard', 'MedVeg', 40, 46), (48, 'Shrub', 'MedVeg', 40, 40), (51, 'Grass_tree-mix', 'HighVeg', 50, 51), (56, 'TreePlant-young', 'HighVeg', 50, 60), (58, 'Burnt-woody', 'HighVeg', 50, 58), (60, 'TreePlant', 'Trees', 70, 60), (65, 'Trees-Open', 'Trees', 70, 65), (66, 'TreePlant-mature', 'Trees', 70, 60), (67, 'Trees-Forest_decid', 'Trees', 70, 80), (68, 'Trees-Forest_palm', 'Trees', 70, 68), (70, 'Trees-Wetland', 'Trees', 70, 70), (80, 'Trees-Forest', 'Trees', 70, 80), (98, 'N_NoCrop', 'unknown', 99, 98), (99, 'unknown', 'unknown', 99, 99)]\n"
     ]
    }
   ],
   "source": [
    "engine = create_engine('sqlite:///'+ local_db_path)\n",
    "with engine.connect() as conn:\n",
    "    lc5_table = Table('LC', MetaData(), autoload_with=engine)\n",
    "    rp = conn.execute(lc5_table.select())\n",
    "results = rp.fetchall() \n",
    "print(results)"
   ]
  },
  {
   "cell_type": "code",
   "execution_count": 13,
   "id": "bd95d09b",
   "metadata": {
    "scrolled": true
   },
   "outputs": [
    {
     "data": {
      "text/html": [
       "<div>\n",
       "<style scoped>\n",
       "    .dataframe tbody tr th:only-of-type {\n",
       "        vertical-align: middle;\n",
       "    }\n",
       "\n",
       "    .dataframe tbody tr th {\n",
       "        vertical-align: top;\n",
       "    }\n",
       "\n",
       "    .dataframe thead th {\n",
       "        text-align: right;\n",
       "    }\n",
       "</style>\n",
       "<table border=\"1\" class=\"dataframe\">\n",
       "  <thead>\n",
       "    <tr style=\"text-align: right;\">\n",
       "      <th></th>\n",
       "      <th>LC5id</th>\n",
       "      <th>LC5type</th>\n",
       "    </tr>\n",
       "  </thead>\n",
       "  <tbody>\n",
       "    <tr>\n",
       "      <th>0</th>\n",
       "      <td>0</td>\n",
       "      <td>------</td>\n",
       "    </tr>\n",
       "    <tr>\n",
       "      <th>1</th>\n",
       "      <td>10</td>\n",
       "      <td>NoVeg</td>\n",
       "    </tr>\n",
       "    <tr>\n",
       "      <th>2</th>\n",
       "      <td>20</td>\n",
       "      <td>LowVeg</td>\n",
       "    </tr>\n",
       "    <tr>\n",
       "      <th>3</th>\n",
       "      <td>40</td>\n",
       "      <td>MedVeg</td>\n",
       "    </tr>\n",
       "    <tr>\n",
       "      <th>4</th>\n",
       "      <td>50</td>\n",
       "      <td>HighVeg</td>\n",
       "    </tr>\n",
       "  </tbody>\n",
       "</table>\n",
       "</div>"
      ],
      "text/plain": [
       "   LC5id  LC5type\n",
       "0      0   ------\n",
       "1     10    NoVeg\n",
       "2     20   LowVeg\n",
       "3     40   MedVeg\n",
       "4     50  HighVeg"
      ]
     },
     "execution_count": 13,
     "metadata": {},
     "output_type": "execute_result"
    }
   ],
   "source": [
    "with engine.connect() as con:\n",
    "    df = pd.read_sql_table('LC5', con)\n",
    "df.head()"
   ]
  },
  {
   "cell_type": "code",
   "execution_count": 47,
   "id": "ec14ebf7",
   "metadata": {},
   "outputs": [
    {
     "data": {
      "text/html": [
       "<div>\n",
       "<style scoped>\n",
       "    .dataframe tbody tr th:only-of-type {\n",
       "        vertical-align: middle;\n",
       "    }\n",
       "\n",
       "    .dataframe tbody tr th {\n",
       "        vertical-align: top;\n",
       "    }\n",
       "\n",
       "    .dataframe thead th {\n",
       "        text-align: right;\n",
       "    }\n",
       "</style>\n",
       "<table border=\"1\" class=\"dataframe\">\n",
       "  <thead>\n",
       "    <tr style=\"text-align: right;\">\n",
       "      <th></th>\n",
       "      <th>recID</th>\n",
       "      <th>PID</th>\n",
       "      <th>PID0</th>\n",
       "      <th>PID1</th>\n",
       "      <th>imgDate</th>\n",
       "      <th>LC5</th>\n",
       "      <th>LC</th>\n",
       "      <th>HOMONBHD9</th>\n",
       "      <th>ForestProx</th>\n",
       "      <th>WaterProx</th>\n",
       "      <th>...</th>\n",
       "      <th>State</th>\n",
       "      <th>Type</th>\n",
       "      <th>Width</th>\n",
       "      <th>Notes</th>\n",
       "      <th>entry_lev</th>\n",
       "      <th>doubt_CNC</th>\n",
       "      <th>doubt_LC</th>\n",
       "      <th>doubt_LC5</th>\n",
       "      <th>source</th>\n",
       "      <th>Image</th>\n",
       "    </tr>\n",
       "  </thead>\n",
       "  <tbody>\n",
       "    <tr>\n",
       "      <th>0</th>\n",
       "      <td>1</td>\n",
       "      <td>1_0</td>\n",
       "      <td>1</td>\n",
       "      <td>0</td>\n",
       "      <td>2018-01-01</td>\n",
       "      <td>20.0</td>\n",
       "      <td>31</td>\n",
       "      <td>8.0</td>\n",
       "      <td>NaN</td>\n",
       "      <td>NaN</td>\n",
       "      <td>...</td>\n",
       "      <td>None</td>\n",
       "      <td>None</td>\n",
       "      <td>NaN</td>\n",
       "      <td></td>\n",
       "      <td>1.0</td>\n",
       "      <td>NaN</td>\n",
       "      <td>NaN</td>\n",
       "      <td>NaN</td>\n",
       "      <td>assumed</td>\n",
       "      <td>None</td>\n",
       "    </tr>\n",
       "    <tr>\n",
       "      <th>1</th>\n",
       "      <td>2</td>\n",
       "      <td>1_0</td>\n",
       "      <td>1</td>\n",
       "      <td>0</td>\n",
       "      <td>2022-01-01</td>\n",
       "      <td>20.0</td>\n",
       "      <td>31</td>\n",
       "      <td>8.0</td>\n",
       "      <td>NaN</td>\n",
       "      <td>NaN</td>\n",
       "      <td>...</td>\n",
       "      <td>None</td>\n",
       "      <td>None</td>\n",
       "      <td>NaN</td>\n",
       "      <td></td>\n",
       "      <td>1.0</td>\n",
       "      <td>NaN</td>\n",
       "      <td>NaN</td>\n",
       "      <td>NaN</td>\n",
       "      <td>GE</td>\n",
       "      <td>None</td>\n",
       "    </tr>\n",
       "    <tr>\n",
       "      <th>2</th>\n",
       "      <td>3</td>\n",
       "      <td>2_0</td>\n",
       "      <td>2</td>\n",
       "      <td>0</td>\n",
       "      <td>2018-01-01</td>\n",
       "      <td>20.0</td>\n",
       "      <td>31</td>\n",
       "      <td>8.0</td>\n",
       "      <td>NaN</td>\n",
       "      <td>NaN</td>\n",
       "      <td>...</td>\n",
       "      <td>None</td>\n",
       "      <td>None</td>\n",
       "      <td>NaN</td>\n",
       "      <td></td>\n",
       "      <td>1.0</td>\n",
       "      <td>NaN</td>\n",
       "      <td>NaN</td>\n",
       "      <td>NaN</td>\n",
       "      <td>assumed</td>\n",
       "      <td>None</td>\n",
       "    </tr>\n",
       "    <tr>\n",
       "      <th>3</th>\n",
       "      <td>4</td>\n",
       "      <td>2_0</td>\n",
       "      <td>2</td>\n",
       "      <td>0</td>\n",
       "      <td>2022-01-01</td>\n",
       "      <td>20.0</td>\n",
       "      <td>31</td>\n",
       "      <td>8.0</td>\n",
       "      <td>NaN</td>\n",
       "      <td>NaN</td>\n",
       "      <td>...</td>\n",
       "      <td>None</td>\n",
       "      <td>None</td>\n",
       "      <td>NaN</td>\n",
       "      <td></td>\n",
       "      <td>1.0</td>\n",
       "      <td>NaN</td>\n",
       "      <td>NaN</td>\n",
       "      <td>NaN</td>\n",
       "      <td>GE</td>\n",
       "      <td>None</td>\n",
       "    </tr>\n",
       "    <tr>\n",
       "      <th>4</th>\n",
       "      <td>5</td>\n",
       "      <td>3_0</td>\n",
       "      <td>3</td>\n",
       "      <td>0</td>\n",
       "      <td>2018-01-01</td>\n",
       "      <td>20.0</td>\n",
       "      <td>31</td>\n",
       "      <td>8.0</td>\n",
       "      <td>NaN</td>\n",
       "      <td>NaN</td>\n",
       "      <td>...</td>\n",
       "      <td>None</td>\n",
       "      <td>None</td>\n",
       "      <td>NaN</td>\n",
       "      <td></td>\n",
       "      <td>1.0</td>\n",
       "      <td>NaN</td>\n",
       "      <td>NaN</td>\n",
       "      <td>NaN</td>\n",
       "      <td>assumed</td>\n",
       "      <td>None</td>\n",
       "    </tr>\n",
       "  </tbody>\n",
       "</table>\n",
       "<p>5 rows × 36 columns</p>\n",
       "</div>"
      ],
      "text/plain": [
       "   recID  PID  PID0  PID1    imgDate   LC5  LC  HOMONBHD9  ForestProx  \\\n",
       "0      1  1_0     1     0 2018-01-01  20.0  31        8.0         NaN   \n",
       "1      2  1_0     1     0 2022-01-01  20.0  31        8.0         NaN   \n",
       "2      3  2_0     2     0 2018-01-01  20.0  31        8.0         NaN   \n",
       "3      4  2_0     2     0 2022-01-01  20.0  31        8.0         NaN   \n",
       "4      5  3_0     3     0 2018-01-01  20.0  31        8.0         NaN   \n",
       "\n",
       "   WaterProx  ...  State  Type  Width  Notes  entry_lev  doubt_CNC  doubt_LC  \\\n",
       "0        NaN  ...   None  None    NaN               1.0        NaN       NaN   \n",
       "1        NaN  ...   None  None    NaN               1.0        NaN       NaN   \n",
       "2        NaN  ...   None  None    NaN               1.0        NaN       NaN   \n",
       "3        NaN  ...   None  None    NaN               1.0        NaN       NaN   \n",
       "4        NaN  ...   None  None    NaN               1.0        NaN       NaN   \n",
       "\n",
       "   doubt_LC5   source  Image  \n",
       "0        NaN  assumed   None  \n",
       "1        NaN       GE   None  \n",
       "2        NaN  assumed   None  \n",
       "3        NaN       GE   None  \n",
       "4        NaN  assumed   None  \n",
       "\n",
       "[5 rows x 36 columns]"
      ]
     },
     "execution_count": 47,
     "metadata": {},
     "output_type": "execute_result"
    }
   ],
   "source": [
    "with engine.connect() as con:\n",
    "    df = pd.read_sql_table('PixelVerification', con)\n",
    "df.head()"
   ]
  },
  {
   "cell_type": "code",
   "execution_count": 15,
   "id": "63fda8c1",
   "metadata": {},
   "outputs": [
    {
     "name": "stdout",
     "output_type": "stream",
     "text": [
      "(1,)\n"
     ]
    }
   ],
   "source": [
    "## first record:\n",
    "testDate = datetime(2000,1,1)\n",
    "with engine.connect() as conn:\n",
    "    pixvar = Table('PixelVerification', MetaData(), autoload_with=engine)\n",
    "    query = sa.insert(pixvar).values(PID='0_0', PID0=0, PID1=0, imgDate=testDate,LC5=0,LC=0,HOMONBHD9=8) \n",
    "    go = conn.execute(query)\n",
    "    conn.commit()\n",
    "    conn.close()\n",
    "print(go.inserted_primary_key)"
   ]
  },
  {
   "cell_type": "markdown",
   "id": "28a22630",
   "metadata": {},
   "source": [
    "### Cleaning"
   ]
  },
  {
   "cell_type": "markdown",
   "id": "3bd41371",
   "metadata": {},
   "source": [
    "##### To delete a table created by mistake WATCH OUT! This will delete everything in one sweep"
   ]
  },
  {
   "cell_type": "code",
   "execution_count": 49,
   "id": "3a7855bf",
   "metadata": {},
   "outputs": [],
   "source": [
    "'''\n",
    "conn = sqlite3.connect(local_db_path)\n",
    "c = conn.cursor()\n",
    "c.execute(\"DROP TABLE PixelVerification\")\n",
    "conn.commit()\n",
    "conn.close()\n",
    "'''"
   ]
  },
  {
   "cell_type": "code",
   "execution_count": 51,
   "id": "19088bce",
   "metadata": {},
   "outputs": [
    {
     "name": "stderr",
     "output_type": "stream",
     "text": [
      "C:\\Users\\klobw\\AppData\\Local\\Temp\\ipykernel_23556\\1107478555.py:1: DtypeWarning: Columns (35) have mixed types. Specify dtype option on import or set low_memory=False.\n",
      "  df = pd.read_csv('C:/GISprojects/ParaguayTraining/LatestPixDbInfo.csv')\n"
     ]
    },
    {
     "data": {
      "text/plain": [
       "93203"
      ]
     },
     "execution_count": 51,
     "metadata": {},
     "output_type": "execute_result"
    }
   ],
   "source": [
    "df = pd.read_csv('C:/GISprojects/ParaguayTraining/LatestPixDbInfo.csv')\n",
    "engine = create_engine('sqlite:///'+ local_db_path)                 \n",
    "df.to_sql('PixelVerification', con=engine, if_exists='append', index=False)"
   ]
  },
  {
   "cell_type": "code",
   "execution_count": null,
   "id": "422dc3b7",
   "metadata": {},
   "outputs": [],
   "source": []
  }
 ],
 "metadata": {
  "kernelspec": {
   "display_name": "Python [conda env:anaconda3-venv.pheno]",
   "language": "python",
   "name": "conda-env-anaconda3-venv.pheno-py"
  },
  "language_info": {
   "codemirror_mode": {
    "name": "ipython",
    "version": 3
   },
   "file_extension": ".py",
   "mimetype": "text/x-python",
   "name": "python",
   "nbconvert_exporter": "python",
   "pygments_lexer": "ipython3",
   "version": "3.8.18"
  }
 },
 "nbformat": 4,
 "nbformat_minor": 5
}
