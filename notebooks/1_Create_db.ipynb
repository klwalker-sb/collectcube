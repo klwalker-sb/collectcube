{
 "cells": [
  {
   "cell_type": "code",
   "execution_count": 5,
   "id": "2afa2e80",
   "metadata": {},
   "outputs": [],
   "source": [
    "# coding: utf-8"
   ]
  },
  {
   "cell_type": "code",
   "execution_count": 1,
   "id": "989552f5",
   "metadata": {},
   "outputs": [],
   "source": [
    "import os\n",
    "import sys\n",
    "from pathlib import Path\n",
    "import pandas as pd\n",
    "import sqlite3\n",
    "import sqlalchemy as sa\n",
    "from sqlalchemy import create_engine\n",
    "from sqlalchemy.sql import select\n",
    "from datetime import datetime"
   ]
  },
  {
   "cell_type": "code",
   "execution_count": 2,
   "id": "0af1add6",
   "metadata": {},
   "outputs": [],
   "source": [
    "sys.path.append(r\"../src/collectcube\")\n",
    "from db import *"
   ]
  },
  {
   "cell_type": "markdown",
   "id": "28ef5599",
   "metadata": {},
   "source": [
    "### Check that pixel table already exists"
   ]
  },
  {
   "cell_type": "code",
   "execution_count": 3,
   "id": "1fc4a62e",
   "metadata": {},
   "outputs": [
    {
     "data": {
      "text/html": [
       "<div>\n",
       "<style scoped>\n",
       "    .dataframe tbody tr th:only-of-type {\n",
       "        vertical-align: middle;\n",
       "    }\n",
       "\n",
       "    .dataframe tbody tr th {\n",
       "        vertical-align: top;\n",
       "    }\n",
       "\n",
       "    .dataframe thead th {\n",
       "        text-align: right;\n",
       "    }\n",
       "</style>\n",
       "<table border=\"1\" class=\"dataframe\">\n",
       "  <thead>\n",
       "    <tr style=\"text-align: right;\">\n",
       "      <th></th>\n",
       "      <th>PID</th>\n",
       "      <th>Center</th>\n",
       "      <th>cent_lat</th>\n",
       "      <th>cent_long</th>\n",
       "      <th>cent_X</th>\n",
       "      <th>cent_Y</th>\n",
       "      <th>ransamp</th>\n",
       "      <th>checked</th>\n",
       "      <th>PID0</th>\n",
       "      <th>PID1</th>\n",
       "    </tr>\n",
       "  </thead>\n",
       "  <tbody>\n",
       "    <tr>\n",
       "      <th>0</th>\n",
       "      <td>0000001_0</td>\n",
       "      <td>1</td>\n",
       "      <td>-22.692581</td>\n",
       "      <td>-55.655989</td>\n",
       "      <td>3168760.0</td>\n",
       "      <td>-2877060.0</td>\n",
       "      <td>1</td>\n",
       "      <td>0</td>\n",
       "      <td>1</td>\n",
       "      <td>0</td>\n",
       "    </tr>\n",
       "    <tr>\n",
       "      <th>1</th>\n",
       "      <td>0000002_0</td>\n",
       "      <td>1</td>\n",
       "      <td>-26.212240</td>\n",
       "      <td>-55.232312</td>\n",
       "      <td>3167140.0</td>\n",
       "      <td>-3308080.0</td>\n",
       "      <td>1</td>\n",
       "      <td>0</td>\n",
       "      <td>2</td>\n",
       "      <td>0</td>\n",
       "    </tr>\n",
       "    <tr>\n",
       "      <th>2</th>\n",
       "      <td>0000003_0</td>\n",
       "      <td>1</td>\n",
       "      <td>-26.454174</td>\n",
       "      <td>-55.398933</td>\n",
       "      <td>3148970.0</td>\n",
       "      <td>-3337470.0</td>\n",
       "      <td>1</td>\n",
       "      <td>0</td>\n",
       "      <td>3</td>\n",
       "      <td>0</td>\n",
       "    </tr>\n",
       "    <tr>\n",
       "      <th>3</th>\n",
       "      <td>0000004_0</td>\n",
       "      <td>1</td>\n",
       "      <td>-25.230882</td>\n",
       "      <td>-56.398586</td>\n",
       "      <td>3072420.0</td>\n",
       "      <td>-3188540.0</td>\n",
       "      <td>1</td>\n",
       "      <td>0</td>\n",
       "      <td>4</td>\n",
       "      <td>0</td>\n",
       "    </tr>\n",
       "    <tr>\n",
       "      <th>4</th>\n",
       "      <td>0000005_0</td>\n",
       "      <td>1</td>\n",
       "      <td>-24.552260</td>\n",
       "      <td>-56.964313</td>\n",
       "      <td>3028280.0</td>\n",
       "      <td>-3105580.0</td>\n",
       "      <td>1</td>\n",
       "      <td>0</td>\n",
       "      <td>5</td>\n",
       "      <td>0</td>\n",
       "    </tr>\n",
       "  </tbody>\n",
       "</table>\n",
       "</div>"
      ],
      "text/plain": [
       "         PID  Center   cent_lat  cent_long     cent_X     cent_Y  ransamp  \\\n",
       "0  0000001_0       1 -22.692581 -55.655989  3168760.0 -2877060.0        1   \n",
       "1  0000002_0       1 -26.212240 -55.232312  3167140.0 -3308080.0        1   \n",
       "2  0000003_0       1 -26.454174 -55.398933  3148970.0 -3337470.0        1   \n",
       "3  0000004_0       1 -25.230882 -56.398586  3072420.0 -3188540.0        1   \n",
       "4  0000005_0       1 -24.552260 -56.964313  3028280.0 -3105580.0        1   \n",
       "\n",
       "   checked  PID0  PID1  \n",
       "0        0     1     0  \n",
       "1        0     2     0  \n",
       "2        0     3     0  \n",
       "3        0     4     0  \n",
       "4        0     5     0  "
      ]
     },
     "execution_count": 3,
     "metadata": {},
     "output_type": "execute_result"
    }
   ],
   "source": [
    "sql_db_path = 'sqlite:///../data/db_samp/landcover.db'\n",
    "engine = create_engine(sql_db_path, echo=False)\n",
    "with engine.connect() as conn:\n",
    "    df = pd.read_sql_table('pixels', conn)\n",
    "df.head()"
   ]
  },
  {
   "cell_type": "markdown",
   "id": "84702eab",
   "metadata": {},
   "source": [
    "## Make sql lc table from existing lut.csv"
   ]
  },
  {
   "cell_type": "code",
   "execution_count": 4,
   "id": "6c9fa41a",
   "metadata": {},
   "outputs": [],
   "source": [
    "local_db_path = '../data/db_samp/landcover.db'\n",
    "lc_lut = Path(\"../data/Class_LUT.csv\")\n",
    "make_LC_table_from_lut(lc_lut, local_db_path, treat_existing='fail')"
   ]
  },
  {
   "cell_type": "markdown",
   "id": "4decf2d8",
   "metadata": {},
   "source": [
    "### check if it worked:"
   ]
  },
  {
   "cell_type": "code",
   "execution_count": 5,
   "id": "178c8fc2",
   "metadata": {},
   "outputs": [
    {
     "data": {
      "text/html": [
       "<div>\n",
       "<style scoped>\n",
       "    .dataframe tbody tr th:only-of-type {\n",
       "        vertical-align: middle;\n",
       "    }\n",
       "\n",
       "    .dataframe tbody tr th {\n",
       "        vertical-align: top;\n",
       "    }\n",
       "\n",
       "    .dataframe thead th {\n",
       "        text-align: right;\n",
       "    }\n",
       "</style>\n",
       "<table border=\"1\" class=\"dataframe\">\n",
       "  <thead>\n",
       "    <tr style=\"text-align: right;\">\n",
       "      <th></th>\n",
       "      <th>LC_UNQ</th>\n",
       "      <th>USE_NAME</th>\n",
       "      <th>LC5_name</th>\n",
       "      <th>LC5</th>\n",
       "      <th>LC25</th>\n",
       "    </tr>\n",
       "  </thead>\n",
       "  <tbody>\n",
       "    <tr>\n",
       "      <th>39</th>\n",
       "      <td>68</td>\n",
       "      <td>Trees-Forest_palm</td>\n",
       "      <td>Trees</td>\n",
       "      <td>70</td>\n",
       "      <td>68</td>\n",
       "    </tr>\n",
       "    <tr>\n",
       "      <th>40</th>\n",
       "      <td>70</td>\n",
       "      <td>Trees-Wetland</td>\n",
       "      <td>Trees</td>\n",
       "      <td>70</td>\n",
       "      <td>70</td>\n",
       "    </tr>\n",
       "    <tr>\n",
       "      <th>41</th>\n",
       "      <td>80</td>\n",
       "      <td>Trees-Forest</td>\n",
       "      <td>Trees</td>\n",
       "      <td>70</td>\n",
       "      <td>80</td>\n",
       "    </tr>\n",
       "    <tr>\n",
       "      <th>42</th>\n",
       "      <td>98</td>\n",
       "      <td>N_NoCrop</td>\n",
       "      <td>unknown</td>\n",
       "      <td>99</td>\n",
       "      <td>98</td>\n",
       "    </tr>\n",
       "    <tr>\n",
       "      <th>43</th>\n",
       "      <td>99</td>\n",
       "      <td>unknown</td>\n",
       "      <td>unknown</td>\n",
       "      <td>99</td>\n",
       "      <td>99</td>\n",
       "    </tr>\n",
       "  </tbody>\n",
       "</table>\n",
       "</div>"
      ],
      "text/plain": [
       "    LC_UNQ           USE_NAME LC5_name  LC5  LC25\n",
       "39      68  Trees-Forest_palm    Trees   70    68\n",
       "40      70      Trees-Wetland    Trees   70    70\n",
       "41      80       Trees-Forest    Trees   70    80\n",
       "42      98           N_NoCrop  unknown   99    98\n",
       "43      99            unknown  unknown   99    99"
      ]
     },
     "execution_count": 5,
     "metadata": {},
     "output_type": "execute_result"
    }
   ],
   "source": [
    "with engine.connect() as con:\n",
    "    df = pd.read_sql_table('LC', con)\n",
    "df.tail()"
   ]
  },
  {
   "cell_type": "markdown",
   "id": "a45b5e8b",
   "metadata": {},
   "source": [
    "### Add other tables to database using sqlalchemy to control foreign keys"
   ]
  },
  {
   "cell_type": "code",
   "execution_count": 6,
   "id": "ffcfef34",
   "metadata": {},
   "outputs": [
    {
     "name": "stdout",
     "output_type": "stream",
     "text": [
      "added LC5 and PixVar tables to db\n"
     ]
    }
   ],
   "source": [
    "def make_db(sql_db_path):\n",
    "    engine = create_engine(sql_db_path, echo=False)\n",
    "    make_main_support_tables(engine)\n",
    "    populate_LC5_table(engine)\n",
    "    \n",
    "make_db(sql_db_path)"
   ]
  },
  {
   "cell_type": "markdown",
   "id": "30ab87c8",
   "metadata": {},
   "source": [
    "### Check that tables are made and populated"
   ]
  },
  {
   "cell_type": "code",
   "execution_count": 7,
   "id": "cc99eb8d",
   "metadata": {},
   "outputs": [
    {
     "name": "stdout",
     "output_type": "stream",
     "text": [
      "[(0, ' ------'), (10, 'NoVeg'), (20, 'LowVeg'), (40, 'MedVeg'), (50, 'HighVeg'), (70, 'Trees'), (99, 'Unknown')]\n"
     ]
    }
   ],
   "source": [
    "with engine.connect() as conn:\n",
    "    lc5_table = Table('LC5', MetaData(), autoload_with=engine)\n",
    "    rp = conn.execute(lc5_table.select())\n",
    "results = rp.fetchall() \n",
    "print(results)"
   ]
  },
  {
   "cell_type": "code",
   "execution_count": 8,
   "id": "bd95d09b",
   "metadata": {
    "scrolled": true
   },
   "outputs": [
    {
     "data": {
      "text/html": [
       "<div>\n",
       "<style scoped>\n",
       "    .dataframe tbody tr th:only-of-type {\n",
       "        vertical-align: middle;\n",
       "    }\n",
       "\n",
       "    .dataframe tbody tr th {\n",
       "        vertical-align: top;\n",
       "    }\n",
       "\n",
       "    .dataframe thead th {\n",
       "        text-align: right;\n",
       "    }\n",
       "</style>\n",
       "<table border=\"1\" class=\"dataframe\">\n",
       "  <thead>\n",
       "    <tr style=\"text-align: right;\">\n",
       "      <th></th>\n",
       "      <th>LC5id</th>\n",
       "      <th>LC5type</th>\n",
       "    </tr>\n",
       "  </thead>\n",
       "  <tbody>\n",
       "    <tr>\n",
       "      <th>0</th>\n",
       "      <td>0</td>\n",
       "      <td>------</td>\n",
       "    </tr>\n",
       "    <tr>\n",
       "      <th>1</th>\n",
       "      <td>10</td>\n",
       "      <td>NoVeg</td>\n",
       "    </tr>\n",
       "    <tr>\n",
       "      <th>2</th>\n",
       "      <td>20</td>\n",
       "      <td>LowVeg</td>\n",
       "    </tr>\n",
       "    <tr>\n",
       "      <th>3</th>\n",
       "      <td>40</td>\n",
       "      <td>MedVeg</td>\n",
       "    </tr>\n",
       "    <tr>\n",
       "      <th>4</th>\n",
       "      <td>50</td>\n",
       "      <td>HighVeg</td>\n",
       "    </tr>\n",
       "  </tbody>\n",
       "</table>\n",
       "</div>"
      ],
      "text/plain": [
       "   LC5id  LC5type\n",
       "0      0   ------\n",
       "1     10    NoVeg\n",
       "2     20   LowVeg\n",
       "3     40   MedVeg\n",
       "4     50  HighVeg"
      ]
     },
     "execution_count": 8,
     "metadata": {},
     "output_type": "execute_result"
    }
   ],
   "source": [
    "with engine.connect() as con:\n",
    "    df = pd.read_sql_table('LC5', con)\n",
    "df.head()"
   ]
  },
  {
   "cell_type": "code",
   "execution_count": 9,
   "id": "ec14ebf7",
   "metadata": {},
   "outputs": [
    {
     "data": {
      "text/html": [
       "<div>\n",
       "<style scoped>\n",
       "    .dataframe tbody tr th:only-of-type {\n",
       "        vertical-align: middle;\n",
       "    }\n",
       "\n",
       "    .dataframe tbody tr th {\n",
       "        vertical-align: top;\n",
       "    }\n",
       "\n",
       "    .dataframe thead th {\n",
       "        text-align: right;\n",
       "    }\n",
       "</style>\n",
       "<table border=\"1\" class=\"dataframe\">\n",
       "  <thead>\n",
       "    <tr style=\"text-align: right;\">\n",
       "      <th></th>\n",
       "      <th>recID</th>\n",
       "      <th>PID</th>\n",
       "      <th>PID0</th>\n",
       "      <th>PID1</th>\n",
       "      <th>imgDate</th>\n",
       "      <th>LC5</th>\n",
       "      <th>LC</th>\n",
       "      <th>HOMONBHD9</th>\n",
       "      <th>ForestProx</th>\n",
       "      <th>WaterProx</th>\n",
       "      <th>...</th>\n",
       "      <th>DEAD</th>\n",
       "      <th>MEDVEG</th>\n",
       "      <th>TREEPLANT0</th>\n",
       "      <th>HIGHVEG</th>\n",
       "      <th>TREEPLANT</th>\n",
       "      <th>FOREST</th>\n",
       "      <th>Age</th>\n",
       "      <th>Stability</th>\n",
       "      <th>State</th>\n",
       "      <th>Notes</th>\n",
       "    </tr>\n",
       "  </thead>\n",
       "  <tbody>\n",
       "  </tbody>\n",
       "</table>\n",
       "<p>0 rows × 28 columns</p>\n",
       "</div>"
      ],
      "text/plain": [
       "Empty DataFrame\n",
       "Columns: [recID, PID, PID0, PID1, imgDate, LC5, LC, HOMONBHD9, ForestProx, WaterProx, PercentTree, BUILT, BARE, WATER, CROPMONO, CROPMIX, CROPMED, GRASS, DEAD, MEDVEG, TREEPLANT0, HIGHVEG, TREEPLANT, FOREST, Age, Stability, State, Notes]\n",
       "Index: []\n",
       "\n",
       "[0 rows x 28 columns]"
      ]
     },
     "execution_count": 9,
     "metadata": {},
     "output_type": "execute_result"
    }
   ],
   "source": [
    "with engine.connect() as con:\n",
    "    df = pd.read_sql_table('PixelVerification', con)\n",
    "df.head()"
   ]
  },
  {
   "cell_type": "code",
   "execution_count": 10,
   "id": "63fda8c1",
   "metadata": {},
   "outputs": [
    {
     "name": "stdout",
     "output_type": "stream",
     "text": [
      "(1,)\n"
     ]
    }
   ],
   "source": [
    "## first record:\n",
    "testDate = datetime(2000,1,1)\n",
    "with engine.connect() as conn:\n",
    "    pixvar = Table('PixelVerification', MetaData(), autoload_with=engine)\n",
    "    query = sa.insert(pixvar).values(PID='0_0', PID0=0, PID1=0, imgDate=testDate,LC5=0,LC=0,HOMONBHD9=8) \n",
    "    go = conn.execute(query)\n",
    "    conn.commit()\n",
    "print(go.inserted_primary_key)"
   ]
  },
  {
   "cell_type": "code",
   "execution_count": null,
   "id": "3a7855bf",
   "metadata": {},
   "outputs": [],
   "source": []
  }
 ],
 "metadata": {
  "kernelspec": {
   "display_name": "Python [conda env:anaconda3-venv.pheno]",
   "language": "python",
   "name": "conda-env-anaconda3-venv.pheno-py"
  },
  "language_info": {
   "codemirror_mode": {
    "name": "ipython",
    "version": 3
   },
   "file_extension": ".py",
   "mimetype": "text/x-python",
   "name": "python",
   "nbconvert_exporter": "python",
   "pygments_lexer": "ipython3",
   "version": "3.8.18"
  }
 },
 "nbformat": 4,
 "nbformat_minor": 5
}
