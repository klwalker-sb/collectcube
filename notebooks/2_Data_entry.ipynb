{
 "cells": [
  {
   "cell_type": "code",
   "execution_count": 1,
   "id": "2afa2e80",
   "metadata": {},
   "outputs": [],
   "source": [
    "# coding: utf-8"
   ]
  },
  {
   "cell_type": "code",
   "execution_count": 1,
   "id": "989552f5",
   "metadata": {},
   "outputs": [],
   "source": [
    "import os\n",
    "import sys\n",
    "from pathlib import Path\n",
    "\n",
    "from PyQt5.QtSql import QSqlDatabase  # PyQt6 version crashes for me \n",
    "from PyQt5.QtSql import QSqlTableModel, QSqlQuery"
   ]
  },
  {
   "cell_type": "code",
   "execution_count": 2,
   "id": "0af1add6",
   "metadata": {},
   "outputs": [],
   "source": [
    "sys.path.append(r\"../src/collectcube\")\n",
    "from qt import *\n",
    "from entryform_main import *"
   ]
  },
  {
   "cell_type": "markdown",
   "id": "84702eab",
   "metadata": {},
   "source": [
    "## Open entry form"
   ]
  },
  {
   "cell_type": "code",
   "execution_count": 4,
   "id": "f38c3a8d",
   "metadata": {},
   "outputs": [],
   "source": [
    "#local_db_path = '../data/example/landcover.db'\n",
    "local_db_path = 'C:/GISprojects/ParaguayTraining/py_training.db'\n",
    "#db = createConnection(local_db_path)"
   ]
  },
  {
   "cell_type": "code",
   "execution_count": 4,
   "id": "b5e144b1",
   "metadata": {},
   "outputs": [],
   "source": [
    "#show_table(local_db_path, 'tempTable')\n",
    "#show_table(local_db_path, 'pixels')\n",
    "show_table(local_db_path, 'PixelVerification')"
   ]
  },
  {
   "cell_type": "code",
   "execution_count": 6,
   "id": "cfae8d4c",
   "metadata": {},
   "outputs": [
    {
     "name": "stdout",
     "output_type": "stream",
     "text": [
      "Tables in db: ['pixels', 'LC', 'LC5', 'PixelVerification', 'LC_simp']\n"
     ]
    }
   ],
   "source": [
    "## entry_lev:\n",
    "##   5: all cats, all details\n",
    "##   4: all cats, all details, but full neighborhood not required\n",
    "##   3: all cats, neighborhood and within-pixel percentages not required\n",
    "##   2:\n",
    "##   1: only basic cats (tree,no_crop,crop_mix,crop_med,crop_mono) \n",
    "\n",
    "#local_db_path = '../data/example/landcover.db'"
   ]
  },
  {
   "cell_type": "markdown",
   "id": "773e091f",
   "metadata": {},
   "source": [
    "### For District sample dataset"
   ]
  },
  {
   "cell_type": "code",
   "execution_count": null,
   "id": "77633418",
   "metadata": {},
   "outputs": [],
   "source": [
    "local_db_path = 'C:/GISprojects/ParaguayValidation/smDistricts/landcover.db'\n",
    "open_obs_ui(local_db_path,4)"
   ]
  },
  {
   "cell_type": "markdown",
   "id": "2189483f",
   "metadata": {},
   "source": [
    "### For general training dataset:"
   ]
  },
  {
   "cell_type": "code",
   "execution_count": 3,
   "id": "c12d1340",
   "metadata": {},
   "outputs": [
    {
     "name": "stdout",
     "output_type": "stream",
     "text": [
      "Tables in db: ['pixels', 'LC_simp', 'LC', 'LC5', 'PixelVerification']\n"
     ]
    }
   ],
   "source": [
    "local_db_path = 'C:/GISprojects/ParaguayTraining/py_training.db'\n",
    "open_obs_ui(local_db_path,4)"
   ]
  },
  {
   "cell_type": "markdown",
   "id": "e8fb7885",
   "metadata": {},
   "source": [
    "## db cleaning"
   ]
  },
  {
   "cell_type": "code",
   "execution_count": 8,
   "id": "621824af",
   "metadata": {},
   "outputs": [
    {
     "name": "stdout",
     "output_type": "stream",
     "text": [
      "('0029466_0', 1, 3007360.0, -3232540.0, -25.59160678920383, -57.065245450030304, 1, 0, 29466, 0, 'GE_extra', 0.28, 0.35)\n"
     ]
    }
   ],
   "source": [
    "con = sqlite3.connect(local_db_path)\n",
    "c = con.cursor()\n",
    "c.execute(\"SELECT * FROM pixels WHERE PID0 = '29466'\")\n",
    "con.commit()\n",
    "print(c.fetchone()) \n",
    "c.close()"
   ]
  },
  {
   "cell_type": "code",
   "execution_count": 9,
   "id": "d5830871",
   "metadata": {},
   "outputs": [],
   "source": [
    "con = sqlite3.connect(local_db_path)\n",
    "c = con.cursor()\n",
    "c.execute(\"UPDATE pixels SET cent_Y = '-3232520.0' WHERE PID0 ='29466'\")\n",
    "con.commit()\n",
    "c.close()"
   ]
  },
  {
   "cell_type": "code",
   "execution_count": 7,
   "id": "d5c41679",
   "metadata": {},
   "outputs": [],
   "source": [
    "'''\n",
    "con = sqlite3.connect(local_db_path)\n",
    "c = con.cursor()\n",
    "c.execute(\"UPDATE PixelVerification SET imgDate = '2023-06-01' WHERE imgDate =''\")\n",
    "con.commit()\n",
    "c.close()\n",
    "'''"
   ]
  },
  {
   "cell_type": "markdown",
   "id": "5075e143",
   "metadata": {},
   "source": [
    "### delete record"
   ]
  },
  {
   "cell_type": "code",
   "execution_count": 3,
   "id": "a08233ba",
   "metadata": {},
   "outputs": [
    {
     "data": {
      "text/plain": [
       "\"\\nfrom db import delete_record_sqlite\\n\\nlocal_db_path = 'C:/GISprojects/ParaguayValidation/smDistricts/landcover.db'\\nbad_id = '2016-03-06_0'\\ndelete_record_sqlite(local_db_path, bad_id)\\n\""
      ]
     },
     "execution_count": 3,
     "metadata": {},
     "output_type": "execute_result"
    }
   ],
   "source": [
    "## Note, db needs pandas\n",
    "'''\n",
    "from db import delete_record_sqlite\n",
    "\n",
    "local_db_path = 'C:/GISprojects/ParaguayValidation/smDistricts/landcover.db'\n",
    "bad_id = '2016-03-06_0'\n",
    "delete_record_sqlite(local_db_path, bad_id)\n",
    "'''"
   ]
  },
  {
   "cell_type": "code",
   "execution_count": null,
   "id": "55644737",
   "metadata": {},
   "outputs": [],
   "source": []
  }
 ],
 "metadata": {
  "kernelspec": {
   "display_name": "Python [conda env:anaconda3-venv.collect_sql]",
   "language": "python",
   "name": "conda-env-anaconda3-venv.collect_sql-py"
  },
  "language_info": {
   "codemirror_mode": {
    "name": "ipython",
    "version": 3
   },
   "file_extension": ".py",
   "mimetype": "text/x-python",
   "name": "python",
   "nbconvert_exporter": "python",
   "pygments_lexer": "ipython3",
   "version": "3.8.19"
  }
 },
 "nbformat": 4,
 "nbformat_minor": 5
}
