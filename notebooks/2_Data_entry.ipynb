{
 "cells": [
  {
   "cell_type": "code",
   "execution_count": 1,
   "id": "2afa2e80",
   "metadata": {},
   "outputs": [],
   "source": [
    "# coding: utf-8"
   ]
  },
  {
   "cell_type": "code",
   "execution_count": 1,
   "id": "989552f5",
   "metadata": {},
   "outputs": [],
   "source": [
    "import os\n",
    "import sys\n",
    "from pathlib import Path\n",
    "\n",
    "from PyQt5.QtSql import QSqlDatabase  # PyQt6 version crashes for me \n",
    "from PyQt5.QtSql import QSqlTableModel, QSqlQuery"
   ]
  },
  {
   "cell_type": "code",
   "execution_count": 3,
   "id": "0af1add6",
   "metadata": {},
   "outputs": [],
   "source": [
    "sys.path.append(r\"../src/collectcube\")\n",
    "from qt import *\n",
    "from entryform_main import *"
   ]
  },
  {
   "cell_type": "markdown",
   "id": "84702eab",
   "metadata": {},
   "source": [
    "## Open entry form"
   ]
  },
  {
   "cell_type": "code",
   "execution_count": 7,
   "id": "f38c3a8d",
   "metadata": {},
   "outputs": [],
   "source": [
    "local_db_path = '../data/example/landcover.db'\n",
    "#db = createConnection(local_db_path)"
   ]
  },
  {
   "cell_type": "code",
   "execution_count": 8,
   "id": "b5e144b1",
   "metadata": {},
   "outputs": [],
   "source": [
    "#show_table(local_db_path, 'tempTable')\n",
    "show_table(local_db_path, 'pixels')\n",
    "#show_table(local_db_path, 'PixelVerification')"
   ]
  },
  {
   "cell_type": "code",
   "execution_count": 6,
   "id": "cfae8d4c",
   "metadata": {},
   "outputs": [
    {
     "name": "stdout",
     "output_type": "stream",
     "text": [
      "Tables in db: ['pixels', 'LC', 'LC5', 'PixelVerification', 'LC_simp']\n"
     ]
    }
   ],
   "source": [
    "## entry_lev:\n",
    "##   5: all cats, all details\n",
    "##   4: all cats, all details, but full neighborhood not required\n",
    "##   3: all cats, neighborhood and within-pixel percentages not required\n",
    "##   2:\n",
    "##   1: only basic cats (tree,no_crop,crop_mix,crop_med,crop_mono) \n",
    "\n",
    "#local_db_path = '../data/example/landcover.db'"
   ]
  },
  {
   "cell_type": "markdown",
   "id": "773e091f",
   "metadata": {},
   "source": [
    "### For District sample dataset"
   ]
  },
  {
   "cell_type": "code",
   "execution_count": null,
   "id": "77633418",
   "metadata": {},
   "outputs": [],
   "source": [
    "local_db_path = 'C:/GISprojects/ParaguayValidation/smDistricts/landcover.db'\n",
    "open_obs_ui(local_db_path,4)"
   ]
  },
  {
   "cell_type": "markdown",
   "id": "2189483f",
   "metadata": {},
   "source": [
    "### For general training dataset:"
   ]
  },
  {
   "cell_type": "code",
   "execution_count": null,
   "id": "c12d1340",
   "metadata": {},
   "outputs": [
    {
     "name": "stdout",
     "output_type": "stream",
     "text": [
      "Tables in db: ['pixels', 'LC', 'LC_simp', 'LC5', 'PixelVerification']\n",
      "next record id = 28665\n",
      "next record id = 28666\n",
      "next record id = 28667\n",
      "next record id = 28668\n",
      "next record id = 28669\n",
      "next record id = 28670\n",
      "next record id = 28671\n",
      "next record id = 28672\n",
      "next record id = 28673\n",
      "next record id = 28674\n",
      "next record id = 28675\n",
      "next record id = 28676\n",
      "next record id = 28677\n",
      "next record id = 28678\n",
      "next record id = 28679\n",
      "next record id = 28680\n",
      "next record id = 28681\n",
      "next record id = 28682\n",
      "next record id = 28683\n",
      "next record id = 28684\n",
      "next record id = 28685\n",
      "next record id = 28686\n",
      "next record id = 28687\n",
      "next record id = 28688\n",
      "next record id = 28689\n",
      "next record id = 28690\n",
      "next record id = 28691\n",
      "next record id = 28692\n",
      "next record id = 28693\n",
      "next record id = 28694\n",
      "next record id = 28695\n",
      "next record id = 28696\n",
      "next record id = 28697\n",
      "next record id = 28698\n",
      "next record id = 28699\n",
      "next record id = 28700\n",
      "next record id = 28701\n",
      "copying record for neighbor 1\n",
      "next record id = 28703\n",
      "next record id = 28705\n",
      "next record id = 28707\n",
      "next record id = 28709\n",
      "next record id = 28711\n",
      "next record id = 28713\n",
      "next record id = 28715\n",
      "next record id = 28716\n",
      "next record id = 28717\n",
      "next record id = 28718\n",
      "next record id = 28719\n",
      "next record id = 28720\n",
      "next record id = 28721\n",
      "next record id = 28722\n",
      "next record id = 28723\n",
      "next record id = 28724\n",
      "next record id = 28725\n",
      "next record id = 28726\n",
      "next record id = 28727\n",
      "next record id = 28728\n",
      "next record id = 28729\n",
      "next record id = 28730\n",
      "next record id = 28731\n",
      "next record id = 28732\n",
      "next record id = 28733\n",
      "next record id = 28734\n",
      "next record id = 28735\n",
      "next record id = 28736\n",
      "next record id = 28737\n",
      "next record id = 28738\n",
      "next record id = 28739\n",
      "next record id = 28740\n",
      "next record id = 28741\n",
      "next record id = 28742\n",
      "next record id = 28743\n",
      "next record id = 28744\n",
      "next record id = 28745\n",
      "copying record for neighbor 8\n",
      "copying record for neighbor 1\n",
      "next record id = 28748\n",
      "next record id = 28757\n",
      "next record id = 28766\n",
      "next record id = 28775\n",
      "next record id = 28784\n",
      "copying record for neighbor 6\n",
      "copying record for neighbor 3\n",
      "next record id = 28795\n",
      "next record id = 28802\n",
      "next record id = 28809\n",
      "next record id = 28816\n",
      "next record id = 28823\n",
      "next record id = 28830\n",
      "next record id = 28831\n",
      "next record id = 28832\n",
      "next record id = 28833\n",
      "next record id = 28834\n",
      "next record id = 28835\n",
      "next record id = 28836\n",
      "next record id = 28837\n",
      "next record id = 28838\n",
      "next record id = 28839\n",
      "next record id = 28840\n"
     ]
    }
   ],
   "source": [
    "local_db_path = 'C:/GISprojects/ParaguayTraining/py_training.db'\n",
    "open_obs_ui(local_db_path,4)"
   ]
  },
  {
   "cell_type": "markdown",
   "id": "e8fb7885",
   "metadata": {},
   "source": [
    "## db cleaning"
   ]
  },
  {
   "cell_type": "markdown",
   "id": "5075e143",
   "metadata": {},
   "source": [
    "### delete record"
   ]
  },
  {
   "cell_type": "code",
   "execution_count": 3,
   "id": "a08233ba",
   "metadata": {},
   "outputs": [
    {
     "data": {
      "text/plain": [
       "\"\\nfrom db import delete_record_sqlite\\n\\nlocal_db_path = 'C:/GISprojects/ParaguayValidation/smDistricts/landcover.db'\\nbad_id = '2016-03-06_0'\\ndelete_record_sqlite(local_db_path, bad_id)\\n\""
      ]
     },
     "execution_count": 3,
     "metadata": {},
     "output_type": "execute_result"
    }
   ],
   "source": [
    "## Note, db needs pandas\n",
    "'''\n",
    "from db import delete_record_sqlite\n",
    "\n",
    "local_db_path = 'C:/GISprojects/ParaguayValidation/smDistricts/landcover.db'\n",
    "bad_id = '2016-03-06_0'\n",
    "delete_record_sqlite(local_db_path, bad_id)\n",
    "'''"
   ]
  },
  {
   "cell_type": "code",
   "execution_count": null,
   "id": "55644737",
   "metadata": {},
   "outputs": [],
   "source": []
  }
 ],
 "metadata": {
  "kernelspec": {
   "display_name": "Python [conda env:anaconda3-venv.collect_sql]",
   "language": "python",
   "name": "conda-env-anaconda3-venv.collect_sql-py"
  },
  "language_info": {
   "codemirror_mode": {
    "name": "ipython",
    "version": 3
   },
   "file_extension": ".py",
   "mimetype": "text/x-python",
   "name": "python",
   "nbconvert_exporter": "python",
   "pygments_lexer": "ipython3",
   "version": "3.8.19"
  }
 },
 "nbformat": 4,
 "nbformat_minor": 5
}
