{
 "cells": [
  {
   "cell_type": "code",
   "execution_count": 4,
   "id": "2afa2e80",
   "metadata": {},
   "outputs": [],
   "source": [
    "# coding: utf-8"
   ]
  },
  {
   "cell_type": "code",
   "execution_count": 1,
   "id": "989552f5",
   "metadata": {},
   "outputs": [],
   "source": [
    "import os\n",
    "import sys\n",
    "from pathlib import Path\n",
    "\n",
    "from PyQt5.QtSql import QSqlDatabase  # PyQt6 version crashes for me \n",
    "from PyQt5.QtSql import QSqlTableModel, QSqlQuery"
   ]
  },
  {
   "cell_type": "code",
   "execution_count": 2,
   "id": "0af1add6",
   "metadata": {},
   "outputs": [],
   "source": [
    "sys.path.append(r\"../src/collectcube\")\n",
    "from qt import *\n",
    "from entryform_main import *"
   ]
  },
  {
   "cell_type": "markdown",
   "id": "84702eab",
   "metadata": {},
   "source": [
    "## Open entry form"
   ]
  },
  {
   "cell_type": "code",
   "execution_count": 3,
   "id": "f38c3a8d",
   "metadata": {},
   "outputs": [],
   "source": [
    "local_db_path = '../data/example/landcover.db'\n",
    "#db = createConnection(local_db_path)"
   ]
  },
  {
   "cell_type": "code",
   "execution_count": 6,
   "id": "b5e144b1",
   "metadata": {},
   "outputs": [],
   "source": [
    "#show_table(local_db_path, 'tempTable')\n",
    "#show_table(local_db_path, 'LC')\n",
    "show_table(local_db_path, 'PixelVerification')"
   ]
  },
  {
   "cell_type": "code",
   "execution_count": null,
   "id": "cfae8d4c",
   "metadata": {},
   "outputs": [
    {
     "name": "stdout",
     "output_type": "stream",
     "text": [
      "Tables in db: ['pixels', 'LC', 'LC5', 'PixelVerification']\n",
      "next record id = 590\n",
      "next record id = 594\n",
      "next record id = 598\n",
      "next record id = 602\n",
      "next record id = 606\n",
      "next record id = 610\n",
      "2\n",
      "box is unchecked\n",
      "next record id = 615\n",
      "next record id = 616\n",
      "next record id = 617\n",
      "next record id = 618\n",
      "next record id = 619\n",
      "next record id = 621\n",
      "next record id = 622\n",
      "next record id = 623\n",
      "next record id = 624\n",
      "next record id = 626\n",
      "next record id = 627\n",
      "next record id = 628\n",
      "next record id = 629\n",
      "next record id = 630\n",
      "next record id = 632\n",
      "next record id = 633\n",
      "next record id = 635\n",
      "next record id = 636\n",
      "next record id = 637\n",
      "next record id = 638\n",
      "next record id = 639\n",
      "next record id = 641\n",
      "next record id = 642\n",
      "next record id = 643\n",
      "next record id = 644\n",
      "next record id = 645\n",
      "next record id = 646\n",
      "next record id = 648\n",
      "next record id = 649\n",
      "next record id = 650\n",
      "next record id = 651\n",
      "next record id = 652\n",
      "next record id = 653\n"
     ]
    }
   ],
   "source": [
    "#local_db_path = '../data/example/landcover.db'\n",
    "local_db_path = 'C:/GISprojects/ParaguayValidation/smDistricts/landcover.db'\n",
    "open_obs_ui(local_db_path)"
   ]
  },
  {
   "cell_type": "markdown",
   "id": "e8fb7885",
   "metadata": {},
   "source": [
    "## db cleaning"
   ]
  },
  {
   "cell_type": "markdown",
   "id": "5075e143",
   "metadata": {},
   "source": [
    "### delete record"
   ]
  },
  {
   "cell_type": "code",
   "execution_count": 3,
   "id": "a08233ba",
   "metadata": {},
   "outputs": [
    {
     "name": "stdout",
     "output_type": "stream",
     "text": [
      "Total records affected:  1\n"
     ]
    }
   ],
   "source": [
    "## Note, db needs pandas\n",
    "'''\n",
    "from db import delete_record_sqlite\n",
    "\n",
    "local_db_path = 'C:/GISprojects/ParaguayValidation/smDistricts/landcover.db'\n",
    "bad_id = '2016-03-06_0'\n",
    "delete_record_sqlite(local_db_path, bad_id)\n",
    "'''"
   ]
  },
  {
   "cell_type": "code",
   "execution_count": null,
   "id": "55644737",
   "metadata": {},
   "outputs": [],
   "source": []
  }
 ],
 "metadata": {
  "kernelspec": {
   "display_name": "Python [conda env:anaconda3-venv.collect_sql]",
   "language": "python",
   "name": "conda-env-anaconda3-venv.collect_sql-py"
  },
  "language_info": {
   "codemirror_mode": {
    "name": "ipython",
    "version": 3
   },
   "file_extension": ".py",
   "mimetype": "text/x-python",
   "name": "python",
   "nbconvert_exporter": "python",
   "pygments_lexer": "ipython3",
   "version": "3.8.19"
  }
 },
 "nbformat": 4,
 "nbformat_minor": 5
}
