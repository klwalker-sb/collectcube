{
 "cells": [
  {
   "cell_type": "code",
   "execution_count": 4,
   "id": "2afa2e80",
   "metadata": {},
   "outputs": [],
   "source": [
    "# coding: utf-8"
   ]
  },
  {
   "cell_type": "code",
   "execution_count": 1,
   "id": "989552f5",
   "metadata": {},
   "outputs": [],
   "source": [
    "import os\n",
    "import sys\n",
    "from pathlib import Path\n",
    "#import pandas as pd\n",
    "#import sqlite3\n",
    "#from sqlalchemy import create_engine\n",
    "#from sqlalchemy.sql import select\n",
    "\n",
    "from PyQt5.QtSql import QSqlDatabase  # PyQt6 version crashes for me \n",
    "from PyQt5.QtSql import QSqlTableModel, QSqlQuery"
   ]
  },
  {
   "cell_type": "code",
   "execution_count": 2,
   "id": "0af1add6",
   "metadata": {},
   "outputs": [],
   "source": [
    "sys.path.append(r\"../src/collectcube\")\n",
    "from qt import *\n",
    "from entryform_main import *"
   ]
  },
  {
   "cell_type": "markdown",
   "id": "84702eab",
   "metadata": {},
   "source": [
    "## Open entry form"
   ]
  },
  {
   "cell_type": "code",
   "execution_count": 3,
   "id": "f38c3a8d",
   "metadata": {},
   "outputs": [],
   "source": [
    "local_db_path = '../data/db_samp/landcover.db'\n",
    "#db = createConnection(local_db_path)"
   ]
  },
  {
   "cell_type": "code",
   "execution_count": 4,
   "id": "b5e144b1",
   "metadata": {},
   "outputs": [],
   "source": [
    "#show_table(local_db_path, 'tempTable')\n",
    "#show_table(local_db_path, 'LC')\n",
    "show_table(local_db_path, 'PixelVerification')"
   ]
  },
  {
   "cell_type": "code",
   "execution_count": 3,
   "id": "cfae8d4c",
   "metadata": {},
   "outputs": [
    {
     "name": "stdout",
     "output_type": "stream",
     "text": [
      "Tables in db: ['pixels', 'LC', 'LC5', 'PixelVerification']\n"
     ]
    }
   ],
   "source": [
    "local_db_path = '../data/db_samp/landcover.db'\n",
    "open_obs_ui(local_db_path)"
   ]
  },
  {
   "cell_type": "code",
   "execution_count": null,
   "id": "ada190a0",
   "metadata": {},
   "outputs": [],
   "source": []
  },
  {
   "cell_type": "code",
   "execution_count": null,
   "id": "169ec679",
   "metadata": {},
   "outputs": [],
   "source": []
  }
 ],
 "metadata": {
  "kernelspec": {
   "display_name": "Python [conda env:anaconda3-venv.collect_sql]",
   "language": "python",
   "name": "conda-env-anaconda3-venv.collect_sql-py"
  },
  "language_info": {
   "codemirror_mode": {
    "name": "ipython",
    "version": 3
   },
   "file_extension": ".py",
   "mimetype": "text/x-python",
   "name": "python",
   "nbconvert_exporter": "python",
   "pygments_lexer": "ipython3",
   "version": "3.8.19"
  }
 },
 "nbformat": 4,
 "nbformat_minor": 5
}
