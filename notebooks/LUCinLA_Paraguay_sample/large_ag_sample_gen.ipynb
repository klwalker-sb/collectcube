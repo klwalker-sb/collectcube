{
 "cells": [
  {
   "cell_type": "code",
   "execution_count": 2,
   "id": "989552f5",
   "metadata": {},
   "outputs": [],
   "source": [
    "import os\n",
    "import sys\n",
    "import random\n",
    "from pathlib import Path\n",
    "import osgeo  #Needed for use on Windows only\n",
    "import matplotlib.pyplot as plt\n",
    "from rasterio import plot\n",
    "from rasterio.plot import show\n",
    "import geopandas as gpd\n",
    "from datetime import datetime\n",
    "import sqlalchemy as sa\n",
    "%matplotlib inline"
   ]
  },
  {
   "cell_type": "code",
   "execution_count": 3,
   "id": "0af1add6",
   "metadata": {},
   "outputs": [],
   "source": [
    "sys.path.append(r\"../../src/collectcube\")\n",
    "from samplegen import *\n",
    "from db import *"
   ]
  },
  {
   "cell_type": "code",
   "execution_count": 10,
   "id": "6c8411a7",
   "metadata": {},
   "outputs": [],
   "source": [
    "## aoi_in = shapefile or geopkg with polygon objet(s) sample form\n",
    "aoi_in = Path(\"../../data/LUCinLA_paraguay/lgSamp/lgSampDistricts.shp\")\n",
    "out_dir = '../../data/LUCinLA_paraguay/lgSamp'\n",
    "local_db_path = 'C:/GISprojects/ParaguayValidation/smDistricts/landcover.db'\n",
    "## reference .tif with target crs and resolution\n",
    "ref_ras = Path(\"../../data/LUCinLA_paraguay/samp_ras.tif\")\n",
    "\n",
    "res = 10"
   ]
  },
  {
   "cell_type": "code",
   "execution_count": 11,
   "id": "f8d4c0ac",
   "metadata": {},
   "outputs": [
    {
     "name": "stdout",
     "output_type": "stream",
     "text": [
      "['D0506_Caaguazu_DJMF', 'D0725_Itapua_AV', 'D1012_AltoParana_SC', 'D1016_AltoParana_MP', 'D1409_Canindeyu_LP']\n"
     ]
    }
   ],
   "source": [
    "samp_polys = gpd.read_file(aoi_in)\n",
    "samp_dists = samp_polys['UNQ'].values.tolist()\n",
    "print(samp_dists)"
   ]
  },
  {
   "cell_type": "markdown",
   "id": "864dd318",
   "metadata": {},
   "source": [
    "## Get random sample within polygon"
   ]
  },
  {
   "cell_type": "code",
   "execution_count": 12,
   "id": "e3515b88",
   "metadata": {},
   "outputs": [],
   "source": [
    "def get_multi_poly_sample(aoi_in,sampsize, ref_ras, db_path, out_dir):\n",
    "    pt_file_out = os.path.join(out_dir,'samp_pts.shp')\n",
    "    box_file_out = os.path.join(out_dir,'samp_boxes.shp')\n",
    "    \n",
    "    samp_polys = gpd.read_file(aoi_in)\n",
    "    samp_dists = samp_polys['UNQ'].values.tolist()\n",
    "    for i,subply in enumerate(samp_dists):\n",
    "        if subply == None:\n",
    "            print('oops -- No UNQ')\n",
    "        else:\n",
    "            print(subply)\n",
    "            gs = get_sample_in_poly(aoi_in, sampsize, seed=992, subpoly=subply)\n",
    "            gs_shift = move_points_to_pixel_centroids(gs, ref_ras, write_pts=False)\n",
    "            maxpid = get_max_id_in_db(db_path)\n",
    "            print(f'maxid={maxpid}')\n",
    "            if i==0:\n",
    "                pts = get_full_point_file(gs_shift, pt_file_out, res, lastpt=maxpid, write_pts=False)\n",
    "                ptsdf = make_pixel_table(pts,subply)\n",
    "            else:\n",
    "                pts_sub = get_full_point_file(gs_shift, pt_file_out, res, lastpt=maxpid, write_pts=False)\n",
    "                ptsdf = make_pixel_table(pts_sub,subply)\n",
    "                pts = pd.concat([pts,pts_sub], axis=0)\n",
    "    \n",
    "            #print(ptsdf.tail())\n",
    "            make_pixel_table_in_db(ptsdf, db_path, 'append')\n",
    "            \n",
    "    centpts = pts[pts['Center']==1]\n",
    "    centpts.to_file(pt_file_out, driver='ESRI Shapefile')\n",
    "    boxes = make_pixel_boxes_from_pts(pts, box_file_out, res, write_boxes=True)\n",
    "    \n",
    "    return pts"
   ]
  },
  {
   "cell_type": "code",
   "execution_count": 13,
   "id": "748bcf2e",
   "metadata": {},
   "outputs": [
    {
     "name": "stdout",
     "output_type": "stream",
     "text": [
      "D0506_Caaguazu_DJMF\n",
      "aoi file has crs:epsg:8858\n",
      "ref_ras has crs:EPSG:8858\n",
      "maxid=5499\n",
      "<class 'geopandas.geodataframe.GeoDataFrame'>\n",
      "there are 4000 neighbor pixels\n",
      "there are 4500 total pixels\n",
      "D0725_Itapua_AV\n",
      "aoi file has crs:epsg:8858\n",
      "ref_ras has crs:EPSG:8858\n",
      "maxid=5999\n",
      "<class 'geopandas.geodataframe.GeoDataFrame'>\n",
      "there are 4000 neighbor pixels\n",
      "there are 4500 total pixels\n",
      "D1012_AltoParana_SC\n",
      "aoi file has crs:epsg:8858\n",
      "ref_ras has crs:EPSG:8858\n",
      "maxid=6499\n",
      "<class 'geopandas.geodataframe.GeoDataFrame'>\n",
      "there are 4000 neighbor pixels\n",
      "there are 4500 total pixels\n",
      "D1016_AltoParana_MP\n",
      "aoi file has crs:epsg:8858\n",
      "ref_ras has crs:EPSG:8858\n",
      "maxid=6999\n",
      "<class 'geopandas.geodataframe.GeoDataFrame'>\n",
      "there are 4000 neighbor pixels\n",
      "there are 4500 total pixels\n",
      "D1409_Canindeyu_LP\n",
      "aoi file has crs:epsg:8858\n",
      "ref_ras has crs:EPSG:8858\n",
      "maxid=7499\n",
      "<class 'geopandas.geodataframe.GeoDataFrame'>\n",
      "there are 4000 neighbor pixels\n",
      "there are 4500 total pixels\n"
     ]
    }
   ],
   "source": [
    "samp = get_multi_poly_sample(aoi_in,500, ref_ras, local_db_path, out_dir)"
   ]
  },
  {
   "cell_type": "code",
   "execution_count": 14,
   "id": "f4501d52",
   "metadata": {},
   "outputs": [
    {
     "name": "stdout",
     "output_type": "stream",
     "text": [
      "             PID  Center     cent_X     cent_Y   cent_lat  cent_long  ransamp  \\\n",
      "71995  0007999_4       0  3255940.0 -3073290.0 -24.288644 -54.514667        1   \n",
      "71996  0007999_5       0  3255960.0 -3073290.0 -24.288644 -54.514449        1   \n",
      "71997  0007999_6       0  3255940.0 -3073300.0 -24.288725 -54.514656        1   \n",
      "71998  0007999_7       0  3255950.0 -3073300.0 -24.288725 -54.514547        1   \n",
      "71999  0007999_8       0  3255960.0 -3073300.0 -24.288725 -54.514438        1   \n",
      "\n",
      "       checked  PID0  PID1           sampgroup  \n",
      "71995        0  7999     4  D1409_Canindeyu_LP  \n",
      "71996        0  7999     5  D1409_Canindeyu_LP  \n",
      "71997        0  7999     6  D1409_Canindeyu_LP  \n",
      "71998        0  7999     7  D1409_Canindeyu_LP  \n",
      "71999        0  7999     8  D1409_Canindeyu_LP  \n"
     ]
    }
   ],
   "source": [
    "table_check = check_table(local_db_path,'pixels')"
   ]
  },
  {
   "cell_type": "code",
   "execution_count": 15,
   "id": "678194de",
   "metadata": {},
   "outputs": [
    {
     "data": {
      "text/plain": [
       "<Axes: >"
      ]
     },
     "execution_count": 15,
     "metadata": {},
     "output_type": "execute_result"
    },
    {
     "data": {
      "image/png": "[encoded data removed]",
      "text/plain": [
       "<Figure size 640x480 with 1 Axes>"
      ]
     },
     "metadata": {},
     "output_type": "display_data"
    }
   ],
   "source": [
    "pts = gpd.read_file(os.path.join(out_dir,'samp_pts.shp'))\n",
    "\n",
    "fig, ax = plt.subplots()\n",
    "gdf = gpd.read_file(aoi_in)\n",
    "gdf.plot(ax=ax, facecolor='none', edgecolor='steelblue')\n",
    "pts.plot(ax=ax, color='r')"
   ]
  },
  {
   "cell_type": "code",
   "execution_count": null,
   "id": "ada8892b",
   "metadata": {},
   "outputs": [],
   "source": []
  }
 ],
 "metadata": {
  "kernelspec": {
   "display_name": "Python [conda env:anaconda3-venv.pheno]",
   "language": "python",
   "name": "conda-env-anaconda3-venv.pheno-py"
  },
  "language_info": {
   "codemirror_mode": {
    "name": "ipython",
    "version": 3
   },
   "file_extension": ".py",
   "mimetype": "text/x-python",
   "name": "python",
   "nbconvert_exporter": "python",
   "pygments_lexer": "ipython3",
   "version": "3.8.18"
  }
 },
 "nbformat": 4,
 "nbformat_minor": 5
}
