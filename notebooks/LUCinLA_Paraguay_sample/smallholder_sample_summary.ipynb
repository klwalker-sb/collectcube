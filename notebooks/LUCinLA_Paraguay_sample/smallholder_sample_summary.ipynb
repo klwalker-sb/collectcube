{
 "cells": [
  {
   "cell_type": "code",
   "execution_count": 1,
   "id": "989552f5",
   "metadata": {},
   "outputs": [],
   "source": [
    "import os\n",
    "import sys\n",
    "from pathlib import Path\n",
    "import pandas as pd\n",
    "from datetime import datetime\n",
    "#import sqlalchemy as sa"
   ]
  },
  {
   "cell_type": "code",
   "execution_count": 2,
   "id": "0af1add6",
   "metadata": {},
   "outputs": [],
   "source": [
    "sys.path.append(r\"../../src/collectcube\")\n",
    "from db import *"
   ]
  },
  {
   "cell_type": "code",
   "execution_count": 4,
   "id": "6c8411a7",
   "metadata": {},
   "outputs": [],
   "source": [
    "#out_dir = '../../data/LUCinLA_paraguay/smSamp'\n",
    "#local_db_path = os.path.join(out_dir, 'landcover.db')\n",
    "out_dir = 'C:/GISprojects/ParaguayValidation/smDistricts'\n",
    "local_db_path = 'C:/GISprojects/ParaguayValidation/smDistricts/landcover.db'"
   ]
  },
  {
   "cell_type": "code",
   "execution_count": 4,
   "id": "f4501d52",
   "metadata": {},
   "outputs": [
    {
     "name": "stdout",
     "output_type": "stream",
     "text": [
      "             PID  Center     cent_X     cent_Y   cent_lat  cent_long  ransamp  \\\n",
      "49495  0005499_4       0  2974500.0 -3213020.0 -25.431507 -57.444894        1   \n",
      "49496  0005499_5       0  2974520.0 -3213020.0 -25.431507 -57.444675        1   \n",
      "49497  0005499_6       0  2974500.0 -3213030.0 -25.431589 -57.444883        1   \n",
      "49498  0005499_7       0  2974510.0 -3213030.0 -25.431589 -57.444774        1   \n",
      "49499  0005499_8       0  2974520.0 -3213030.0 -25.431589 -57.444665        1   \n",
      "\n",
      "       checked  PID0  PID1          sampgroup  \n",
      "49495        0  5499     4  D1119_Central_JAS  \n",
      "49496        0  5499     5  D1119_Central_JAS  \n",
      "49497        0  5499     6  D1119_Central_JAS  \n",
      "49498        0  5499     7  D1119_Central_JAS  \n",
      "49499        0  5499     8  D1119_Central_JAS  \n"
     ]
    }
   ],
   "source": [
    "table_check = check_table(local_db_path,'pixels')"
   ]
  },
  {
   "cell_type": "markdown",
   "id": "23ae9dc2",
   "metadata": {},
   "source": [
    "## Data cleaning (e.g. if pandas import below doesn't work)\n",
    "Note: need for this should be eliminated as more formatting restrictions are placed in db entry functions"
   ]
  },
  {
   "cell_type": "markdown",
   "id": "c669a3e2",
   "metadata": {},
   "source": [
    "### manipulating table (should not need to do this here)"
   ]
  },
  {
   "cell_type": "code",
   "execution_count": 16,
   "id": "f882d46a",
   "metadata": {},
   "outputs": [
    {
     "name": "stdout",
     "output_type": "stream",
     "text": [
      "(1994, '2701_0', 2701, 0, '2021_03-07', 40, 48, 5, '', '', '', '', '', '', '', '', '', 40, '', 60, '', '', '', '', '', '--', '--', '', 4)\n"
     ]
    }
   ],
   "source": [
    "'''\n",
    "con = sqlite3.connect(local_db_path)\n",
    "c = con.cursor()\n",
    "## adding a new column to existing table\n",
    "c.execute(\"ALTER TABLE PixelVerification ADD COLUMN entry_lev INTEGER\")\n",
    "## filling column in existing table\n",
    "#c.execute(\"UPDATE PixelVerification SET entry_lev = 4 WHERE entry_lev IS NULL\")\n",
    "con.commit()      \n",
    "c.close()"
   ]
  },
  {
   "cell_type": "markdown",
   "id": "34811220",
   "metadata": {},
   "source": [
    "### querying table (e.g. for bad records)"
   ]
  },
  {
   "cell_type": "code",
   "execution_count": 17,
   "id": "e58ad1f7",
   "metadata": {},
   "outputs": [
    {
     "name": "stdout",
     "output_type": "stream",
     "text": [
      "(1994, '2701_0', 2701, 0, '2021_03-07', 40, 48, 5, '', '', '', '', '', '', '', '', '', 40, '', 60, '', '', '', '', '', '--', '--', '', 4)\n"
     ]
    }
   ],
   "source": [
    "'''\n",
    "con = sqlite3.connect(local_db_path)\n",
    "c = con.cursor()\n",
    "c.execute(\"SELECT * FROM PixelVerification  WHERE imgDate = '2021_03-07'\")\n",
    "con.commit()\n",
    "print(c.fetchone()) "
   ]
  },
  {
   "cell_type": "markdown",
   "id": "a69dd3e8",
   "metadata": {},
   "source": [
    "### fixing bad records"
   ]
  },
  {
   "cell_type": "code",
   "execution_count": 19,
   "id": "8f2667b6",
   "metadata": {},
   "outputs": [],
   "source": [
    "'''\n",
    "con = sqlite3.connect(local_db_path)\n",
    "c = con.cursor()\n",
    "c.execute(\"UPDATE PixelVerification SET imgDate = '2021-03-07' WHERE imgDate ='2021_03-07'\")\n",
    "con.commit()\n",
    "c.close()"
   ]
  },
  {
   "cell_type": "markdown",
   "id": "b7fc5718",
   "metadata": {},
   "source": [
    "## Open db table as pandas dataframe"
   ]
  },
  {
   "cell_type": "code",
   "execution_count": 20,
   "id": "1c9c03f9",
   "metadata": {},
   "outputs": [
    {
     "data": {
      "text/html": [
       "<div>\n",
       "<style scoped>\n",
       "    .dataframe tbody tr th:only-of-type {\n",
       "        vertical-align: middle;\n",
       "    }\n",
       "\n",
       "    .dataframe tbody tr th {\n",
       "        vertical-align: top;\n",
       "    }\n",
       "\n",
       "    .dataframe thead th {\n",
       "        text-align: right;\n",
       "    }\n",
       "</style>\n",
       "<table border=\"1\" class=\"dataframe\">\n",
       "  <thead>\n",
       "    <tr style=\"text-align: right;\">\n",
       "      <th></th>\n",
       "      <th>recID</th>\n",
       "      <th>PID</th>\n",
       "      <th>PID0</th>\n",
       "      <th>PID1</th>\n",
       "      <th>imgDate</th>\n",
       "      <th>LC5</th>\n",
       "      <th>LC</th>\n",
       "      <th>HOMONBHD9</th>\n",
       "      <th>ForestProx</th>\n",
       "      <th>WaterProx</th>\n",
       "      <th>...</th>\n",
       "      <th>MEDVEG</th>\n",
       "      <th>TREEPLANT0</th>\n",
       "      <th>HIGHVEG</th>\n",
       "      <th>TREEPLANT</th>\n",
       "      <th>FOREST</th>\n",
       "      <th>Age</th>\n",
       "      <th>Stability</th>\n",
       "      <th>State</th>\n",
       "      <th>Notes</th>\n",
       "      <th>entry_lev</th>\n",
       "    </tr>\n",
       "  </thead>\n",
       "  <tbody>\n",
       "    <tr>\n",
       "      <th>0</th>\n",
       "      <td>1</td>\n",
       "      <td>0_0</td>\n",
       "      <td>0</td>\n",
       "      <td>0</td>\n",
       "      <td>2000-01-01</td>\n",
       "      <td>0</td>\n",
       "      <td>0</td>\n",
       "      <td>8.0</td>\n",
       "      <td></td>\n",
       "      <td></td>\n",
       "      <td>...</td>\n",
       "      <td></td>\n",
       "      <td></td>\n",
       "      <td></td>\n",
       "      <td></td>\n",
       "      <td></td>\n",
       "      <td></td>\n",
       "      <td>--</td>\n",
       "      <td>--</td>\n",
       "      <td></td>\n",
       "      <td>4</td>\n",
       "    </tr>\n",
       "    <tr>\n",
       "      <th>1</th>\n",
       "      <td>2</td>\n",
       "      <td>2500_0</td>\n",
       "      <td>2500</td>\n",
       "      <td>0</td>\n",
       "      <td>2007-06-07</td>\n",
       "      <td>20</td>\n",
       "      <td>31</td>\n",
       "      <td>8.0</td>\n",
       "      <td></td>\n",
       "      <td></td>\n",
       "      <td>...</td>\n",
       "      <td></td>\n",
       "      <td></td>\n",
       "      <td></td>\n",
       "      <td></td>\n",
       "      <td></td>\n",
       "      <td></td>\n",
       "      <td>--</td>\n",
       "      <td>--</td>\n",
       "      <td></td>\n",
       "      <td>4</td>\n",
       "    </tr>\n",
       "    <tr>\n",
       "      <th>2</th>\n",
       "      <td>3</td>\n",
       "      <td>2500_0</td>\n",
       "      <td>2500</td>\n",
       "      <td>0</td>\n",
       "      <td>2008-12-03</td>\n",
       "      <td>20</td>\n",
       "      <td>31</td>\n",
       "      <td>8.0</td>\n",
       "      <td></td>\n",
       "      <td></td>\n",
       "      <td>...</td>\n",
       "      <td></td>\n",
       "      <td></td>\n",
       "      <td></td>\n",
       "      <td></td>\n",
       "      <td></td>\n",
       "      <td></td>\n",
       "      <td>--</td>\n",
       "      <td>--</td>\n",
       "      <td></td>\n",
       "      <td>4</td>\n",
       "    </tr>\n",
       "    <tr>\n",
       "      <th>3</th>\n",
       "      <td>4</td>\n",
       "      <td>2500_0</td>\n",
       "      <td>2500</td>\n",
       "      <td>0</td>\n",
       "      <td>2013-07-10</td>\n",
       "      <td>20</td>\n",
       "      <td>31</td>\n",
       "      <td>8.0</td>\n",
       "      <td></td>\n",
       "      <td></td>\n",
       "      <td>...</td>\n",
       "      <td></td>\n",
       "      <td></td>\n",
       "      <td></td>\n",
       "      <td></td>\n",
       "      <td></td>\n",
       "      <td></td>\n",
       "      <td>--</td>\n",
       "      <td>--</td>\n",
       "      <td></td>\n",
       "      <td>4</td>\n",
       "    </tr>\n",
       "    <tr>\n",
       "      <th>4</th>\n",
       "      <td>5</td>\n",
       "      <td>2500_0</td>\n",
       "      <td>2500</td>\n",
       "      <td>0</td>\n",
       "      <td>2016-05-17</td>\n",
       "      <td>20</td>\n",
       "      <td>31</td>\n",
       "      <td>8.0</td>\n",
       "      <td></td>\n",
       "      <td></td>\n",
       "      <td>...</td>\n",
       "      <td></td>\n",
       "      <td></td>\n",
       "      <td></td>\n",
       "      <td></td>\n",
       "      <td></td>\n",
       "      <td></td>\n",
       "      <td>--</td>\n",
       "      <td>--</td>\n",
       "      <td></td>\n",
       "      <td>4</td>\n",
       "    </tr>\n",
       "  </tbody>\n",
       "</table>\n",
       "<p>5 rows × 29 columns</p>\n",
       "</div>"
      ],
      "text/plain": [
       "   recID     PID  PID0  PID1    imgDate  LC5  LC  HOMONBHD9 ForestProx  \\\n",
       "0      1     0_0     0     0 2000-01-01    0   0        8.0              \n",
       "1      2  2500_0  2500     0 2007-06-07   20  31        8.0              \n",
       "2      3  2500_0  2500     0 2008-12-03   20  31        8.0              \n",
       "3      4  2500_0  2500     0 2013-07-10   20  31        8.0              \n",
       "4      5  2500_0  2500     0 2016-05-17   20  31        8.0              \n",
       "\n",
       "  WaterProx  ... MEDVEG TREEPLANT0 HIGHVEG TREEPLANT FOREST Age Stability  \\\n",
       "0            ...                                                       --   \n",
       "1            ...                                                       --   \n",
       "2            ...                                                       --   \n",
       "3            ...                                                       --   \n",
       "4            ...                                                       --   \n",
       "\n",
       "  State Notes entry_lev  \n",
       "0    --               4  \n",
       "1    --               4  \n",
       "2    --               4  \n",
       "3    --               4  \n",
       "4    --               4  \n",
       "\n",
       "[5 rows x 29 columns]"
      ]
     },
     "execution_count": 20,
     "metadata": {},
     "output_type": "execute_result"
    }
   ],
   "source": [
    "## This uses sqlalchemy but is prefered because it will make sure that formatting is correct\n",
    "engine = create_engine('sqlite:///'+ local_db_path)\n",
    "with engine.connect() as con:\n",
    "    df = pd.read_sql_table('PixelVerification', con)\n",
    "df.head()"
   ]
  },
  {
   "cell_type": "code",
   "execution_count": 5,
   "id": "3d0127a3",
   "metadata": {},
   "outputs": [],
   "source": [
    "\n",
    "## This uses only sqllite and can be used to examine table if the above fails\n",
    "conn = sqlite3.connect(local_db_path, isolation_level=None,\n",
    "    detect_types=sqlite3.PARSE_COLNAMES)\n",
    "db_df = pd.read_sql_query(\"SELECT * FROM PixelVerification\", conn)\n",
    "db_df.head()\n",
    "db_df.to_csv(os.path.join('C:/GISprojects/ParaguayValidation/smDistricts','sm_test_db.csv'), index=False)"
   ]
  },
  {
   "cell_type": "code",
   "execution_count": null,
   "id": "ada8892b",
   "metadata": {},
   "outputs": [],
   "source": []
  }
 ],
 "metadata": {
  "kernelspec": {
   "display_name": "Python [conda env:anaconda3-venv.pheno]",
   "language": "python",
   "name": "conda-env-anaconda3-venv.pheno-py"
  },
  "language_info": {
   "codemirror_mode": {
    "name": "ipython",
    "version": 3
   },
   "file_extension": ".py",
   "mimetype": "text/x-python",
   "name": "python",
   "nbconvert_exporter": "python",
   "pygments_lexer": "ipython3",
   "version": "3.8.18"
  }
 },
 "nbformat": 4,
 "nbformat_minor": 5
}
