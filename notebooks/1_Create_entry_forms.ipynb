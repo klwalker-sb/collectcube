{
 "cells": [
  {
   "cell_type": "code",
   "execution_count": 5,
   "id": "2afa2e80",
   "metadata": {},
   "outputs": [],
   "source": [
    "# coding: utf-8"
   ]
  },
  {
   "cell_type": "code",
   "execution_count": 1,
   "id": "989552f5",
   "metadata": {},
   "outputs": [],
   "source": [
    "import os\n",
    "import sys\n",
    "from pathlib import Path\n",
    "import pandas as pd\n",
    "import sqlite3\n",
    "#from sqlalchemy import create_engine\n",
    "#from sqlalchemy.sql import select\n",
    "\n",
    "from PyQt6.QtCore import QSize, Qt\n",
    "from PyQt6.QtSql import QSqlDatabase, QSqlTableModel\n",
    "from PyQt6.QtWidgets import (\n",
    "    QApplication,\n",
    "    QComboBox,\n",
    "    QDataWidgetMapper,\n",
    "    QDateTimeEdit,\n",
    "    QFormLayout,\n",
    "    QHBoxLayout,\n",
    "    QLabel,\n",
    "    QLineEdit,\n",
    "    QMainWindow,\n",
    "    QPushButton,\n",
    "    QVBoxLayout,\n",
    "    QWidget,\n",
    ")"
   ]
  },
  {
   "cell_type": "code",
   "execution_count": 2,
   "id": "0af1add6",
   "metadata": {},
   "outputs": [],
   "source": [
    "sys.path.append(r\"../src/collectcube\")\n",
    "from db import *"
   ]
  },
  {
   "cell_type": "markdown",
   "id": "84702eab",
   "metadata": {},
   "source": [
    "## Make basic entry form"
   ]
  }
 ],
 "metadata": {
  "kernelspec": {
   "display_name": "Python [conda env:anaconda3-venv.pheno]",
   "language": "python",
   "name": "conda-env-anaconda3-venv.pheno-py"
  },
  "language_info": {
   "codemirror_mode": {
    "name": "ipython",
    "version": 3
   },
   "file_extension": ".py",
   "mimetype": "text/x-python",
   "name": "python",
   "nbconvert_exporter": "python",
   "pygments_lexer": "ipython3",
   "version": "3.8.18"
  }
 },
 "nbformat": 4,
 "nbformat_minor": 5
}
