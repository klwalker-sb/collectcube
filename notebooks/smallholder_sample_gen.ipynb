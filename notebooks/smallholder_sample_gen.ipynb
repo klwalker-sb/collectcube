{
 "cells": [
  {
   "cell_type": "code",
   "execution_count": 1,
   "id": "989552f5",
   "metadata": {},
   "outputs": [],
   "source": [
    "import os\n",
    "import sys\n",
    "import random\n",
    "from pathlib import Path\n",
    "import osgeo  #Needed for use on Windows only\n",
    "import matplotlib.pyplot as plt\n",
    "from rasterio import plot\n",
    "from rasterio.plot import show\n",
    "import geopandas as gpd\n",
    "from datetime import datetime\n",
    "import sqlalchemy as sa\n",
    "%matplotlib inline"
   ]
  },
  {
   "cell_type": "code",
   "execution_count": 2,
   "id": "0af1add6",
   "metadata": {},
   "outputs": [],
   "source": [
    "sys.path.append(r\"../src/collectcube\")\n",
    "from samplegen import *\n",
    "from db import *"
   ]
  },
  {
   "cell_type": "code",
   "execution_count": 5,
   "id": "6c8411a7",
   "metadata": {},
   "outputs": [],
   "source": [
    "## aoi_in = shapefile or geopkg with polygon objet(s) sample form\n",
    "aoi_in = Path(\"../data/smSamp/smSampDistricts.shp\")\n",
    "out_dir = '../data/smSamp'\n",
    "local_db_path = os.path.join(out_dir, 'landcover.db')\n",
    "## reference .tif with target crs and resolution\n",
    "ref_ras = Path(\"../data/samp_ras.tif\")\n",
    "\n",
    "res = 10"
   ]
  },
  {
   "cell_type": "code",
   "execution_count": 10,
   "id": "f8d4c0ac",
   "metadata": {},
   "outputs": [
    {
     "name": "stdout",
     "output_type": "stream",
     "text": [
      "['D0102_Concepcion_B', 'D0103_Concepcion_H', 'D0217_SanPedro_C', 'D0301_Cordillera_C', 'D0502_Caaguazu_C', 'D0518_Caaguazu_3F', 'D0603_Caazapa_B', 'D0607_Caazapa_SJN', 'D0806_Misiones_SM', 'D1106_Central_I', 'D1119_Central_JAS']\n"
     ]
    }
   ],
   "source": [
    "samp_polys = gpd.read_file(aoi_in)\n",
    "samp_dists = samp_polys['UNQ'].values.tolist()\n",
    "print(samp_dists)"
   ]
  },
  {
   "cell_type": "markdown",
   "id": "864dd318",
   "metadata": {},
   "source": [
    "## Get random sample within polygon"
   ]
  },
  {
   "cell_type": "code",
   "execution_count": 11,
   "id": "e3515b88",
   "metadata": {},
   "outputs": [],
   "source": [
    "def get_multi_poly_sample(aoi_in,sampsize, ref_ras, out_dir):\n",
    "    local_db_path = os.path.join(out_dir, 'landcover.db')\n",
    "    pt_file_out = os.path.join(out_dir,'samp_pts.shp')\n",
    "    box_file_out = os.path.join(out_dir,'samp_boxes.shp')\n",
    "    \n",
    "    samp_polys = gpd.read_file(aoi_in)\n",
    "    samp_dists = samp_polys['UNQ'].values.tolist()\n",
    "    for i,subply in enumerate(samp_dists):\n",
    "        if subply == None:\n",
    "            print('oops -- No UNQ')\n",
    "        else:\n",
    "            print(subply)\n",
    "            gs = get_sample_in_poly(aoi_in, sampsize, seed=992, subpoly=subply)\n",
    "            gs_shift = move_points_to_pixel_centroids(gs, ref_ras, write_pts=False)\n",
    "            maxpid = get_max_id_in_db(local_db_path)\n",
    "            print(f'maxid={maxpid}')\n",
    "            if i==0:\n",
    "                pts = get_full_point_file(gs_shift, pt_file_out, res, lastpt=maxpid, write_pts=False)\n",
    "                ptsdf = make_pixel_table(pts,subply)\n",
    "            else:\n",
    "                pts_sub = get_full_point_file(gs_shift, pt_file_out, res, lastpt=maxpid, write_pts=False)\n",
    "                ptsdf = make_pixel_table(pts_sub,subply)\n",
    "                pts = pd.concat([pts,pts_sub], axis=0)\n",
    "    \n",
    "            #print(ptsdf.tail())\n",
    "            make_pixel_table_in_db(ptsdf, local_db_path, 'append')\n",
    "            \n",
    "    centpts = pts[pts['Center']==1]\n",
    "    centpts.to_file(pt_file_out, driver='ESRI Shapefile')\n",
    "    boxes = make_pixel_boxes_from_pts(pts, box_file_out, res, write_boxes=True)\n",
    "    \n",
    "    return pts"
   ]
  },
  {
   "cell_type": "code",
   "execution_count": 12,
   "id": "748bcf2e",
   "metadata": {},
   "outputs": [
    {
     "name": "stdout",
     "output_type": "stream",
     "text": [
      "D0102_Concepcion_B\n",
      "aoi file has crs:epsg:8858\n",
      "ref_ras has crs:EPSG:8858\n",
      "maxid=-1\n",
      "<class 'geopandas.geodataframe.GeoDataFrame'>\n",
      "there are 4000 neighbor pixels\n",
      "there are 4500 total pixels\n",
      "D0103_Concepcion_H\n",
      "aoi file has crs:epsg:8858\n",
      "ref_ras has crs:EPSG:8858\n",
      "maxid=499\n",
      "<class 'geopandas.geodataframe.GeoDataFrame'>\n",
      "there are 4000 neighbor pixels\n",
      "there are 4500 total pixels\n",
      "D0217_SanPedro_C\n",
      "aoi file has crs:epsg:8858\n",
      "ref_ras has crs:EPSG:8858\n",
      "maxid=999\n",
      "<class 'geopandas.geodataframe.GeoDataFrame'>\n",
      "there are 4000 neighbor pixels\n",
      "there are 4500 total pixels\n",
      "D0301_Cordillera_C\n",
      "aoi file has crs:epsg:8858\n",
      "ref_ras has crs:EPSG:8858\n",
      "maxid=1499\n",
      "<class 'geopandas.geodataframe.GeoDataFrame'>\n",
      "there are 4000 neighbor pixels\n",
      "there are 4500 total pixels\n",
      "D0502_Caaguazu_C\n",
      "aoi file has crs:epsg:8858\n",
      "ref_ras has crs:EPSG:8858\n",
      "maxid=1999\n",
      "<class 'geopandas.geodataframe.GeoDataFrame'>\n",
      "there are 4000 neighbor pixels\n",
      "there are 4500 total pixels\n",
      "D0518_Caaguazu_3F\n",
      "aoi file has crs:epsg:8858\n",
      "ref_ras has crs:EPSG:8858\n",
      "maxid=2499\n",
      "<class 'geopandas.geodataframe.GeoDataFrame'>\n",
      "there are 4000 neighbor pixels\n",
      "there are 4500 total pixels\n",
      "D0603_Caazapa_B\n",
      "aoi file has crs:epsg:8858\n",
      "ref_ras has crs:EPSG:8858\n",
      "maxid=2999\n",
      "<class 'geopandas.geodataframe.GeoDataFrame'>\n",
      "there are 4000 neighbor pixels\n",
      "there are 4500 total pixels\n",
      "D0607_Caazapa_SJN\n",
      "aoi file has crs:epsg:8858\n",
      "ref_ras has crs:EPSG:8858\n",
      "maxid=3499\n",
      "<class 'geopandas.geodataframe.GeoDataFrame'>\n",
      "there are 4000 neighbor pixels\n",
      "there are 4500 total pixels\n",
      "D0806_Misiones_SM\n",
      "aoi file has crs:epsg:8858\n",
      "ref_ras has crs:EPSG:8858\n",
      "maxid=3999\n",
      "<class 'geopandas.geodataframe.GeoDataFrame'>\n",
      "there are 4000 neighbor pixels\n",
      "there are 4500 total pixels\n",
      "D1106_Central_I\n",
      "aoi file has crs:epsg:8858\n",
      "ref_ras has crs:EPSG:8858\n",
      "maxid=4499\n",
      "<class 'geopandas.geodataframe.GeoDataFrame'>\n",
      "there are 4000 neighbor pixels\n",
      "there are 4500 total pixels\n",
      "D1119_Central_JAS\n",
      "aoi file has crs:epsg:8858\n",
      "ref_ras has crs:EPSG:8858\n",
      "maxid=4999\n",
      "<class 'geopandas.geodataframe.GeoDataFrame'>\n",
      "there are 4000 neighbor pixels\n",
      "there are 4500 total pixels\n"
     ]
    }
   ],
   "source": [
    "samp = get_multi_poly_sample(aoi_in,500, ref_ras, out_dir)"
   ]
  },
  {
   "cell_type": "code",
   "execution_count": 7,
   "id": "f4501d52",
   "metadata": {},
   "outputs": [
    {
     "name": "stdout",
     "output_type": "stream",
     "text": [
      "             PID  Center     cent_X     cent_Y   cent_lat  cent_long  ransamp  \\\n",
      "98995  0010999_4       0  2974500.0 -3213020.0 -25.431507 -57.444894        1   \n",
      "98996  0010999_5       0  2974520.0 -3213020.0 -25.431507 -57.444675        1   \n",
      "98997  0010999_6       0  2974500.0 -3213030.0 -25.431589 -57.444883        1   \n",
      "98998  0010999_7       0  2974510.0 -3213030.0 -25.431589 -57.444774        1   \n",
      "98999  0010999_8       0  2974520.0 -3213030.0 -25.431589 -57.444665        1   \n",
      "\n",
      "       checked   PID0  PID1          sampgroup  \n",
      "98995        0  10999     4  D1119_Central_JAS  \n",
      "98996        0  10999     5  D1119_Central_JAS  \n",
      "98997        0  10999     6  D1119_Central_JAS  \n",
      "98998        0  10999     7  D1119_Central_JAS  \n",
      "98999        0  10999     8  D1119_Central_JAS  \n"
     ]
    }
   ],
   "source": [
    "table_check = check_table(local_db_path,'pixels')"
   ]
  },
  {
   "cell_type": "code",
   "execution_count": 4,
   "id": "678194de",
   "metadata": {},
   "outputs": [
    {
     "data": {
      "text/plain": [
       "<Axes: >"
      ]
     },
     "execution_count": 4,
     "metadata": {},
     "output_type": "execute_result"
    },
    {
     "data": {
      "image/png": "[encoded data removed]",
      "text/plain": [
       "<Figure size 640x480 with 1 Axes>"
      ]
     },
     "metadata": {},
     "output_type": "display_data"
    }
   ],
   "source": [
    "pts = gpd.read_file(os.path.join(out_dir,'samp_pts.shp'))\n",
    "\n",
    "fig, ax = plt.subplots()\n",
    "gdf = gpd.read_file(aoi_in)\n",
    "gdf.plot(ax=ax, facecolor='none', edgecolor='steelblue')\n",
    "pts.plot(ax=ax, color='r')"
   ]
  },
  {
   "cell_type": "code",
   "execution_count": 4,
   "id": "dd7fc1c5",
   "metadata": {},
   "outputs": [],
   "source": [
    "zoom = find_poly_on_image(1, ref_ras, boxes)"
   ]
  },
  {
   "cell_type": "markdown",
   "id": "e8965157",
   "metadata": {},
   "source": [
    "## Make other db tables"
   ]
  },
  {
   "cell_type": "code",
   "execution_count": 7,
   "id": "19f0533a",
   "metadata": {},
   "outputs": [],
   "source": [
    "lc_lut = Path(\"../data/Class_LUT.csv\")\n",
    "make_LC_table_from_lut(lc_lut, local_db_path, treat_existing='fail')\n",
    "make_simp_LC_table(lc_lut, local_db_path, [0,30,35,40,80,98], treat_existing='fail')\n",
    "make_db(local_db_path)"
   ]
  },
  {
   "cell_type": "markdown",
   "id": "9ff02a53",
   "metadata": {},
   "source": [
    "## checks:"
   ]
  },
  {
   "cell_type": "code",
   "execution_count": 6,
   "id": "1e58bd27",
   "metadata": {},
   "outputs": [
    {
     "name": "stdout",
     "output_type": "stream",
     "text": [
      "[(0, ' ------'), (10, 'NoVeg'), (20, 'LowVeg'), (40, 'MedVeg'), (50, 'HighVeg'), (70, 'Trees'), (99, 'Unknown')]\n"
     ]
    }
   ],
   "source": [
    "engine = create_engine('sqlite:///'+ local_db_path)\n",
    "with engine.connect() as conn:\n",
    "    lc5_table = Table('LC5', MetaData(), autoload_with=engine)\n",
    "    rp = conn.execute(lc5_table.select())\n",
    "results = rp.fetchall() \n",
    "print(results)"
   ]
  },
  {
   "cell_type": "markdown",
   "id": "b3951bd6",
   "metadata": {},
   "source": [
    "## updating db (should not need if starting new db)"
   ]
  },
  {
   "cell_type": "code",
   "execution_count": 18,
   "id": "ff7ea030",
   "metadata": {},
   "outputs": [],
   "source": [
    "#local_db_path = '../data/example/landcover.db'\n",
    "#con = sqlite3.connect(local_db_path)\n",
    "#c = con.cursor()\n",
    "## adding a new column to existing table\n",
    "#c.execute(\"ALTER TABLE PixelVerification ADD COLUMN entry_lev INTEGER\")\n",
    "## filling column in existing table\n",
    "#c.execute(\"UPDATE PixelVerification SET entry_lev = 4 WHERE entry_lev IS NULL\")\n",
    "#con.commit()\n",
    "#c.close()"
   ]
  },
  {
   "cell_type": "code",
   "execution_count": 14,
   "id": "1c9c03f9",
   "metadata": {},
   "outputs": [
    {
     "data": {
      "text/html": [
       "<div>\n",
       "<style scoped>\n",
       "    .dataframe tbody tr th:only-of-type {\n",
       "        vertical-align: middle;\n",
       "    }\n",
       "\n",
       "    .dataframe tbody tr th {\n",
       "        vertical-align: top;\n",
       "    }\n",
       "\n",
       "    .dataframe thead th {\n",
       "        text-align: right;\n",
       "    }\n",
       "</style>\n",
       "<table border=\"1\" class=\"dataframe\">\n",
       "  <thead>\n",
       "    <tr style=\"text-align: right;\">\n",
       "      <th></th>\n",
       "      <th>recID</th>\n",
       "      <th>PID</th>\n",
       "      <th>PID0</th>\n",
       "      <th>PID1</th>\n",
       "      <th>imgDate</th>\n",
       "      <th>LC5</th>\n",
       "      <th>LC</th>\n",
       "      <th>HOMONBHD9</th>\n",
       "      <th>ForestProx</th>\n",
       "      <th>WaterProx</th>\n",
       "      <th>...</th>\n",
       "      <th>MEDVEG</th>\n",
       "      <th>TREEPLANT0</th>\n",
       "      <th>HIGHVEG</th>\n",
       "      <th>TREEPLANT</th>\n",
       "      <th>FOREST</th>\n",
       "      <th>Age</th>\n",
       "      <th>Stability</th>\n",
       "      <th>State</th>\n",
       "      <th>Notes</th>\n",
       "      <th>entry_lev</th>\n",
       "    </tr>\n",
       "  </thead>\n",
       "  <tbody>\n",
       "    <tr>\n",
       "      <th>0</th>\n",
       "      <td>1</td>\n",
       "      <td>0_0</td>\n",
       "      <td>0</td>\n",
       "      <td>0</td>\n",
       "      <td>2000-01-01</td>\n",
       "      <td>0</td>\n",
       "      <td>0</td>\n",
       "      <td>8</td>\n",
       "      <td>None</td>\n",
       "      <td>None</td>\n",
       "      <td>...</td>\n",
       "      <td>None</td>\n",
       "      <td>None</td>\n",
       "      <td>None</td>\n",
       "      <td>None</td>\n",
       "      <td>None</td>\n",
       "      <td>None</td>\n",
       "      <td>None</td>\n",
       "      <td>None</td>\n",
       "      <td>None</td>\n",
       "      <td>None</td>\n",
       "    </tr>\n",
       "  </tbody>\n",
       "</table>\n",
       "<p>1 rows × 29 columns</p>\n",
       "</div>"
      ],
      "text/plain": [
       "   recID  PID  PID0  PID1    imgDate  LC5  LC  HOMONBHD9 ForestProx WaterProx  \\\n",
       "0      1  0_0     0     0 2000-01-01    0   0          8       None      None   \n",
       "\n",
       "   ... MEDVEG TREEPLANT0 HIGHVEG TREEPLANT FOREST   Age Stability State Notes  \\\n",
       "0  ...   None       None    None      None   None  None      None  None  None   \n",
       "\n",
       "  entry_lev  \n",
       "0      None  \n",
       "\n",
       "[1 rows x 29 columns]"
      ]
     },
     "execution_count": 14,
     "metadata": {},
     "output_type": "execute_result"
    }
   ],
   "source": [
    "engine = create_engine('sqlite:///'+ local_db_path)\n",
    "with engine.connect() as con:\n",
    "    df = pd.read_sql_table('PixelVerification', con)\n",
    "df.head()"
   ]
  },
  {
   "cell_type": "markdown",
   "id": "d47f96ea",
   "metadata": {},
   "source": [
    "## add first record"
   ]
  },
  {
   "cell_type": "code",
   "execution_count": 10,
   "id": "99f1f488",
   "metadata": {},
   "outputs": [
    {
     "name": "stdout",
     "output_type": "stream",
     "text": [
      "(1,)\n"
     ]
    }
   ],
   "source": [
    "## first record:\n",
    "testDate = datetime(2000,1,1)\n",
    "with engine.connect() as conn:\n",
    "    pixvar = Table('PixelVerification', MetaData(), autoload_with=engine)\n",
    "    query = sa.insert(pixvar).values(PID='0_0', PID0=0, PID1=0, imgDate=testDate,LC5=0,LC=0,HOMONBHD9=8) \n",
    "    go = conn.execute(query)\n",
    "    conn.commit()\n",
    "print(go.inserted_primary_key)"
   ]
  },
  {
   "cell_type": "markdown",
   "id": "2e791ca3",
   "metadata": {},
   "source": [
    "## open db form"
   ]
  },
  {
   "cell_type": "code",
   "execution_count": 14,
   "id": "e6524aed",
   "metadata": {},
   "outputs": [
    {
     "ename": "ModuleNotFoundError",
     "evalue": "No module named 'PyQt5'",
     "output_type": "error",
     "traceback": [
      "\u001b[1;31m---------------------------------------------------------------------------\u001b[0m",
      "\u001b[1;31mModuleNotFoundError\u001b[0m                       Traceback (most recent call last)",
      "Cell \u001b[1;32mIn [14], line 1\u001b[0m\n\u001b[1;32m----> 1\u001b[0m \u001b[38;5;28;01mfrom\u001b[39;00m \u001b[38;5;21;01mqt\u001b[39;00m \u001b[38;5;28;01mimport\u001b[39;00m \u001b[38;5;241m*\u001b[39m\n\u001b[0;32m      2\u001b[0m \u001b[38;5;28;01mfrom\u001b[39;00m \u001b[38;5;21;01mentryform_main\u001b[39;00m \u001b[38;5;28;01mimport\u001b[39;00m \u001b[38;5;241m*\u001b[39m\n\u001b[0;32m      3\u001b[0m local_db_path \u001b[38;5;241m=\u001b[39m \u001b[38;5;124m'\u001b[39m\u001b[38;5;124m../data/example/landcover.db\u001b[39m\u001b[38;5;124m'\u001b[39m\n",
      "File \u001b[1;32m~\\Desktop\\NasaProject\\RemoteComputing\\CollectCube\\notebooks\\../src/collectcube\\qt.py:10\u001b[0m\n\u001b[0;32m      6\u001b[0m \u001b[38;5;28;01mimport\u001b[39;00m \u001b[38;5;21;01msqlite3\u001b[39;00m\n\u001b[0;32m      7\u001b[0m \u001b[38;5;66;03m#import pandas as pd\u001b[39;00m\n\u001b[0;32m      8\u001b[0m \u001b[38;5;66;03m#from sqlalchemy import create_engine\u001b[39;00m\n\u001b[0;32m      9\u001b[0m \u001b[38;5;66;03m#from sqlalchemy import Table, Column, Integer, Numeric, Text, Date, ForeignKey, insert, MetaData\u001b[39;00m\n\u001b[1;32m---> 10\u001b[0m \u001b[38;5;28;01mfrom\u001b[39;00m \u001b[38;5;21;01mPyQt5\u001b[39;00m\u001b[38;5;21;01m.\u001b[39;00m\u001b[38;5;21;01mQtSql\u001b[39;00m \u001b[38;5;28;01mimport\u001b[39;00m QSqlDatabase  \u001b[38;5;66;03m# PyQt6 version crashes for me \u001b[39;00m\n\u001b[0;32m     11\u001b[0m \u001b[38;5;28;01mfrom\u001b[39;00m \u001b[38;5;21;01mPyQt5\u001b[39;00m\u001b[38;5;21;01m.\u001b[39;00m\u001b[38;5;21;01mQtSql\u001b[39;00m \u001b[38;5;28;01mimport\u001b[39;00m QSqlTableModel, QSqlRelation, QSqlRelationalTableModel\n\u001b[0;32m     12\u001b[0m \u001b[38;5;28;01mfrom\u001b[39;00m \u001b[38;5;21;01mPyQt5\u001b[39;00m\u001b[38;5;21;01m.\u001b[39;00m\u001b[38;5;21;01mQtCore\u001b[39;00m \u001b[38;5;28;01mimport\u001b[39;00m QSize, Qt\n",
      "\u001b[1;31mModuleNotFoundError\u001b[0m: No module named 'PyQt5'"
     ]
    }
   ],
   "source": [
    "from qt import *\n",
    "from entryform_main import *\n",
    "local_db_path = '../data/example/landcover.db'\n",
    "open_obs_ui(local_db_path)"
   ]
  },
  {
   "cell_type": "code",
   "execution_count": null,
   "id": "ada8892b",
   "metadata": {},
   "outputs": [],
   "source": []
  }
 ],
 "metadata": {
  "kernelspec": {
   "display_name": "Python [conda env:anaconda3-venv.pheno]",
   "language": "python",
   "name": "conda-env-anaconda3-venv.pheno-py"
  },
  "language_info": {
   "codemirror_mode": {
    "name": "ipython",
    "version": 3
   },
   "file_extension": ".py",
   "mimetype": "text/x-python",
   "name": "python",
   "nbconvert_exporter": "python",
   "pygments_lexer": "ipython3",
   "version": "3.8.18"
  }
 },
 "nbformat": 4,
 "nbformat_minor": 5
}
